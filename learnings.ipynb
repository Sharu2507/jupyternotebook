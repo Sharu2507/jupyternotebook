{
 "cells": [
  {
   "cell_type": "code",
   "execution_count": 2,
   "id": "2b9b13f5-b841-42a8-95b3-b00bc79dff22",
   "metadata": {},
   "outputs": [
    {
     "name": "stdout",
     "output_type": "stream",
     "text": [
      "20% discount\n"
     ]
    }
   ],
   "source": [
    "# if condition\n",
    "\n",
    "order = 1000\n",
    "day =\"sat\"\n",
    "membership =\"Gold\"\n",
    "if (order>=1000 and day in [\"sat\" ,\"sun\"]) or membership == \"Gold\":\n",
    "    print(\"20% discount\")\n",
    "else:\n",
    "    print(\"10% discount\")"
   ]
  },
  {
   "cell_type": "code",
   "execution_count": 3,
   "id": "4b93dd99-1eb7-4347-8f1b-d76117f066ac",
   "metadata": {},
   "outputs": [
    {
     "data": {
      "text/plain": [
       "'\\nfor loop iterates for a particular range and no condition is required to ruyn\\nwhile loop iterates until the condition satisfies and condition is required\\n\\n'"
      ]
     },
     "execution_count": 3,
     "metadata": {},
     "output_type": "execute_result"
    }
   ],
   "source": [
    "# d/w for and while\n",
    "\"\"\"\n",
    "for loop iterates for a particular range and no condition is required to run\n",
    "while loop iterates until the condition satisfies and condition is required\n",
    "\n",
    "\"\"\"\n",
    "# break (breaks at particular place)\n",
    "# continue (skip the value and continuw with others)\n"
   ]
  },
  {
   "cell_type": "code",
   "execution_count": 5,
   "id": "eda6b904-a885-411e-be2f-4856fba40f33",
   "metadata": {},
   "outputs": [
    {
     "name": "stdout",
     "output_type": "stream",
     "text": [
      "1\n",
      "2\n",
      "3\n",
      "4\n",
      "6\n",
      "7\n",
      "8\n"
     ]
    }
   ],
   "source": [
    "li = [1,2,3,4,6,7,8,5,10]\n",
    "for i in li:\n",
    "    if i==5:\n",
    "        break\n",
    "    print(i)"
   ]
  },
  {
   "cell_type": "code",
   "execution_count": 7,
   "id": "26befcc5-7e2d-4d83-b4b2-1f6a5667584e",
   "metadata": {},
   "outputs": [
    {
     "name": "stdout",
     "output_type": "stream",
     "text": [
      "1\n",
      "2\n",
      "3\n",
      "4\n",
      "6\n",
      "7\n",
      "8\n",
      "10\n"
     ]
    }
   ],
   "source": [
    "li = [1,2,3,4,6,7,8,5,10]\n",
    "for i in li:\n",
    "    if i==5:\n",
    "        continue\n",
    "    print(i)"
   ]
  },
  {
   "cell_type": "code",
   "execution_count": 11,
   "id": "1d7f9e2f-c3cd-4755-8717-fb5ffb80cf8f",
   "metadata": {},
   "outputs": [
    {
     "name": "stdout",
     "output_type": "stream",
     "text": [
      "[-1, -4]\n",
      "[1, 2, 3, 4]\n"
     ]
    }
   ],
   "source": [
    "a = [1,2,-1,3,4,-4]\n",
    "negative_vals=[]\n",
    "positive_vals=[]\n",
    "for i in a:\n",
    "    if i>0:\n",
    "        positive_vals.append(i)\n",
    "        continue   # continue skips that value \n",
    "    negative_vals.append(i)\n",
    "print(negative_vals)\n",
    "print(positive_vals)"
   ]
  },
  {
   "cell_type": "code",
   "execution_count": 13,
   "id": "24eb0cbd-1596-4200-a431-25622171aeb3",
   "metadata": {},
   "outputs": [],
   "source": [
    "# pass is a place holder (future logic) , still the code runs\n",
    "for i in a:\n",
    "    if i>0:\n",
    "       pass"
   ]
  },
  {
   "cell_type": "code",
   "execution_count": 16,
   "id": "fa3a7ed9-e828-4726-9e81-b130d176d996",
   "metadata": {},
   "outputs": [
    {
     "name": "stdout",
     "output_type": "stream",
     "text": [
      "Countdown:5\n",
      "Countdown:4\n",
      "Countdown:3\n",
      "Countdown:2\n",
      "Countdown:1\n",
      "Times up\n"
     ]
    }
   ],
   "source": [
    "count=5\n",
    "while count >0:\n",
    "    print(f\"Countdown:{count}\")\n",
    "    count-=1\n",
    "print(\"Times up\")"
   ]
  },
  {
   "cell_type": "code",
   "execution_count": 22,
   "id": "43bd5e67-bbda-4d32-bc95-825a4304b183",
   "metadata": {},
   "outputs": [
    {
     "name": "stdin",
     "output_type": "stream",
     "text": [
      "Add item 1( Type done to finish ): c\n",
      "Add item 2( Type done to finish ): done\n"
     ]
    },
    {
     "name": "stdout",
     "output_type": "stream",
     "text": [
      "['c']\n"
     ]
    }
   ],
   "source": [
    "# while true (no condition and the loop starts without condition and runs infinitely unless a check is given)\n",
    "items =[]\n",
    "count=1\n",
    "while True:\n",
    "    item = input (f\"Add item {count}( Type done to finish ):\")\n",
    "    count+=1\n",
    "    if item.lower()==\"done\":\n",
    "        break\n",
    "    items.append(item)\n",
    "print(items)"
   ]
  },
  {
   "cell_type": "code",
   "execution_count": null,
   "id": "d05c8dfe-cfc2-4e86-a257-266d3da100f3",
   "metadata": {},
   "outputs": [],
   "source": [
    "# functions are reusable code \n",
    "# eg. upper()\n",
    "# the code for upper is already printed in a function\n",
    "# Thus we are using it repeated"
   ]
  },
  {
   "cell_type": "code",
   "execution_count": 24,
   "id": "e0c77896-cdd4-463b-9484-fb37d667a2be",
   "metadata": {},
   "outputs": [
    {
     "name": "stdout",
     "output_type": "stream",
     "text": [
      "Hi welcome\n"
     ]
    }
   ],
   "source": [
    "def greet():\n",
    "    print(\"Hi welcome\")\n",
    "greet()\n"
   ]
  },
  {
   "cell_type": "code",
   "execution_count": 26,
   "id": "b72e9be8-5f67-4cf6-9901-db6efef6c6ef",
   "metadata": {},
   "outputs": [
    {
     "name": "stdout",
     "output_type": "stream",
     "text": [
      " Hi Sharm , Welcome to coding world \n"
     ]
    }
   ],
   "source": [
    "# function with arguments (argumest are input given to the function)\n",
    "def greet(name):\n",
    "    print(f\" Hi {name} , Welcome to coding world \")\n",
    "greet(\"Sharm\")"
   ]
  },
  {
   "cell_type": "code",
   "execution_count": 28,
   "id": "d1ce6d1c-8f97-43fd-b59f-665462bb8c92",
   "metadata": {},
   "outputs": [
    {
     "name": "stdout",
     "output_type": "stream",
     "text": [
      "16\n"
     ]
    }
   ],
   "source": [
    "def add(a,b):\n",
    "    print(a+b)\n",
    "add(7,9)\n"
   ]
  },
  {
   "cell_type": "code",
   "execution_count": 35,
   "id": "1e38989a-e79c-4313-a00e-edad77e19859",
   "metadata": {},
   "outputs": [
    {
     "name": "stdout",
     "output_type": "stream",
     "text": [
      "5\n"
     ]
    }
   ],
   "source": [
    "# return is used only when you want to return the answer to another variable\n",
    "def add(a,b):\n",
    "    return(a+b)\n",
    "result=add(2,3)\n",
    "print(result)"
   ]
  },
  {
   "cell_type": "code",
   "execution_count": 1,
   "id": "4f9bb61c-48e9-4bf6-afe0-a454e5062a87",
   "metadata": {},
   "outputs": [],
   "source": [
    "# use the function created in another file\n",
    "# use from (file name) import (function name)\n",
    "# eg. from test.py import add\n"
   ]
  },
  {
   "cell_type": "code",
   "execution_count": 3,
   "id": "4e5b794b-f9bb-4d38-9629-4827a2f5d3be",
   "metadata": {},
   "outputs": [
    {
     "name": "stdout",
     "output_type": "stream",
     "text": [
      "10\n"
     ]
    }
   ],
   "source": [
    "# args \n",
    "# they are used to pass multiple arguments \n",
    "def add(*args):\n",
    "    total=0\n",
    "    for num in args:\n",
    "        total+=num\n",
    "    return total\n",
    "print(add(0,1,2,3,4))"
   ]
  },
  {
   "cell_type": "code",
   "execution_count": 6,
   "id": "8ec2b91b-392d-4f38-bdc9-d5cf73e6a112",
   "metadata": {},
   "outputs": [
    {
     "name": "stdout",
     "output_type": "stream",
     "text": [
      "User profile\n",
      "name:Sharu\n",
      "age:21\n",
      "job:data engineer\n"
     ]
    }
   ],
   "source": [
    "#kwargs\n",
    "#to pass key value pairs\n",
    "def create_profile(**kwargs):\n",
    "    print(\"User profile\")\n",
    "    for key, value in kwargs.items():\n",
    "        print(f\"{key}:{value}\")\n",
    "create_profile(name =\"Sharu\",age=21,job=\"data engineer\")\n"
   ]
  },
  {
   "cell_type": "code",
   "execution_count": 7,
   "id": "1d5d5e27-8fd0-471b-94cc-59268f45fc1d",
   "metadata": {},
   "outputs": [],
   "source": [
    "# lists\n",
    "# elements can be added in list\n",
    "# list are ordered (based on index)\n",
    "# mutable (can make changes in the list)\n",
    "# can have multiple data types"
   ]
  },
  {
   "cell_type": "code",
   "execution_count": 12,
   "id": "a62fedb5-70c4-4210-9d5b-ca4ccec90984",
   "metadata": {},
   "outputs": [
    {
     "name": "stdout",
     "output_type": "stream",
     "text": [
      "SPOTIFY PLAYLIST : ['Good for you', 'YAD', 'Summertime sadness', 'Young and beautiful', 'Cry for me']\n"
     ]
    },
    {
     "data": {
      "text/plain": [
       "['Good for you',\n",
       " 'YAD',\n",
       " 'Summertime sadness',\n",
       " 'Young and beautiful',\n",
       " 'Cry for me',\n",
       " 'Die with a smile']"
      ]
     },
     "execution_count": 12,
     "metadata": {},
     "output_type": "execute_result"
    }
   ],
   "source": [
    "# list methods\n",
    "# 1. APPEND\n",
    "pl=[\"Good for you\" ,\"YAD\" ,\"Summertime sadness\" ,\"Young and beautiful\",\"Cry for me\"] # original list is also changed and hence mutable\n",
    "print(\"SPOTIFY PLAYLIST :\" , pl)\n",
    "pl.append(\"Die with a smile\")\n",
    "pl"
   ]
  },
  {
   "cell_type": "code",
   "execution_count": 15,
   "id": "ff1c8543-ecb0-4074-a18b-56a898122159",
   "metadata": {},
   "outputs": [
    {
     "name": "stdout",
     "output_type": "stream",
     "text": [
      "After insert: ['Good for you', 'Harleys in Hawai', 'Harleys in Hawai', 'Harleys in Hawai', 'YAD', 'Summertime sadness', 'Young and beautiful', 'Cry for me', 'Die with a smile']\n"
     ]
    }
   ],
   "source": [
    "# 2. INSERT\n",
    "#b/w insert and append (append adds the element at the last always and insert adds an element in a particular position)\n",
    "# syntax : list.insert( position, insertion)\n",
    "pl.insert(1,\"Harleys in Hawai\")\n",
    "print(\"After insert:\", pl)"
   ]
  },
  {
   "cell_type": "markdown",
   "id": "cca02a2c-ff7b-498b-bdae-b0d5eb57972e",
   "metadata": {},
   "source": [
    "# 3. REMOVE\n",
    "pl.remove(\"Die with a smile\") # particular element\n",
    "print(\"After removing\")\n",
    "pl"
   ]
  },
  {
   "cell_type": "code",
   "execution_count": 21,
   "id": "a09c9040-3851-4b1a-a441-800f695e6372",
   "metadata": {},
   "outputs": [
    {
     "name": "stdout",
     "output_type": "stream",
     "text": [
      "After pop:\n",
      "['Good for you', 'Harleys in Hawai', 'Harleys in Hawai', 'Harleys in Hawai', 'YAD']\n"
     ]
    }
   ],
   "source": [
    "# 4. POP # last element \n",
    "pl.pop()\n",
    "print(\"After pop:\")\n",
    "print(pl)"
   ]
  },
  {
   "cell_type": "code",
   "execution_count": 24,
   "id": "222c8dbe-fa48-4464-992d-7eb842796058",
   "metadata": {},
   "outputs": [
    {
     "name": "stdout",
     "output_type": "stream",
     "text": [
      "['Harleys in Hawai', 'Harleys in Hawai', 'YAD']\n"
     ]
    }
   ],
   "source": [
    "pl.pop(0) # index pop\n",
    "print(pl)"
   ]
  },
  {
   "cell_type": "code",
   "execution_count": 29,
   "id": "9ac2064e-e3da-4402-8970-173ecb278d08",
   "metadata": {},
   "outputs": [
    {
     "name": "stdout",
     "output_type": "stream",
     "text": [
      "['Cry for me', 'Young and beautiful', 'Summertime sadness', 'YAD', 'Good for you']\n"
     ]
    }
   ],
   "source": [
    "# REVERSE\n",
    "pl = [\"Good for you\" ,\"YAD\" ,\"Summertime sadness\" ,\"Young and beautiful\",\"Cry for me\"]\n",
    "pl.reverse()\n",
    "print(pl)"
   ]
  },
  {
   "cell_type": "code",
   "execution_count": 37,
   "id": "4c7bc3d1-8481-4cd9-93f3-c390b9633723",
   "metadata": {},
   "outputs": [
    {
     "name": "stdout",
     "output_type": "stream",
     "text": [
      "['Cry for me', 'Young and beautiful', 'Summertime sadness', 'YAD', 'Good for you']\n"
     ]
    }
   ],
   "source": [
    "print(pl)"
   ]
  },
  {
   "cell_type": "code",
   "execution_count": 31,
   "id": "5a344ba5-6c90-4e66-8b78-3d4271328764",
   "metadata": {},
   "outputs": [
    {
     "name": "stdout",
     "output_type": "stream",
     "text": [
      "1\n"
     ]
    }
   ],
   "source": [
    "print(pl.count(\"YAD\")) # to get the position "
   ]
  },
  {
   "cell_type": "code",
   "execution_count": 33,
   "id": "c01698a8-14d8-4438-8f29-b77af28bd114",
   "metadata": {},
   "outputs": [
    {
     "name": "stdout",
     "output_type": "stream",
     "text": [
      "Top 2 songs\n"
     ]
    },
    {
     "data": {
      "text/plain": [
       "['Cry for me', 'Young and beautiful']"
      ]
     },
     "execution_count": 33,
     "metadata": {},
     "output_type": "execute_result"
    }
   ],
   "source": [
    "# LIST SLICING # start: stop: step\n",
    "print(\"Top 2 songs\")\n",
    "pl[0:2]"
   ]
  },
  {
   "cell_type": "code",
   "execution_count": 39,
   "id": "666f585a-c738-41e7-9265-6a8eabe1f204",
   "metadata": {},
   "outputs": [
    {
     "name": "stdout",
     "output_type": "stream",
     "text": [
      "LAst two locations\n"
     ]
    },
    {
     "data": {
      "text/plain": [
       "['YAD', 'Good for you']"
      ]
     },
     "execution_count": 39,
     "metadata": {},
     "output_type": "execute_result"
    }
   ],
   "source": [
    "print(\"LAst two locations\")\n",
    "pl[-2:]"
   ]
  },
  {
   "cell_type": "code",
   "execution_count": 41,
   "id": "d0476d8f-eb83-44ee-824c-cd5b97fc740b",
   "metadata": {},
   "outputs": [
    {
     "name": "stdout",
     "output_type": "stream",
     "text": [
      "Briyani\n",
      "paneer tikka\n",
      "Alfaham chicken\n",
      "Paneer Butter masala\n"
     ]
    }
   ],
   "source": [
    "# LIST ITERATION\n",
    "food = [\"Briyani\" ,\"paneer tikka\" , \"Alfaham chicken\" , \"Paneer Butter masala\"]\n",
    "for f in food:\n",
    "    print(f)"
   ]
  },
  {
   "cell_type": "code",
   "execution_count": 9,
   "id": "409e19b3-4764-4afd-b556-4e24c223fedc",
   "metadata": {},
   "outputs": [
    {
     "name": "stdout",
     "output_type": "stream",
     "text": [
      "['Weeknd : Good for you', 'Lana del Rey : YAD', 'Lana Del Rey : Summertime sadness', 'Vanna Rainella : Young and beautiful', 'Selena Gomez : Cry for me']\n"
     ]
    }
   ],
   "source": [
    "# to merge two list with for loop consider length of list or zip of lists\n",
    "singer = [\"Weeknd\" ,\"Lana del Rey\" ,\"Lana Del Rey\" ,\"Vanna Rainella\" ,\"Selena Gomez\"]\n",
    "playlist= [\"Good for you\" ,\"YAD\" ,\"Summertime sadness\" ,\"Young and beautiful\",\"Cry for me\"]\n",
    "# method 1\n",
    "art=[]\n",
    "for i in range (len(singer)):\n",
    "    art.append(f\"{singer[i]} : {playlist[i]}\")\n",
    "    \n",
    "print(art)\n"
   ]
  },
  {
   "cell_type": "code",
   "execution_count": 12,
   "id": "6a401f9f-5616-4a25-8036-410a1b817fd0",
   "metadata": {},
   "outputs": [
    {
     "name": "stdout",
     "output_type": "stream",
     "text": [
      "['Weeknd : Good for you', 'Lana del Rey : YAD', 'Lana Del Rey : Summertime sadness', 'Vanna Rainella : Young and beautiful', 'Selena Gomez : Cry for me']\n"
     ]
    }
   ],
   "source": [
    "# method 2\n",
    "singer = [\"Weeknd\" ,\"Lana del Rey\" ,\"Lana Del Rey\" ,\"Vanna Rainella\" ,\"Selena Gomez\"]\n",
    "playlist= [\"Good for you\" ,\"YAD\" ,\"Summertime sadness\" ,\"Young and beautiful\",\"Cry for me\"]\n",
    "merged = [f\"{i} : {j}\" for i ,j in zip(singer,playlist)]\n",
    "print(merged)\n"
   ]
  },
  {
   "cell_type": "code",
   "execution_count": 20,
   "id": "bbd58b29-04ae-4bd1-9f8a-85ff26e86d8a",
   "metadata": {},
   "outputs": [
    {
     "data": {
      "text/plain": [
       "[0, 4, 27, 16, 36]"
      ]
     },
     "execution_count": 20,
     "metadata": {},
     "output_type": "execute_result"
    }
   ],
   "source": [
    "[ i**2 if i%2==0 else i**3 for i in range(0,7) if i%2==0 or i%3==0]"
   ]
  },
  {
   "cell_type": "markdown",
   "id": "5f2c8ae3-4ddb-4b59-87b8-459e0dcb3411",
   "metadata": {},
   "source": [
    "# LIST COMPREHENSION\n",
    "# [expression for item in iterable]\n",
    "[i**2 for i in range (0,10)]\n",
    "# [expression for item in iterable if condition]\n",
    "[i**3 for i in range (0,10) if i%3==0]\n",
    "# [expression_if_true if condition else expression_if_false for item in iterable]\n",
    "[i**2 if i%2==0 else i**3 for i in range (0,10)]\n",
    "# [expression_if_true if condition else expression_if_false for item in iterable if filter_condition]\n",
    "[i**2 if i%2==0 else i**3 for i in range (0,10) if i%2==0 or i%3==0]"
   ]
  },
  {
   "cell_type": "markdown",
   "id": "1923a84f-db34-40a9-b313-93090670549f",
   "metadata": {},
   "source": [
    "[     expression     for     item     in     iterable     ]\n",
    "       👇               👇         👇          👇\n",
    "   What to do      variable     loop        data\n",
    "   with each        name       control     source\n",
    "     item\n"
   ]
  },
  {
   "cell_type": "markdown",
   "id": "d2f9e296-d548-43e5-b575-efabf13f6b90",
   "metadata": {},
   "source": [
    "[     expression     for     item     in     iterable     if     condition     ]\n"
   ]
  },
  {
   "cell_type": "markdown",
   "id": "35742e4a-a2a1-4d92-8bfc-144efdfb9d94",
   "metadata": {},
   "source": [
    "[     expr_if_true     if     condition     else     expr_if_false     for     item     in     iterable     ]\n"
   ]
  },
  {
   "cell_type": "markdown",
   "id": "c8a6f052-6801-4cb0-9536-27499cfa9f83",
   "metadata": {},
   "source": [
    "| Type                    | Syntax Example                                   | Description                        |\n",
    "| ----------------------- | ------------------------------------------------ | ---------------------------------- |\n",
    "| Basic                   | `[x for x in iterable]`                          | Simple transformation              |\n",
    "| With Filter             | `[x for x in iterable if condition]`             | Only include items matching filter |\n",
    "| With If-Else Expression | `[a if cond else b for x in iterable]`           | Use condition inside output part   |\n",
    "| Combined                | `[a if cond else b for x in iterable if filter]` | Both transformation + filtering    |\n"
   ]
  },
  {
   "cell_type": "code",
   "execution_count": 34,
   "id": "d007d740-757f-4822-93a2-97e87a729000",
   "metadata": {},
   "outputs": [
    {
     "name": "stdout",
     "output_type": "stream",
     "text": [
      "Yes\n"
     ]
    }
   ],
   "source": [
    "# membership in list\n",
    "food = [\"Briyani\" ,\"paneer tikka\" , \"Alfaham chicken\" , \"Paneer Butter masala\"]\n",
    "if \"Briyani\" in food:\n",
    "    print(\"Yes\")"
   ]
  },
  {
   "cell_type": "code",
   "execution_count": 36,
   "id": "9ef74464-01ac-4205-adc0-300a76a08ea2",
   "metadata": {},
   "outputs": [
    {
     "name": "stdout",
     "output_type": "stream",
     "text": [
      "['Briyani', 'Shawarma', 'Alfaham chicken', 'Paneer Butter masala']\n"
     ]
    }
   ],
   "source": [
    "# replace\n",
    "food[1] = \"Shawarma\"\n",
    "print(food)"
   ]
  },
  {
   "cell_type": "code",
   "execution_count": 40,
   "id": "da119e64-c186-4483-98da-1ebc4bf2cb7f",
   "metadata": {},
   "outputs": [
    {
     "name": "stdout",
     "output_type": "stream",
     "text": [
      "['Briyani', 'C', 'C', 'Chocolate', 'Chocolate', 'Shawarma', 'Alfaham chicken', 'Paneer Butter masala']\n"
     ]
    }
   ],
   "source": [
    "food.insert(1,\"C\")\n",
    "print(food)"
   ]
  },
  {
   "cell_type": "code",
   "execution_count": 42,
   "id": "321bcdf2-6eb0-42f7-8084-d8423bda7d42",
   "metadata": {},
   "outputs": [
    {
     "name": "stdout",
     "output_type": "stream",
     "text": [
      "1\n"
     ]
    }
   ],
   "source": [
    "print(food.count(\"Shawarma\"))"
   ]
  },
  {
   "cell_type": "code",
   "execution_count": 44,
   "id": "d8191a39-cd92-4405-8d45-838c0db8e6e9",
   "metadata": {},
   "outputs": [
    {
     "name": "stdout",
     "output_type": "stream",
     "text": [
      "5\n"
     ]
    }
   ],
   "source": [
    "print(food.index(\"Shawarma\"))"
   ]
  },
  {
   "cell_type": "code",
   "execution_count": 52,
   "id": "6898870e-5340-4100-898b-cd314f930ca2",
   "metadata": {},
   "outputs": [
    {
     "name": "stdout",
     "output_type": "stream",
     "text": [
      "0 : Briyani\n",
      "1 : paneer tikka\n",
      "2 : Alfaham chicken\n",
      "3 : Paneer Butter masala\n"
     ]
    }
   ],
   "source": [
    "# ENUMERATE \n",
    "# getting two arguments and printing the index position also\n",
    "food = [\"Briyani\" ,\"paneer tikka\" , \"Alfaham chicken\" , \"Paneer Butter masala\"]\n",
    "for i , food in enumerate (food):\n",
    "    print(f\"{i} : {food}\")\n"
   ]
  },
  {
   "cell_type": "code",
   "execution_count": 54,
   "id": "0d5e6f87-546c-4806-8277-22f9ed278c07",
   "metadata": {},
   "outputs": [
    {
     "name": "stdout",
     "output_type": "stream",
     "text": [
      "('ubergo', 'chennai', 3.14, (2+1j), 450, None, True)\n"
     ]
    }
   ],
   "source": [
    "# TUPLES\n",
    "# immutable that is we cant change an element\n",
    "# all data types can be entered\n",
    "# braces\n",
    "# ordered\n",
    "# count and index can be used\n",
    "# tuple i sfaster than list in readonly\n",
    "# list is dynamic that is can be changed\n",
    "trip = (\"ubergo\" ,\"chennai\" ,3.14 , 2+1j , 450 , None , True)\n",
    "print(trip)"
   ]
  },
  {
   "cell_type": "code",
   "execution_count": 56,
   "id": "68aa5c95-2c1e-48e6-a5de-2e20b48593ca",
   "metadata": {},
   "outputs": [
    {
     "data": {
      "text/plain": [
       "'chennai'"
      ]
     },
     "execution_count": 56,
     "metadata": {},
     "output_type": "execute_result"
    }
   ],
   "source": [
    "trip[1]"
   ]
  },
  {
   "cell_type": "code",
   "execution_count": 58,
   "id": "5c7f9ac0-c2d0-49d0-843e-7c9dfd7c049c",
   "metadata": {},
   "outputs": [
    {
     "name": "stdout",
     "output_type": "stream",
     "text": [
      "ubergo\n",
      "chennai\n",
      "3.14\n",
      "(2+1j)\n",
      "450\n",
      "None\n",
      "True\n"
     ]
    }
   ],
   "source": [
    "for item in trip:\n",
    "    print(item)"
   ]
  },
  {
   "cell_type": "code",
   "execution_count": 60,
   "id": "696206b3-3140-45d6-88dd-c0c585718539",
   "metadata": {},
   "outputs": [
    {
     "name": "stdout",
     "output_type": "stream",
     "text": [
      "7\n"
     ]
    }
   ],
   "source": [
    "print(len(trip))"
   ]
  },
  {
   "cell_type": "code",
   "execution_count": 64,
   "id": "7f5fd391-72b1-4f23-8ff1-0be1849e2893",
   "metadata": {},
   "outputs": [
    {
     "name": "stdout",
     "output_type": "stream",
     "text": [
      "1\n",
      "2\n"
     ]
    }
   ],
   "source": [
    "print(trip.count(\"chennai\"))\n",
    "print(trip.index(3.14))"
   ]
  },
  {
   "cell_type": "code",
   "execution_count": 65,
   "id": "e8310798-3ac3-4e8e-a46e-48a8f3ed7880",
   "metadata": {},
   "outputs": [],
   "source": [
    "# IMMUTABLE"
   ]
  },
  {
   "cell_type": "markdown",
   "id": "c27f7004-f33f-45f8-92d4-2324f60294c9",
   "metadata": {},
   "source": [
    "# SET\n",
    "1. unodered /n\n",
    "2. union (|) , intersection (&) , difference(-)\n",
    "3. set.update([multiple values])\n",
    "4. set. clear()\n",
    "5. set.remove()\n",
    "6. set. add()\n",
    "7. We cant change a particular value we have to remove and add a new value eg, {1,2,3} , set.remove(2) , set.add(5)\n",
    "8. set.discard() this does not show error even if the value is not present\n",
    "9. cant access by index\n",
    "10. set stores values based on hash and not order of insertion and hence they are unordered\n"
   ]
  },
  {
   "cell_type": "code",
   "execution_count": 69,
   "id": "7efd17ff-56a7-49a8-9f2d-1825d7518254",
   "metadata": {},
   "outputs": [
    {
     "name": "stdout",
     "output_type": "stream",
     "text": [
      "{'Banglore', 'Chennai', 'Delhi'}\n"
     ]
    }
   ],
   "source": [
    "uber = {\"Chennai\" ,\"Banglore\" ,\"Chennai\" ,\"Delhi\", \"Banglore\"}\n",
    "uber2 ={\"Coimbatore\" ,\"Banglore\" ,\"Madurai\" ,\"Karur\" ,\"Trichy\"}\n",
    "unique = set(uber) # REMOVING DUPLICATES for list\n",
    "print(unique) "
   ]
  },
  {
   "cell_type": "code",
   "execution_count": 72,
   "id": "841aa66d-ff0a-496e-8cb8-7755e6635c05",
   "metadata": {},
   "outputs": [
    {
     "name": "stdout",
     "output_type": "stream",
     "text": [
      "{'Banglore', 'Trichy', 'Chennai', 'Delhi', 'Madurai', 'Karur', 'Coimbatore'}\n"
     ]
    }
   ],
   "source": [
    "print(uber|uber2) # or uber.union(uber2)"
   ]
  },
  {
   "cell_type": "code",
   "execution_count": 75,
   "id": "4e2536e4-e178-47f9-8b17-0e7983a6b1ef",
   "metadata": {},
   "outputs": [
    {
     "name": "stdout",
     "output_type": "stream",
     "text": [
      "{'Banglore'}\n"
     ]
    }
   ],
   "source": [
    "print(uber&uber2) # common items or uber.intersection(uber2)\n"
   ]
  },
  {
   "cell_type": "code",
   "execution_count": 77,
   "id": "ebb8e9d0-6a2e-4112-9ae5-065efe468824",
   "metadata": {},
   "outputs": [
    {
     "name": "stdout",
     "output_type": "stream",
     "text": [
      "{'Chennai', 'Delhi'}\n"
     ]
    }
   ],
   "source": [
    "print(uber-uber2) # prints difference in set 1 "
   ]
  },
  {
   "cell_type": "code",
   "execution_count": 79,
   "id": "3eec291e-e0ec-486a-b4b8-c19160139e1a",
   "metadata": {},
   "outputs": [
    {
     "name": "stdout",
     "output_type": "stream",
     "text": [
      "{'Trichy', 'Karur', 'Coimbatore', 'Madurai'}\n"
     ]
    }
   ],
   "source": [
    "print(uber2-uber)"
   ]
  },
  {
   "cell_type": "code",
   "execution_count": 83,
   "id": "c61ba8ce-2493-408f-b89c-1c9e9e544451",
   "metadata": {},
   "outputs": [
    {
     "name": "stdout",
     "output_type": "stream",
     "text": [
      "{'Banglore', 'Chennai', 'Delhi', 'neyveli', 'Thanjavur'}\n"
     ]
    }
   ],
   "source": [
    "uber.update([\"neyveli\" ,\"Thanjavur\"])\n",
    "print(uber)\n"
   ]
  },
  {
   "cell_type": "markdown",
   "id": "1162e4b1-34aa-4442-98dd-770d655e7b21",
   "metadata": {},
   "source": [
    "# DICTIONARY\n",
    "1. KEY VALUE PAIRS\n",
    "2. unordered\n",
    "3. mutable\n",
    "4. cant access by index\n",
    "5. Unorderd becaus eit stores values and uses hasj=h function to map keys and not ordre of insertion\n",
    "6. this allows fast lookup , insertions and deletions\n",
    "7. Both sets and dictionaries are faster as set mebership checking and dictionary based on key search\n",
    "8. Tuples are faster than list because immutable\n"
   ]
  },
  {
   "cell_type": "markdown",
   "id": "4b1b99e5-08ad-47d8-ab65-a95add6b5d1f",
   "metadata": {},
   "source": [
    "# IMPORTANT NOTE !\n",
    "1. Hashable(immutable) and Unhashable (mutable)\n",
    "2. sets are mutable therefore not hashable\n",
    "3. elements in the set must be hashable include numbers , string , tuples where the original is not changed and a new object is created and stored by hash values\n",
    "4. unhashable objects include sets , dictionaries and list\n"
   ]
  },
  {
   "cell_type": "markdown",
   "id": "c51da0ab-aa45-44d5-ab25-5e3883c1d7e2",
   "metadata": {},
   "source": [
    "# FAST COMPARISON\n",
    "1.  Fastest (for access & operations)\n",
    "| Data Type | Speed        | Reason                                            |\n",
    "| --------- | ------------ | ------------------------------------------------- |\n",
    "| `int`     | 🟢 Very Fast | Fixed size, immutable, directly stored in memory. |\n",
    "| `float`   | 🟢 Very Fast | Similar to int, stored directly in memory.        |\n",
    "| `bool`    | 🟢 Very Fast | Subclass of `int`, uses 0 or 1 internally.        |\n",
    "| `None`    | 🟢 Very Fast | Singleton object, comparisons and usage are fast. |\n",
    "\n",
    "2. ⚡ Fast (with minor overheads)\n",
    "\n",
    "| Data Type | Speed   | Reason                                                                                    |\n",
    "| --------- | ------- | ----------------------------------------------------------------------------------------- |\n",
    "| `tuple`   | 🟡 Fast | Immutable, fixed-size, faster than list for iteration.                                    |\n",
    "| `string`  | 🟡 Fast | Immutable, stored as sequence of characters, fast for access but slower for modification. |\n",
    "| `complex` | 🟡 Fast | Slightly more overhead than float due to real+imag part.                                  |\n",
    "\n",
    "3. 🐢 Slower (due to flexibility and mutability)\n",
    "\n",
    "| Data Type | Speed       | Reason                                                                           |\n",
    "| --------- | ----------- | -------------------------------------------------------------------------------- |\n",
    "| `list`    | 🔴 Moderate | Mutable, dynamic resizing, slower than tuples.                                   |\n",
    "| `set`     | 🔴 Moderate | Fast membership test, but unordered and uses hash.                               |\n",
    "| `dict`    | 🔴 Moderate | Fast for lookup, but higher memory and CPU due to hashing and key-value mapping. |\n",
    "\n",
    "4. 🔁 Typical Speed Ranking (Access/Lookup):\n",
    "\n",
    "5.  int ≈ float ≈ bool > None > tuple > string > complex > list > set > dict\n",
    "\n",
    "6. 🧠 Summary:\n",
    "\n",
    "7. For computation: int, float, bool are fastest.\n",
    "\n",
    "8. For iteration: tuple is faster than list.\n",
    "\n",
    "9. For membership tests: set and dict are faster than list, but with more overhead.\n",
    "\n",
    "10. For modification: list, dict, and set are more flexible but slower.\n",
    "\n",
    "11. None is very light, but used for null-like values."
   ]
  },
  {
   "cell_type": "code",
   "execution_count": 98,
   "id": "e1bed1a3-4eae-4ecd-9b6f-e756dc6af7bd",
   "metadata": {},
   "outputs": [
    {
     "name": "stdout",
     "output_type": "stream",
     "text": [
      "Sharmila\n",
      "None\n"
     ]
    }
   ],
   "source": [
    "# dict.get (key) no error will come\n",
    "# dict[key] if no key error\n",
    "trip ={\"Name\" :\"Sharmila\" , \"Age\" : 21 ,\"drop\" :[\"Airport\",\"Surapet\",\"tidel\"] ,\"driver\" :\"driver 1\"}\n",
    "print(trip[\"Name\"])\n",
    "print(trip.get(\"SHaru\")) # will not give error"
   ]
  },
  {
   "cell_type": "code",
   "execution_count": 99,
   "id": "fb067590-6b53-4074-8b97-3e39d6384219",
   "metadata": {},
   "outputs": [
    {
     "name": "stdout",
     "output_type": "stream",
     "text": [
      "dict_keys(['Name', 'Age', 'drop', 'driver'])\n",
      "dict_values(['Sharmila', 21, ['Airport', 'Surapet', 'tidel'], 'driver 1'])\n"
     ]
    }
   ],
   "source": [
    "print(trip.keys()) # key an d value extraction\n",
    "print(trip.values())"
   ]
  },
  {
   "cell_type": "code",
   "execution_count": 100,
   "id": "8c3ff58d-669c-4cd5-a737-766176872981",
   "metadata": {},
   "outputs": [
    {
     "name": "stdout",
     "output_type": "stream",
     "text": [
      "Name :Sharmila\n",
      "Age :21\n",
      "drop :['Airport', 'Surapet', 'tidel']\n",
      "driver :driver 1\n"
     ]
    }
   ],
   "source": [
    "for key , values in  trip.items():\n",
    "    print(f\"{key} :{values}\")"
   ]
  },
  {
   "cell_type": "code",
   "execution_count": 101,
   "id": "89170584-2b64-4069-a466-10fdc781e07d",
   "metadata": {},
   "outputs": [
    {
     "name": "stdout",
     "output_type": "stream",
     "text": [
      "{'Name': 'Sharmila', 'Age': 21, 'drop': ['Airport', 'Surapet', 'tidel'], 'driver': 'driver 1', 'car model': 'suzuki'}\n"
     ]
    }
   ],
   "source": [
    "trip.update({\"car model\":\"suzuki\"}) # absurd (if there is key update or it will insert a new key)\n",
    "print(trip)"
   ]
  },
  {
   "cell_type": "code",
   "execution_count": 103,
   "id": "ea4c23e7-b905-4f3f-91b5-dcd06891f0ad",
   "metadata": {},
   "outputs": [
    {
     "name": "stdout",
     "output_type": "stream",
     "text": [
      "tidel\n"
     ]
    }
   ],
   "source": [
    "# if duplicates are present it will tak ethe lastest duplicate and no error will come\n",
    "print(trip[\"drop\"][2])"
   ]
  },
  {
   "cell_type": "code",
   "execution_count": 105,
   "id": "bab355ef-16ad-476d-9eef-a94a392982e7",
   "metadata": {},
   "outputs": [
    {
     "name": "stdout",
     "output_type": "stream",
     "text": [
      "Airport\n",
      "Surapet\n",
      "tidel\n"
     ]
    }
   ],
   "source": [
    "for i in trip[\"drop\"]:\n",
    "    print(i)"
   ]
  },
  {
   "cell_type": "code",
   "execution_count": 111,
   "id": "65e0df44-9f91-47d7-9c79-f0f66d639e52",
   "metadata": {},
   "outputs": [
    {
     "name": "stdout",
     "output_type": "stream",
     "text": [
      "Sam Surapet\n",
      " Milan Kolathur\n",
      "Dala Kodambakkam\n"
     ]
    }
   ],
   "source": [
    " # can create a multiple dictionaries\n",
    "trips = [{\"Name\":\"Sam\" , \"pickup\":\"Surapet\" ,\"time\":3.45 ,\"drop\":\"Tambaram\" ,\"driver\":\"driver1\" ,\"car model\" :\"suzuki\"},\n",
    "         {\"Name\":\" Milan\" , \"pickup\":\"Kolathur\" ,\"time\":4.45 ,\"drop\":\"Tharamani\" ,\"driver\":\"driver2\" ,\"car model\" :\"swift\"},\n",
    "         {\"Name\":\"Dala\" , \"pickup\":\"Kodambakkam\" ,\"time\":5.45 ,\"drop\":\"vadapalani\" ,\"driver\":\"driver3\" ,\"car model\" :\"ertiga\"},\n",
    "        ]\n",
    "for trip in trips:\n",
    "    print(trip[\"Name\"], trip[\"pickup\"])"
   ]
  },
  {
   "cell_type": "code",
   "execution_count": 118,
   "id": "ccce0022-1fa9-4962-a738-022b5c9c7a50",
   "metadata": {},
   "outputs": [],
   "source": [
    "trips = {\"UB001\": {\"Name\":\"Sam\" , \"pickup\":\"Surapet\" ,\"time\":3.45 ,\"drop\":\"Tambaram\" ,\"driver\":\"driver1\" ,\"car model\" :\"suzuki\"},\n",
    "         \"UB002\": {\"Name\":\" Milan\" , \"pickup\":\"Kolathur\" ,\"time\":4.45 ,\"drop\":\"Tharamani\" ,\"driver\":\"driver2\" ,\"car model\" :\"swift\"},\n",
    "         \"UB003\": {\"Name\":\"Dala\" , \"pickup\":\"Kodambakkam\" ,\"time\":5.45 ,\"drop\":\"vadapalani\" ,\"driver\":\"driver3\" ,\"car model\" :\"ertiga\"},\n",
    "        }"
   ]
  },
  {
   "cell_type": "code",
   "execution_count": 121,
   "id": "d7928fb5-c04a-455e-8d8a-239af2b5a63c",
   "metadata": {},
   "outputs": [
    {
     "name": "stdout",
     "output_type": "stream",
     "text": [
      "DROP 1 Tambaram\n"
     ]
    }
   ],
   "source": [
    "print(\"DROP 1\" ,trips[\"UB001\"][\"drop\"])"
   ]
  },
  {
   "cell_type": "code",
   "execution_count": 125,
   "id": "810a5fcf-fd8e-419c-8c6d-e37eab127ad5",
   "metadata": {},
   "outputs": [
    {
     "name": "stdout",
     "output_type": "stream",
     "text": [
      "UB001\n",
      "Surapet --> Tambaram\n",
      "UB002\n",
      "Kolathur --> Tharamani\n",
      "UB003\n",
      "Kodambakkam --> vadapalani\n"
     ]
    }
   ],
   "source": [
    "for trip_id , details in trips.items():\n",
    "    print(trip_id)\n",
    "    print(details[\"pickup\"],\"-->\",details[\"drop\"])"
   ]
  }
 ],
 "metadata": {
  "kernelspec": {
   "display_name": "Python 3 (ipykernel)",
   "language": "python",
   "name": "python3"
  },
  "language_info": {
   "codemirror_mode": {
    "name": "ipython",
    "version": 3
   },
   "file_extension": ".py",
   "mimetype": "text/x-python",
   "name": "python",
   "nbconvert_exporter": "python",
   "pygments_lexer": "ipython3",
   "version": "3.13.2"
  }
 },
 "nbformat": 4,
 "nbformat_minor": 5
}
