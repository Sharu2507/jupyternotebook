{
 "cells": [
  {
   "cell_type": "markdown",
   "id": "6f3ae321-6714-4fd6-8006-7de60964d6d2",
   "metadata": {},
   "source": [
    "# STRING HANDLING"
   ]
  },
  {
   "cell_type": "code",
   "execution_count": 13,
   "id": "667389fb-17e3-4beb-88d8-8604370ba193",
   "metadata": {},
   "outputs": [
    {
     "name": "stdin",
     "output_type": "stream",
     "text": [
      "Enter a string: hello world is not interesting\n"
     ]
    },
    {
     "name": "stdout",
     "output_type": "stream",
     "text": [
      "['e', 'o', 'o', 'i', 'o', 'i', 'e', 'e', 'i']\n"
     ]
    }
   ],
   "source": [
    "# Given a string, return a list of vowels in the string.\n",
    "text=input(\"Enter a string:\")\n",
    "vowels=[i for i in text.lower() if i in \"aeiou\"]\n",
    "print(vowels)"
   ]
  },
  {
   "cell_type": "code",
   "execution_count": 29,
   "id": "fbafe7bc-b8f9-45e9-be3d-66adf19d12bf",
   "metadata": {},
   "outputs": [
    {
     "name": "stdin",
     "output_type": "stream",
     "text": [
      "Enter a ssentence or a word seperated by space : hello world\n"
     ]
    },
    {
     "name": "stdout",
     "output_type": "stream",
     "text": [
      "[2, 1]\n"
     ]
    }
   ],
   "source": [
    "# count no of vowels in each word \n",
    "text=input(\"Enter a ssentence or a word seperated by space :\")\n",
    "char=text.lower().split()\n",
    "vowels=[sum(1 for i in j if i in \"aeiou\")for j in char]\n",
    "print(vowels)\n"
   ]
  },
  {
   "cell_type": "code",
   "execution_count": 37,
   "id": "f309e139-ac72-42b6-9902-0fbc8da93111",
   "metadata": {},
   "outputs": [
    {
     "name": "stdin",
     "output_type": "stream",
     "text": [
      "Enter a ssentence or a word seperated by space : hello world\n"
     ]
    },
    {
     "name": "stdout",
     "output_type": "stream",
     "text": [
      "hello : 2\n",
      "world : 1\n"
     ]
    }
   ],
   "source": [
    "# print the words along with the vowels count\n",
    "text=input(\"Enter a ssentence or a word seperated by space :\")\n",
    "char=text.lower().split()\n",
    "vowels=[print(f\"{j} : {sum(1 for i in j if i in \"aeiou\")}\") for j in char]\n"
   ]
  },
  {
   "cell_type": "code",
   "execution_count": 39,
   "id": "4b2b0397-a932-4ca0-85d9-9bf9794b1907",
   "metadata": {},
   "outputs": [
    {
     "name": "stdin",
     "output_type": "stream",
     "text": [
      "Enter a ssentence or a word seperated by space : hello world\n"
     ]
    },
    {
     "name": "stdout",
     "output_type": "stream",
     "text": [
      "hello:2 vowels --> ['e', 'o']\n",
      "world:1 vowels --> ['o']\n"
     ]
    }
   ],
   "source": [
    "# print the vowels besid ethe words and also the count\n",
    "text=input(\"Enter a ssentence or a word seperated by space :\")\n",
    "char=text.lower().split()\n",
    "vowels=[print(f\"{j}:{sum(1 for i in j if i in \"aeiou\")} vowels --> {[i for i in j if i in \"aeiou\"]}\")for j in char]"
   ]
  },
  {
   "cell_type": "code",
   "execution_count": 45,
   "id": "27f3cad8-a0aa-42e6-9a2f-c5087f41ae77",
   "metadata": {},
   "outputs": [
    {
     "name": "stdin",
     "output_type": "stream",
     "text": [
      "Enter a word: hello\n"
     ]
    },
    {
     "name": "stdout",
     "output_type": "stream",
     "text": [
      "hello : vowels ---> ['e', 'o']\n"
     ]
    }
   ],
   "source": [
    "#List all vowels in a word.\n",
    "text = input(\"Enter a word:\")\n",
    "vowels=[print(f\"{text} : vowels ---> {[i for i in text if i in \"aeiou\"]}\")]"
   ]
  },
  {
   "cell_type": "code",
   "execution_count": 47,
   "id": "b0b666cd-4743-46ce-b1fd-d4b4e6adb2a0",
   "metadata": {},
   "outputs": [
    {
     "name": "stdin",
     "output_type": "stream",
     "text": [
      "Enter a word: python\n"
     ]
    },
    {
     "name": "stdout",
     "output_type": "stream",
     "text": [
      "python : vowels---> ['o']\n"
     ]
    }
   ],
   "source": [
    "#another method \n",
    "text=input(\"Enter a word:\")\n",
    "vowels=[i for i in text.lower() if i in \"aeiou\"]\n",
    "print(f\"{text} : vowels---> {vowels}\")"
   ]
  },
  {
   "cell_type": "code",
   "execution_count": 78,
   "id": "655b6968-c913-4a4e-b0c3-5557fb233659",
   "metadata": {},
   "outputs": [
    {
     "name": "stdin",
     "output_type": "stream",
     "text": [
      "Enter a sentence (seperated by space): sky is up and life is stuck below\n"
     ]
    },
    {
     "name": "stdout",
     "output_type": "stream",
     "text": [
      "is vowels -->['i']\n",
      "up vowels -->['u']\n",
      "and vowels -->['a']\n",
      "life vowels -->['i', 'e']\n",
      "is vowels -->['i']\n",
      "stuck vowels -->['u']\n",
      "below vowels -->['e', 'o']\n"
     ]
    }
   ],
   "source": [
    "#List all words that contain at least one vowel.\n",
    "text=input(\"Enter a sentence (seperated by space):\")\n",
    "words= text.lower().split()\n",
    "a=[(f\"{word} vowels -->{[letter for letter in word if letter in \"aeiou\"]}\") for word in words if any (letter in \"aeiou\" for letter in word )]\n",
    "for i in a:\n",
    "    print(i)"
   ]
  },
  {
   "cell_type": "code",
   "execution_count": 101,
   "id": "b09da162-8838-4b86-a557-6abecc3baaa8",
   "metadata": {},
   "outputs": [
    {
     "name": "stdin",
     "output_type": "stream",
     "text": [
      "Enter a sentence (seperated by space): sky is up\n"
     ]
    },
    {
     "name": "stdout",
     "output_type": "stream",
     "text": [
      "no.of.vowels in (is)--> 1\n",
      "no.of.vowels in (up)--> 1\n"
     ]
    }
   ],
   "source": [
    "#Count total vowels in the entire sentence.\n",
    "text=input(\"Enter a sentence (seperated by space):\")\n",
    "words= text.lower().split()\n",
    "a=[(f\"no.of.vowels in ({word})--> {(sum(1 for letter in word if letter in \"aeiou\"))}\") for word in words if any(letter in \"aeiou\" for letter in word)]\n",
    "for i in a:\n",
    "    print(i)"
   ]
  },
  {
   "cell_type": "code",
   "execution_count": 103,
   "id": "27a35b41-865c-4205-8570-698bacf22eaf",
   "metadata": {},
   "outputs": [
    {
     "name": "stdin",
     "output_type": "stream",
     "text": [
      "Enter a sentence (seperated by space): sky is up\n"
     ]
    },
    {
     "name": "stdout",
     "output_type": "stream",
     "text": [
      "['is', 'up']\n"
     ]
    }
   ],
   "source": [
    "# Input a sentence and list all words that contain at least one vowel.\n",
    "#Example input: \"sky apple orange fly\"\n",
    "#Expected output: ['apple', 'orange']\n",
    "text=input(\"Enter a sentence (seperated by space):\")\n",
    "words= text.lower().split()\n",
    "vowels=[word for word in words if any (letter in \"aeiou\" for letter in word)]\n",
    "print(vowels)"
   ]
  },
  {
   "cell_type": "code",
   "execution_count": 106,
   "id": "e06acf79-f30f-417a-aec1-9f697eb1d285",
   "metadata": {},
   "outputs": [
    {
     "name": "stdin",
     "output_type": "stream",
     "text": [
      "Enter a word: education\n"
     ]
    },
    {
     "name": "stdout",
     "output_type": "stream",
     "text": [
      "['e', 'u', 'a', 'i', 'o']\n"
     ]
    }
   ],
   "source": [
    "# Input a word and display all the vowels present in it.\n",
    "# Example input: \"education\"\n",
    "# Expected output: ['e', 'u', 'a', 'i', 'o']\n",
    "text=input(\"Enter a word:\")\n",
    "word= text.lower()\n",
    "vowels=[letters for letters in word if letters in \"aeiou\"]\n",
    "print(vowels)\n"
   ]
  },
  {
   "cell_type": "code",
   "execution_count": 121,
   "id": "ae0f4919-d845-47be-906e-2d697391a75f",
   "metadata": {},
   "outputs": [
    {
     "name": "stdin",
     "output_type": "stream",
     "text": [
      "Enter a sentence (seperated by space): sky apple orange\n"
     ]
    },
    {
     "name": "stdout",
     "output_type": "stream",
     "text": [
      "apple : 2 vowels\n",
      "orange : 3 vowels\n"
     ]
    }
   ],
   "source": [
    "# Input a sentence and display each word along with the number of vowels it contains.\n",
    "#Example input: \"sky apple orange\"\n",
    "# Output: apple: 2 vowels orange: 3 vowels\n",
    "text=input(\"Enter a sentence (seperated by space):\")\n",
    "words= text.lower().split()\n",
    "vowels =[f\"{word} : {sum(1 for letter in word if letter in  'aeiou')} vowels\" for word in words if any (letter in \"aeiou\" for letter in word)]\n",
    "for i  in vowels:\n",
    "    print(i)"
   ]
  },
  {
   "cell_type": "code",
   "execution_count": 124,
   "id": "142174f4-bbc2-482c-8287-6cbea657698e",
   "metadata": {},
   "outputs": [
    {
     "name": "stdin",
     "output_type": "stream",
     "text": [
      "Enter a sentence (seperated by space): hello world python ai\n"
     ]
    },
    {
     "name": "stdout",
     "output_type": "stream",
     "text": [
      "[('hello', ['e', 'o']), ('world', ['o']), ('python', ['o']), ('ai', ['a', 'i'])]\n"
     ]
    }
   ],
   "source": [
    "# Print a list of tuples where each tuple contains a word and a list of vowels in that word.\n",
    "# Example input: \"hello world python ai\"\n",
    "# Output:[('hello', ['e', 'o']), ('world', ['o']), ('ai', ['a', 'i'])]\n",
    "text=input(\"Enter a sentence (seperated by space):\")\n",
    "words= text.lower().split()\n",
    "vowels=[(word ,[letter for letter in word if letter in 'aeiou']) for word in words if any(letter in 'aeiou' for letter in word)]\n",
    "print(vowels)\n"
   ]
  },
  {
   "cell_type": "code",
   "execution_count": null,
   "id": "9f589791-00ee-46d3-9d57-51d070f3708c",
   "metadata": {},
   "outputs": [],
   "source": []
  }
 ],
 "metadata": {
  "kernelspec": {
   "display_name": "Python 3 (ipykernel)",
   "language": "python",
   "name": "python3"
  },
  "language_info": {
   "codemirror_mode": {
    "name": "ipython",
    "version": 3
   },
   "file_extension": ".py",
   "mimetype": "text/x-python",
   "name": "python",
   "nbconvert_exporter": "python",
   "pygments_lexer": "ipython3",
   "version": "3.13.2"
  }
 },
 "nbformat": 4,
 "nbformat_minor": 5
}
