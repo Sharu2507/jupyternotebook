{
 "cells": [
  {
   "cell_type": "code",
   "execution_count": 1,
   "id": "70741fd9-cdf4-49f7-a009-226231303e12",
   "metadata": {},
   "outputs": [],
   "source": [
    "# file handling\n",
    "#creating a file\n",
    "#reading a file\n",
    "#writing a file\n",
    "#appending a file"
   ]
  },
  {
   "cell_type": "code",
   "execution_count": 3,
   "id": "5505d7a1-5233-4a29-92bc-4cdbb041bd24",
   "metadata": {},
   "outputs": [
    {
     "name": "stdout",
     "output_type": "stream",
     "text": [
      "11\n"
     ]
    }
   ],
   "source": [
    "#writing a file\n",
    "# open and close it\n",
    "# \"w\" write\n",
    "#\"r\" read\n",
    "f1 = open('test.txt','w')\n",
    "content = f1.write(\"hello world\")\n",
    "print(content)\n",
    "f1.close()"
   ]
  },
  {
   "cell_type": "code",
   "execution_count": 5,
   "id": "24a4712f-aa60-43ae-aecf-d6a100593dd0",
   "metadata": {},
   "outputs": [
    {
     "data": {
      "text/plain": [
       "'hello world'"
      ]
     },
     "execution_count": 5,
     "metadata": {},
     "output_type": "execute_result"
    }
   ],
   "source": [
    "#reading or opening a file\n",
    "# no need to close\n",
    "f2 = open('test.txt','r')\n",
    "f2.read()"
   ]
  },
  {
   "cell_type": "code",
   "execution_count": 7,
   "id": "33874340-7752-421d-acd8-bbda6c6c07fc",
   "metadata": {},
   "outputs": [
    {
     "name": "stdout",
     "output_type": "stream",
     "text": [
      "12\n"
     ]
    }
   ],
   "source": [
    "f1 = open('test.txt','w')\n",
    "content = f1.write(\"Good morning\")\n",
    "print(content)\n",
    "f1.close()"
   ]
  },
  {
   "cell_type": "code",
   "execution_count": 9,
   "id": "49ee0b88-780e-474e-995f-541d26445c66",
   "metadata": {},
   "outputs": [
    {
     "data": {
      "text/plain": [
       "'Good morning'"
      ]
     },
     "execution_count": 9,
     "metadata": {},
     "output_type": "execute_result"
    }
   ],
   "source": [
    "f3=open('test.txt','r')\n",
    "f3.read()  # it gets overwritten"
   ]
  },
  {
   "cell_type": "code",
   "execution_count": 15,
   "id": "c4acddc6-3f30-465a-95a4-9fd23b204b0b",
   "metadata": {},
   "outputs": [
    {
     "name": "stdout",
     "output_type": "stream",
     "text": [
      "15\n"
     ]
    }
   ],
   "source": [
    "f1 = open('test.txt','a')  # append \n",
    "content = f1.write(\" \\n Hello world!\")\n",
    "print(content)\n",
    "f1.close() #(\\n next line)"
   ]
  },
  {
   "cell_type": "code",
   "execution_count": 18,
   "id": "53067f4a-1221-4171-80d4-304c26ed281d",
   "metadata": {},
   "outputs": [
    {
     "data": {
      "text/plain": [
       "'Good morningHello world!Hello world! /n Hello world! \\n Hello world!'"
      ]
     },
     "execution_count": 18,
     "metadata": {},
     "output_type": "execute_result"
    }
   ],
   "source": [
    "f4=open('test.txt','r')\n",
    "f4.read()"
   ]
  },
  {
   "cell_type": "code",
   "execution_count": 21,
   "id": "54788baa-232d-401b-a415-901f0bd68103",
   "metadata": {},
   "outputs": [
    {
     "data": {
      "text/plain": [
       "'Good morningHello world!Hello world! /n Hello world! \\n'"
      ]
     },
     "execution_count": 21,
     "metadata": {},
     "output_type": "execute_result"
    }
   ],
   "source": [
    "f3=open('test.txt','r')\n",
    "f3.readline() # 1st line\n",
    "# all lines (readlines)"
   ]
  },
  {
   "cell_type": "code",
   "execution_count": 24,
   "id": "b3daa980-f0eb-4bd7-a1b0-e4bee9e99c9e",
   "metadata": {},
   "outputs": [],
   "source": [
    "with open ('test.txt','w') as file:\n",
    "    file.write(\"hello Jitha\")"
   ]
  },
  {
   "cell_type": "code",
   "execution_count": 27,
   "id": "2597a9e4-6e35-47e4-9277-e0a31cb5a667",
   "metadata": {},
   "outputs": [],
   "source": [
    "with open(\"test.txt\",\"a\") as file:\n",
    "    file.write(\"\\n Hi sam\")"
   ]
  },
  {
   "cell_type": "code",
   "execution_count": 31,
   "id": "c02dabf4-30fe-44ab-a104-2051fb44cafb",
   "metadata": {},
   "outputs": [],
   "source": [
    "with open (\"test.txt\",\"r\") as file:\n",
    "    file.readlines()"
   ]
  },
  {
   "cell_type": "code",
   "execution_count": 33,
   "id": "ee206c38-513f-4510-96be-0786c65cca76",
   "metadata": {},
   "outputs": [
    {
     "name": "stdout",
     "output_type": "stream",
     "text": [
      "hello Jitha\n",
      " Hi sam\n",
      " Hi sam\n",
      " Hi sam\n"
     ]
    }
   ],
   "source": [
    "with open('test.txt','r') as file:\n",
    " content = file.read()\n",
    " print(content)"
   ]
  },
  {
   "cell_type": "code",
   "execution_count": 35,
   "id": "c52df126-36a1-4094-a3dd-c15fe79044a9",
   "metadata": {},
   "outputs": [
    {
     "name": "stdout",
     "output_type": "stream",
     "text": [
      "2.0\n",
      "program exceuted\n"
     ]
    }
   ],
   "source": [
    "a= 10\n",
    "b= 5\n",
    "c= a/b\n",
    "print (c)\n",
    "print (\"program exceuted\")"
   ]
  },
  {
   "cell_type": "code",
   "execution_count": 37,
   "id": "37baf69e-560c-46a5-8cab-b18fbe6fb063",
   "metadata": {},
   "outputs": [
    {
     "ename": "ZeroDivisionError",
     "evalue": "division by zero",
     "output_type": "error",
     "traceback": [
      "\u001b[31m---------------------------------------------------------------------------\u001b[39m",
      "\u001b[31mZeroDivisionError\u001b[39m                         Traceback (most recent call last)",
      "\u001b[36mCell\u001b[39m\u001b[36m \u001b[39m\u001b[32mIn[37]\u001b[39m\u001b[32m, line 5\u001b[39m\n\u001b[32m      3\u001b[39m a= \u001b[32m10\u001b[39m\n\u001b[32m      4\u001b[39m b= \u001b[32m0\u001b[39m\n\u001b[32m----> \u001b[39m\u001b[32m5\u001b[39m c= \u001b[43ma\u001b[49m\u001b[43m/\u001b[49m\u001b[43mb\u001b[49m\n\u001b[32m      6\u001b[39m \u001b[38;5;28mprint\u001b[39m (c)\n\u001b[32m      7\u001b[39m \u001b[38;5;28mprint\u001b[39m (\u001b[33m\"\u001b[39m\u001b[33mprogram exceuted\u001b[39m\u001b[33m\"\u001b[39m)\n",
      "\u001b[31mZeroDivisionError\u001b[39m: division by zero"
     ]
    }
   ],
   "source": [
    "# Exception Handling\n",
    "# zero division error(dision by zero)\n",
    "a= 10\n",
    "b= 0\n",
    "c= a/b\n",
    "print (c)\n",
    "print (\"program exceuted\")\n"
   ]
  },
  {
   "cell_type": "code",
   "execution_count": 39,
   "id": "cb06deeb-2d36-4fbb-a0e7-113860054f01",
   "metadata": {},
   "outputs": [
    {
     "name": "stdout",
     "output_type": "stream",
     "text": [
      "[1, 2, 3, 4, 5, 6, 7]\n"
     ]
    }
   ],
   "source": [
    "a=[1,2,3,4,5,6,7]\n",
    "print(a)\n"
   ]
  },
  {
   "cell_type": "code",
   "execution_count": 41,
   "id": "dd1fc12c-1568-48f5-b8de-fef7c1955ac3",
   "metadata": {},
   "outputs": [
    {
     "name": "stdout",
     "output_type": "stream",
     "text": [
      "3\n"
     ]
    }
   ],
   "source": [
    "print(a[2])"
   ]
  },
  {
   "cell_type": "code",
   "execution_count": 43,
   "id": "540d0143-b7cc-44f5-af3d-d7fbd99c6860",
   "metadata": {},
   "outputs": [
    {
     "ename": "IndexError",
     "evalue": "list index out of range",
     "output_type": "error",
     "traceback": [
      "\u001b[31m---------------------------------------------------------------------------\u001b[39m",
      "\u001b[31mIndexError\u001b[39m                                Traceback (most recent call last)",
      "\u001b[36mCell\u001b[39m\u001b[36m \u001b[39m\u001b[32mIn[43]\u001b[39m\u001b[32m, line 2\u001b[39m\n\u001b[32m      1\u001b[39m \u001b[38;5;66;03m# index error (list out of range)\u001b[39;00m\n\u001b[32m----> \u001b[39m\u001b[32m2\u001b[39m \u001b[38;5;28mprint\u001b[39m(\u001b[43ma\u001b[49m\u001b[43m[\u001b[49m\u001b[32;43m8\u001b[39;49m\u001b[43m]\u001b[49m)\n",
      "\u001b[31mIndexError\u001b[39m: list index out of range"
     ]
    }
   ],
   "source": [
    "# index error (list out of range)\n",
    "print(a[8])"
   ]
  },
  {
   "cell_type": "code",
   "execution_count": 45,
   "id": "2427a89a-b8ba-430d-9ed5-c13970038316",
   "metadata": {},
   "outputs": [
    {
     "name": "stdout",
     "output_type": "stream",
     "text": [
      "5.0\n",
      " not in list\n",
      "program exceuted\n"
     ]
    }
   ],
   "source": [
    "try:\n",
    " a= 10\n",
    " b= 2\n",
    " c= a/b\n",
    " print(c)\n",
    " l1 = [2,3,4,5,6,7]\n",
    " print(l1[6]) \n",
    "except ZeroDivisionError:\n",
    " print(\"Cannot divide by Zero\")\n",
    "except IndexError:\n",
    " print (\" not in list\")\n",
    "print (\"program exceuted\")"
   ]
  },
  {
   "cell_type": "code",
   "execution_count": 52,
   "id": "4d0a99f0-cecc-440c-8951-2dd94d81badf",
   "metadata": {},
   "outputs": [
    {
     "name": "stdout",
     "output_type": "stream",
     "text": [
      "5.0\n",
      "error\n",
      "program exceuted\n"
     ]
    }
   ],
   "source": [
    "try:\n",
    " a= 10\n",
    " b= 2\n",
    " c= a/b\n",
    " print(c)\n",
    " l1 = [2,3,4,5,6,7]\n",
    " print(l1[6]) \n",
    "except:\n",
    "    print(\"error\")\n",
    "\n",
    "print (\"program exceuted\")"
   ]
  },
  {
   "cell_type": "code",
   "execution_count": 53,
   "id": "bd9bfc28-757e-4662-934e-bf371d787710",
   "metadata": {},
   "outputs": [
    {
     "name": "stdout",
     "output_type": "stream",
     "text": [
      "4\n",
      "Cannot divide by Zero\n",
      "hello\n",
      "the program uses finally\n"
     ]
    }
   ],
   "source": [
    "try:\n",
    " l1 = [2,3,4,5,6,7]\n",
    " print(l1[2]) \n",
    " a= 10\n",
    " b= 0\n",
    " c= a/b\n",
    " print(c)\n",
    "except ZeroDivisionError:\n",
    " print(\"Cannot divide by Zero\")\n",
    "except IndexError:\n",
    " print (\" not in list\")\n",
    "else:\n",
    " print (\"program exceuted\")\n",
    "finally:\n",
    " print(\"hello\")\n",
    " print(\"the program uses finally\")"
   ]
  },
  {
   "cell_type": "code",
   "execution_count": 56,
   "id": "d63e49bb-2bed-4f4d-a335-1af39771c094",
   "metadata": {},
   "outputs": [
    {
     "ename": "FileNotFoundError",
     "evalue": "[Errno 2] No such file or directory: 'file1.txt'",
     "output_type": "error",
     "traceback": [
      "\u001b[31m---------------------------------------------------------------------------\u001b[39m",
      "\u001b[31mFileNotFoundError\u001b[39m                         Traceback (most recent call last)",
      "\u001b[36mCell\u001b[39m\u001b[36m \u001b[39m\u001b[32mIn[56]\u001b[39m\u001b[32m, line 3\u001b[39m\n\u001b[32m      1\u001b[39m file_names = [\u001b[33m\"\u001b[39m\u001b[33mfile1.txt\u001b[39m\u001b[33m\"\u001b[39m, \u001b[33m\"\u001b[39m\u001b[33mfile2.txt\u001b[39m\u001b[33m\"\u001b[39m, \u001b[33m\"\u001b[39m\u001b[33mfile3.txt\u001b[39m\u001b[33m\"\u001b[39m]\n\u001b[32m      2\u001b[39m \u001b[38;5;28;01mfor\u001b[39;00m file_name \u001b[38;5;129;01min\u001b[39;00m file_names:\n\u001b[32m----> \u001b[39m\u001b[32m3\u001b[39m  \u001b[38;5;28;01mwith\u001b[39;00m \u001b[38;5;28;43mopen\u001b[39;49m\u001b[43m(\u001b[49m\u001b[43mfile_name\u001b[49m\u001b[43m,\u001b[49m\u001b[43m \u001b[49m\u001b[33;43m'\u001b[39;49m\u001b[33;43mr\u001b[39;49m\u001b[33;43m'\u001b[39;49m\u001b[43m)\u001b[49m \u001b[38;5;28;01mas\u001b[39;00m file:\n\u001b[32m      4\u001b[39m      content = file.read()\n\u001b[32m      5\u001b[39m \u001b[38;5;28mprint\u001b[39m(\u001b[33mf\u001b[39m\u001b[33m\"\u001b[39m\u001b[33mContents of \u001b[39m\u001b[38;5;132;01m{\u001b[39;00mfile_name\u001b[38;5;132;01m}\u001b[39;00m\u001b[33m:\u001b[39m\u001b[38;5;130;01m\\n\u001b[39;00m\u001b[38;5;132;01m{\u001b[39;00mcontent\u001b[38;5;132;01m}\u001b[39;00m\u001b[38;5;130;01m\\n\u001b[39;00m\u001b[33m\"\u001b[39m)\n",
      "\u001b[36mFile \u001b[39m\u001b[32m~\\AppData\\Local\\Programs\\Python\\Python313\\Lib\\site-packages\\IPython\\core\\interactiveshell.py:325\u001b[39m, in \u001b[36m_modified_open\u001b[39m\u001b[34m(file, *args, **kwargs)\u001b[39m\n\u001b[32m    318\u001b[39m \u001b[38;5;28;01mif\u001b[39;00m file \u001b[38;5;129;01min\u001b[39;00m {\u001b[32m0\u001b[39m, \u001b[32m1\u001b[39m, \u001b[32m2\u001b[39m}:\n\u001b[32m    319\u001b[39m     \u001b[38;5;28;01mraise\u001b[39;00m \u001b[38;5;167;01mValueError\u001b[39;00m(\n\u001b[32m    320\u001b[39m         \u001b[33mf\u001b[39m\u001b[33m\"\u001b[39m\u001b[33mIPython won\u001b[39m\u001b[33m'\u001b[39m\u001b[33mt let you open fd=\u001b[39m\u001b[38;5;132;01m{\u001b[39;00mfile\u001b[38;5;132;01m}\u001b[39;00m\u001b[33m by default \u001b[39m\u001b[33m\"\u001b[39m\n\u001b[32m    321\u001b[39m         \u001b[33m\"\u001b[39m\u001b[33mas it is likely to crash IPython. If you know what you are doing, \u001b[39m\u001b[33m\"\u001b[39m\n\u001b[32m    322\u001b[39m         \u001b[33m\"\u001b[39m\u001b[33myou can use builtins\u001b[39m\u001b[33m'\u001b[39m\u001b[33m open.\u001b[39m\u001b[33m\"\u001b[39m\n\u001b[32m    323\u001b[39m     )\n\u001b[32m--> \u001b[39m\u001b[32m325\u001b[39m \u001b[38;5;28;01mreturn\u001b[39;00m \u001b[43mio_open\u001b[49m\u001b[43m(\u001b[49m\u001b[43mfile\u001b[49m\u001b[43m,\u001b[49m\u001b[43m \u001b[49m\u001b[43m*\u001b[49m\u001b[43margs\u001b[49m\u001b[43m,\u001b[49m\u001b[43m \u001b[49m\u001b[43m*\u001b[49m\u001b[43m*\u001b[49m\u001b[43mkwargs\u001b[49m\u001b[43m)\u001b[49m\n",
      "\u001b[31mFileNotFoundError\u001b[39m: [Errno 2] No such file or directory: 'file1.txt'"
     ]
    }
   ],
   "source": [
    "file_names = [\"file1.txt\", \"file2.txt\", \"file3.txt\"]\n",
    "for file_name in file_names:\n",
    " with open(file_name, 'r') as file:\n",
    "     content = file.read()\n",
    "print(f\"Contents of {file_name}:\\n{content}\\n\")"
   ]
  }
 ],
 "metadata": {
  "kernelspec": {
   "display_name": "Python 3 (ipykernel)",
   "language": "python",
   "name": "python3"
  },
  "language_info": {
   "codemirror_mode": {
    "name": "ipython",
    "version": 3
   },
   "file_extension": ".py",
   "mimetype": "text/x-python",
   "name": "python",
   "nbconvert_exporter": "python",
   "pygments_lexer": "ipython3",
   "version": "3.13.2"
  }
 },
 "nbformat": 4,
 "nbformat_minor": 5
}
