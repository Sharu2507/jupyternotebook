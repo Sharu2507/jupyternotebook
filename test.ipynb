{
 "cells": [
  {
   "cell_type": "code",
   "execution_count": 14,
   "id": "3f0df023-72cb-42a3-86f0-0626e507b2f5",
   "metadata": {},
   "outputs": [
    {
     "name": "stdin",
     "output_type": "stream",
     "text": [
      "Enter a string: SHaru\n"
     ]
    },
    {
     "name": "stdout",
     "output_type": "stream",
     "text": [
      "The reverse of a string is urahs\n"
     ]
    }
   ],
   "source": [
    "#Write a program to reverse a string. Using function and loops \n",
    "def reve(a):\n",
    "    rev=\"\"\n",
    "    for i in a:\n",
    "        rev=i+rev\n",
    "    return rev\n",
    "b=input(\"Enter a string:\")\n",
    "print(f\"The reverse of a string is {reve(b.lower())}\")\n"
   ]
  },
  {
   "cell_type": "code",
   "execution_count": 12,
   "id": "d3b3a46a-4831-4a05-befd-e6b64b507289",
   "metadata": {},
   "outputs": [
    {
     "name": "stdin",
     "output_type": "stream",
     "text": [
      "Enter a string: Madam\n"
     ]
    },
    {
     "name": "stdout",
     "output_type": "stream",
     "text": [
      "Palindrome\n"
     ]
    }
   ],
   "source": [
    "#Write a program to check if a string is a palindrome.\n",
    "def palindrome(a):\n",
    "    rev=\"\"\n",
    "    for i in a:\n",
    "        rev=i+rev\n",
    "    if rev==a:\n",
    "        print(\"Palindrome\")\n",
    "    else:\n",
    "        print(\"Not a palindrome\")\n",
    "\n",
    "a=input(\"Enter a string:\")\n",
    "palindrome(a.lower())"
   ]
  },
  {
   "cell_type": "code",
   "execution_count": 23,
   "id": "8568036c-b841-48a2-9281-084cb1b660eb",
   "metadata": {},
   "outputs": [
    {
     "name": "stdin",
     "output_type": "stream",
     "text": [
      "Enter a number: 5\n"
     ]
    },
    {
     "name": "stdout",
     "output_type": "stream",
     "text": [
      "[0, 1, 1, 2, 3, 5]\n"
     ]
    }
   ],
   "source": [
    "#Create a program to generate Fibonacci series up to n terms.\n",
    "def fib(n):\n",
    "    if n==0:\n",
    "        return 0\n",
    "    elif n==1 or n==2:\n",
    "        return 1\n",
    "    else:\n",
    "        return fib(n-1) +fib(n-2)\n",
    "a=[]\n",
    "n= int(input(\"Enter a number:\"))\n",
    "for i in range (0, n+1):\n",
    "    a.append(fib(i))\n",
    "print(a)"
   ]
  },
  {
   "cell_type": "code",
   "execution_count": 62,
   "id": "9dcf909e-04af-47fa-9101-28c8fb7ed14d",
   "metadata": {},
   "outputs": [
    {
     "name": "stdin",
     "output_type": "stream",
     "text": [
      "Enter a number upto which you need prime : 10\n"
     ]
    },
    {
     "name": "stdout",
     "output_type": "stream",
     "text": [
      "Prime numbers are: [2, 3, 5, 7]\n"
     ]
    }
   ],
   "source": [
    "# 4. Write a program to find all prime numbers up to n.\n",
    "def prime(numbers):\n",
    "    num=[]\n",
    "    [num.append(i) for i in range (2,numbers+1) if all (i%j!=0 for j in range (2,i))]\n",
    "    return num\n",
    "numbers=int(input(\"Enter a number upto which you need prime :\"))\n",
    "print(\"Prime numbers are:\",prime(numbers))\n"
   ]
  },
  {
   "cell_type": "code",
   "execution_count": 65,
   "id": "895424de-e3a3-4937-8a80-df17566458a5",
   "metadata": {},
   "outputs": [
    {
     "name": "stdin",
     "output_type": "stream",
     "text": [
      "Enter a number upto which you need prime : 10\n"
     ]
    },
    {
     "name": "stdout",
     "output_type": "stream",
     "text": [
      "Prime numbers are: [2, 3, 5, 7]\n"
     ]
    }
   ],
   "source": [
    "# another method\n",
    "def prime(numbers):\n",
    "    num=[]\n",
    "    for i in range (2,numbers+1):\n",
    "        for j in range (2,i):\n",
    "            if i%j==0:\n",
    "                break\n",
    "        else:\n",
    "            num.append(i)\n",
    "    return num\n",
    "numbers=int(input(\"Enter a number upto which you need prime :\"))\n",
    "print(\"Prime numbers are:\",prime(numbers))\n"
   ]
  },
  {
   "cell_type": "code",
   "execution_count": 19,
   "id": "27fb7a6b-a85c-4ba6-a79a-f8e4c955b176",
   "metadata": {},
   "outputs": [
    {
     "name": "stdin",
     "output_type": "stream",
     "text": [
      "Enter the number of items you wanna add : 6\n",
      "Enter item number 1: sugar\n",
      "Enter item number 2: sugar\n",
      "Enter item number 3: coffe powder\n",
      "Enter item number 4: milk\n",
      "Enter item number 5: milk\n",
      "Enter item number 6: chocolate\n"
     ]
    },
    {
     "name": "stdout",
     "output_type": "stream",
     "text": [
      "The Groceries list is :['sugar', 'coffe powder', 'milk', 'chocolate']\n"
     ]
    }
   ],
   "source": [
    "#  Write a program to remove duplicates from a list. Without set data structure\n",
    "unique=[]\n",
    "n=int(input(\"Enter the number of items you wanna add :\"))\n",
    "for i in range(0,n):\n",
    "    item = input(f\"Enter item number {i+1}:\")\n",
    "    if item not in unique:\n",
    "        unique.append(item.lower())\n",
    "print(f\"The Groceries list is :{unique}\")"
   ]
  },
  {
   "cell_type": "code",
   "execution_count": 28,
   "id": "d5ff81b1-1ed4-49d0-8c8f-cbe045ea70b5",
   "metadata": {},
   "outputs": [
    {
     "name": "stdin",
     "output_type": "stream",
     "text": [
      "Enter the number of numbers you want to enter : 5\n",
      "Enter the number 1 12\n",
      "Enter the number 2 3\n",
      "Enter the number 3 2\n",
      "Enter the number 4 1\n",
      "Enter the number 5 4\n"
     ]
    },
    {
     "name": "stdout",
     "output_type": "stream",
     "text": [
      "4\n"
     ]
    }
   ],
   "source": [
    "# 6. Create a program to find the second largest number in a list\n",
    "nums=[]\n",
    "n=int(input(\"Enter the number of numbers you want to enter :\"))\n",
    "[nums.append(int(input(f\"Enter the number {i+1}\")))for i in range (0,n)]\n",
    "nums.sort()\n",
    "print(nums[-2])"
   ]
  },
  {
   "cell_type": "code",
   "execution_count": 79,
   "id": "36431d6c-3010-4658-aca7-69d12c10aafb",
   "metadata": {},
   "outputs": [
    {
     "name": "stdout",
     "output_type": "stream",
     "text": [
      "10\n",
      "-2\n",
      "[2, 4, 5, 6]\n"
     ]
    }
   ],
   "source": [
    "#7. Write a program to generate a simple calculator\n",
    "def add(*args):\n",
    "    total=sum(num for num in args)\n",
    "    return total\n",
    "def sub(a,b):\n",
    "    dif=a-b\n",
    "    return dif\n",
    "def multi(*args):\n",
    "    product=1\n",
    "    for num in args:\n",
    "        product=product*num\n",
    "    return product\n",
    "print(add(1,2,3,4))\n",
    "print(sub(10,12))\n",
    "print(multi(2,4,5,6))"
   ]
  },
  {
   "cell_type": "code",
   "execution_count": null,
   "id": "eeefadc1-5f7b-4f96-a997-238c1770ce9d",
   "metadata": {},
   "outputs": [],
   "source": []
  },
  {
   "cell_type": "code",
   "execution_count": null,
   "id": "2f23988a-e3f0-441d-898c-8da8065ca523",
   "metadata": {},
   "outputs": [],
   "source": [
    "\"\"\"\n",
    "8. Write a program to read and write to files with error handling.\n",
    "9. Create a 3D NumPy array of shape (2, 3, 4). Convert it into a 2D array and then flatten it into a 1D array.\n",
    "10. Create two 2D NumPy arrays (3×2 and 2×3) and perform matrix multiplication using np.dot().\n",
    "\"\"\"\n"
   ]
  },
  {
   "cell_type": "code",
   "execution_count": 34,
   "id": "1312b64c-df0b-4452-9096-94d2647fc129",
   "metadata": {},
   "outputs": [
    {
     "name": "stdout",
     "output_type": "stream",
     "text": [
      "1\n",
      "2\n",
      "3\n",
      "4\n",
      "5\n",
      "6\n",
      "7\n",
      "8\n",
      "9\n",
      "10\n"
     ]
    }
   ],
   "source": [
    "for i in range(1,10+1):\n",
    "    print(i)"
   ]
  }
 ],
 "metadata": {
  "kernelspec": {
   "display_name": "Python 3 (ipykernel)",
   "language": "python",
   "name": "python3"
  },
  "language_info": {
   "codemirror_mode": {
    "name": "ipython",
    "version": 3
   },
   "file_extension": ".py",
   "mimetype": "text/x-python",
   "name": "python",
   "nbconvert_exporter": "python",
   "pygments_lexer": "ipython3",
   "version": "3.13.2"
  }
 },
 "nbformat": 4,
 "nbformat_minor": 5
}
