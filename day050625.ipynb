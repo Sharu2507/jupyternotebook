{
 "cells": [
  {
   "cell_type": "code",
   "execution_count": 9,
   "id": "bd767a76-2cc1-4fc1-add9-51048e3f1031",
   "metadata": {},
   "outputs": [
    {
     "name": "stdin",
     "output_type": "stream",
     "text": [
      "Enter a text : Out of the fifteen franchises that have played in the league, Mumbai Indians and Chennai Super Kings are the most successful teams in the league's history with five titles each, with Kolkata Knight Riders having won three titles.\n"
     ]
    },
    {
     "name": "stdout",
     "output_type": "stream",
     "text": [
      "The vowels are : {'a', 'u', 'o', 'e', 'i'}\n",
      "The number of vowels are : 5\n",
      "The number of words containing vowels are: {'Mumbai', 'played', 'are', 'Riders', 'with', 'Chennai', 'have', 'of', 'most', 'successful', 'won', 'titles.', 'each,', 'and', 'Super', \"league's\", 'titles', 'in', 'five', 'Indians', 'franchises', 'Knight', 'the', 'league,', 'three', 'history', 'Out', 'Kings', 'having', 'Kolkata', 'teams', 'that', 'fifteen'}\n"
     ]
    }
   ],
   "source": [
    "text = input(\"Enter a text :\")\n",
    "sentence=text.split()\n",
    "vowels=[\"a\",\"e\",\"i\",\"o\",\"u\"]\n",
    "a=set()\n",
    "k=set()\n",
    "count=0\n",
    "for i in sentence:\n",
    "    for j in i:\n",
    "        if j in vowels:\n",
    "            k.add(j)\n",
    "            a.add(i)\n",
    "print(\"The vowels are :\",k)\n",
    "for l in k:\n",
    "    count+=1\n",
    "print(\"The number of vowels are :\",count)\n",
    "print(\"The number of words containing vowels are:\",a)"
   ]
  }
 ],
 "metadata": {
  "kernelspec": {
   "display_name": "Python 3 (ipykernel)",
   "language": "python",
   "name": "python3"
  },
  "language_info": {
   "codemirror_mode": {
    "name": "ipython",
    "version": 3
   },
   "file_extension": ".py",
   "mimetype": "text/x-python",
   "name": "python",
   "nbconvert_exporter": "python",
   "pygments_lexer": "ipython3",
   "version": "3.13.2"
  }
 },
 "nbformat": 4,
 "nbformat_minor": 5
}
