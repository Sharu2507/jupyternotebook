{
 "cells": [
  {
   "cell_type": "code",
   "execution_count": 3,
   "id": "bd767a76-2cc1-4fc1-add9-51048e3f1031",
   "metadata": {},
   "outputs": [
    {
     "name": "stdin",
     "output_type": "stream",
     "text": [
      "Enter a text : Hi my name is sam i am studying 5th\n"
     ]
    },
    {
     "name": "stdout",
     "output_type": "stream",
     "text": [
      "The vowels are : {'e', 'i', 'u', 'a'}\n",
      "The number of vowels are : 4\n"
     ]
    }
   ],
   "source": [
    "text = input(\"Enter a text :\")\n",
    "sentence=text.split()\n",
    "vowels=[\"a\",\"e\",\"i\",\"o\",\"u\"]\n",
    "k=set()\n",
    "count=0\n",
    "for i in sentence:\n",
    "    for j in i:\n",
    "        if j in vowels:\n",
    "            k.add(j)\n",
    "print(\"The vowels are :\",k)\n",
    "for l in k:\n",
    "    count+=1\n",
    "print(\"The number of vowels are :\",count)"
   ]
  }
 ],
 "metadata": {
  "kernelspec": {
   "display_name": "Python 3 (ipykernel)",
   "language": "python",
   "name": "python3"
  },
  "language_info": {
   "codemirror_mode": {
    "name": "ipython",
    "version": 3
   },
   "file_extension": ".py",
   "mimetype": "text/x-python",
   "name": "python",
   "nbconvert_exporter": "python",
   "pygments_lexer": "ipython3",
   "version": "3.13.2"
  }
 },
 "nbformat": 4,
 "nbformat_minor": 5
}
