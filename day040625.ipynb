{
 "cells": [
  {
   "cell_type": "code",
   "execution_count": 6,
   "id": "fbc5ffdb-2742-48a0-b747-e98007c37b99",
   "metadata": {},
   "outputs": [],
   "source": [
    "# If else statements\n",
    "#syntax: \n",
    "'''\n",
    "if condition:\n",
    "    code block if condition is true\n",
    "else:\n",
    "    code block if condition is false\n",
    "'''"
   ]
  },
  {
   "cell_type": "code",
   "execution_count": 3,
   "id": "4fb36ba9-05a8-44fd-8ba3-b44039de972d",
   "metadata": {},
   "outputs": [
    {
     "name": "stdin",
     "output_type": "stream",
     "text": [
      "Enter your age in numbers: 19\n"
     ]
    },
    {
     "name": "stdout",
     "output_type": "stream",
     "text": [
      " You are eligible to vote\n"
     ]
    }
   ],
   "source": [
    "age = int(input(\"Enter your age in numbers:\"))\n",
    "if age >= 18:\n",
    "    print(\" You are eligible to vote\")\n",
    "else:\n",
    "    print(\"you are not eligible\")\n",
    "    "
   ]
  },
  {
   "cell_type": "markdown",
   "id": "9e8d4220-9501-4662-aa80-13590c24a169",
   "metadata": {},
   "source": [
    "x=int(input(\"Enter a number:\"))\n",
    "if x>=0:\n",
    "    print(\"It is a positive number\")\n",
    "else:\n",
    "    print(\" it is a negative number\")"
   ]
  },
  {
   "cell_type": "code",
   "execution_count": 18,
   "id": "734be683-63e2-494c-a6b5-ae434bacb79d",
   "metadata": {},
   "outputs": [
    {
     "name": "stdin",
     "output_type": "stream",
     "text": [
      "Enter a number: 0\n"
     ]
    },
    {
     "name": "stdout",
     "output_type": "stream",
     "text": [
      "The number is 0\n"
     ]
    }
   ],
   "source": [
    "y= int(input(\"Enter a number:\"))\n",
    "if y>0:\n",
    "    print(\"The entered number is a positive number\")\n",
    "elif y==0:\n",
    "    print(\"The number is 0\")\n",
    "else:\n",
    "    print(\"negative number\")\n",
    "    "
   ]
  },
  {
   "cell_type": "code",
   "execution_count": 87,
   "id": "38f83204-4d9a-4f86-af4c-46a2d84cdfa2",
   "metadata": {},
   "outputs": [
    {
     "name": "stdin",
     "output_type": "stream",
     "text": [
      "Enter your mark obtained: 45.5\n"
     ]
    },
    {
     "name": "stdout",
     "output_type": "stream",
     "text": [
      "Grade : D\n"
     ]
    }
   ],
   "source": [
    "'''\n",
    "Grade calculator\n",
    "# 90 and above print grade a\n",
    "# 75 and above print b\n",
    "# 60 to 74 grade c\n",
    "# below 60 grade d\n",
    "'''\n",
    "# answer\n",
    "mark = float(input(\"Enter your mark obtained:\"))\n",
    "if mark >= 90:\n",
    "    print(\"Grade : A\")\n",
    "elif mark>=75<90:\n",
    "    print(\"Grade :B\")\n",
    "elif mark >=60<75:\n",
    "    print(\"Grade : C\")\n",
    "elif mark <60:\n",
    "    print(\"Grade : D\")\n",
    "else:\n",
    "    print(\"Invalid\")\n",
    "\n"
   ]
  },
  {
   "cell_type": "code",
   "execution_count": 84,
   "id": "27fcad20-0e6f-4afb-8c46-7e1e28dd55fe",
   "metadata": {},
   "outputs": [
    {
     "name": "stdin",
     "output_type": "stream",
     "text": [
      "Enter your mark in Maths for 100 in decimal : 98\n",
      "Enter your mark in English for 100 in decimal : 88\n",
      "Enter your mark in Science for 100 in decimal : 87.5\n",
      "Enter your mark in Tamil for 100 in decimal : 98\n",
      "Enter your mark in Social for 100 in decimal : 100\n"
     ]
    },
    {
     "name": "stdout",
     "output_type": "stream",
     "text": [
      "The total marks obtained is:471.5\n",
      "Grade :B\n"
     ]
    }
   ],
   "source": [
    "# grade calculator answer\n",
    "subjects=[\"Maths\",\"English\",\"Science\",\"Tamil\",\"Social\"]\n",
    "total=0\n",
    "for i in subjects:\n",
    "    n=float(input(f\"Enter your mark in {i} for 100:\"))\n",
    "    total=total+n\n",
    "print(f\"The total marks obtained is:{total}\")\n",
    "if total >= 480:\n",
    "    print(\"Grade : A\")\n",
    "elif total>=455<480:\n",
    "    print(\"Grade :B\")\n",
    "elif total >=430<455:\n",
    "    print(\"Grade : C\")\n",
    "elif total <430:\n",
    "    print(\"Grade : D\")\n",
    "else:\n",
    "    print(\"Invalid\")\n",
    "\n"
   ]
  },
  {
   "cell_type": "code",
   "execution_count": 24,
   "id": "fa68d804-58a7-469f-ae92-ac38bccaf7fa",
   "metadata": {},
   "outputs": [
    {
     "name": "stdin",
     "output_type": "stream",
     "text": [
      "Enter your age : 18\n",
      "Do you have voter id ,Enter True or False: True\n"
     ]
    },
    {
     "name": "stdout",
     "output_type": "stream",
     "text": [
      "You can vote\n"
     ]
    }
   ],
   "source": [
    "# nested if\n",
    "'''\n",
    "if condition1:\n",
    "    if condition2:\n",
    "'''\n",
    "age = int(input(\"Enter your age :\"))\n",
    "id = bool(input(\"Do you have voter id ,Enter True or False:\"))\n",
    "if age>=18:\n",
    "    if id:\n",
    "        print(\"You can vote\")\n",
    "    else:\n",
    "        print(\"You need Id to vote\")\n",
    "else:\n",
    "    print(\"you are too young\")\n",
    "        \n"
   ]
  },
  {
   "cell_type": "code",
   "execution_count": 29,
   "id": "a9c4a922-a5c9-430f-a0e8-3c3d81a01c63",
   "metadata": {},
   "outputs": [
    {
     "name": "stdin",
     "output_type": "stream",
     "text": [
      "Enter your age:  16\n",
      "Do you have a valid ID? (yes/no):  no\n"
     ]
    },
    {
     "name": "stdout",
     "output_type": "stream",
     "text": [
      "You must be at least 18 years old.\n"
     ]
    }
   ],
   "source": [
    "age = int(input(\"Enter your age: \"))\n",
    "has_id = input(\"Do you have a valid ID? (yes/no): \")\n",
    "\n",
    "if age >= 18:\n",
    "    if has_id == \"yes\":\n",
    "        print(\"Access granted.\")\n",
    "    else:\n",
    "        print(\"You need a valid ID to enter.\")\n",
    "else:\n",
    " print(\"You must be at least 18 years old.\")"
   ]
  },
  {
   "cell_type": "code",
   "execution_count": 30,
   "id": "79c4b10c-d2c6-4a9f-874f-4e329b5b9300",
   "metadata": {},
   "outputs": [],
   "source": [
    "# questions for nested if (students scholarship eligibility)\n",
    "#condition (12 th passed out)\n",
    "# codition2(score above 90)"
   ]
  },
  {
   "cell_type": "code",
   "execution_count": 93,
   "id": "774f9e8a-d466-4114-b06b-a95d29468ff3",
   "metadata": {},
   "outputs": [
    {
     "name": "stdin",
     "output_type": "stream",
     "text": [
      "Have you completed your 12th board ? (yes/no): yes\n",
      "Enter your 12th marks for 500: 449.5\n"
     ]
    },
    {
     "name": "stdout",
     "output_type": "stream",
     "text": [
      "Your marks doesn't align with the needs!\n"
     ]
    }
   ],
   "source": [
    "# Answer for nested if \n",
    "has_passed= (input(\"Have you completed your 12th board ? (yes/no):\"))\n",
    "p = has_passed.lower()\n",
    "if p==\"yes\":\n",
    "    score = float(input(\"Enter your 12th marks for 500:\"))\n",
    "    if score >=450:\n",
    "        print(\"Congrats you are eligible for the scholarship\")\n",
    "    else:\n",
    "        print(\"Your marks doesn't align with the needs!\")\n",
    "else:\n",
    "    print(\"You are not eligible, minimum qualification must be met\")\n",
    "    "
   ]
  },
  {
   "cell_type": "code",
   "execution_count": null,
   "id": "127af741-8e7d-4f37-95fa-cadb9b3d1947",
   "metadata": {},
   "outputs": [],
   "source": [
    "# while loop and for loop are control statements\n",
    "# if , nested if , if else , if else ladder , elif ladder are conditional statements\n",
    "while condition:\n",
    "    block of code is True (keeps iterating until the condition becomes false)\n"
   ]
  },
  {
   "cell_type": "code",
   "execution_count": 37,
   "id": "6c9209a4-1c5a-486f-965b-d7fd91bc76b9",
   "metadata": {},
   "outputs": [
    {
     "name": "stdout",
     "output_type": "stream",
     "text": [
      "0\n",
      "1\n",
      "2\n",
      "3\n",
      "4\n",
      "5\n",
      "6\n",
      "7\n",
      "8\n",
      "9\n",
      "10\n",
      "loop exit\n"
     ]
    }
   ],
   "source": [
    "count =0\n",
    "while count <=10 :\n",
    "    print(count)\n",
    "    count+=1\n",
    "else:\n",
    "    print(\"loop exit\")\n",
    "    "
   ]
  },
  {
   "cell_type": "code",
   "execution_count": 41,
   "id": "52448f3a-8625-453f-ada0-da07c38bfcbc",
   "metadata": {},
   "outputs": [
    {
     "name": "stdout",
     "output_type": "stream",
     "text": [
      "0\n",
      "1\n",
      "2\n",
      "3\n",
      "4\n"
     ]
    }
   ],
   "source": [
    "count =0\n",
    "while count <=10 :\n",
    "    print(count)\n",
    "    count+=1 # the condition breaks before 5 being displayed\n",
    "    if count==5:\n",
    "        break\n",
    "    "
   ]
  },
  {
   "cell_type": "code",
   "execution_count": 110,
   "id": "e6590341-9958-450c-9844-1c087fefbeaa",
   "metadata": {},
   "outputs": [
    {
     "name": "stdout",
     "output_type": "stream",
     "text": [
      "1\n",
      "2\n",
      "3\n",
      "4\n",
      "6\n",
      "7\n",
      "8\n",
      "9\n",
      "10\n"
     ]
    }
   ],
   "source": [
    "count=0\n",
    "while count <10:\n",
    "    count+=1\n",
    "    if count==5:\n",
    "        continue\n",
    "    print(count)\n",
    "    \n",
    "    "
   ]
  },
  {
   "cell_type": "code",
   "execution_count": 102,
   "id": "51b212c7-20d9-4ca3-af06-ea71232f9839",
   "metadata": {},
   "outputs": [],
   "source": [
    "# 1 to 20 even \n",
    "# 1 to 100 using break at 50\n",
    "#1 to 100 using continue at 50\n"
   ]
  },
  {
   "cell_type": "code",
   "execution_count": 111,
   "id": "0bf464a7-7cd3-41e1-8a3d-c5d6e8a826f3",
   "metadata": {},
   "outputs": [
    {
     "name": "stdout",
     "output_type": "stream",
     "text": [
      "2\n",
      "4\n",
      "6\n",
      "8\n",
      "10\n",
      "12\n",
      "14\n",
      "16\n",
      "18\n",
      "20\n"
     ]
    }
   ],
   "source": [
    "#answer \n",
    "num=0\n",
    "while num<20:\n",
    "    num+=1\n",
    "    if num%2==0:\n",
    "        print(num)\n",
    "    "
   ]
  },
  {
   "cell_type": "code",
   "execution_count": 112,
   "id": "ef3f7095-90b2-4e46-a710-85b11a67788a",
   "metadata": {},
   "outputs": [
    {
     "name": "stdout",
     "output_type": "stream",
     "text": [
      "1\n",
      "2\n",
      "3\n",
      "4\n",
      "5\n",
      "6\n",
      "7\n",
      "8\n",
      "9\n",
      "10\n",
      "11\n",
      "12\n",
      "13\n",
      "14\n",
      "15\n",
      "16\n",
      "17\n",
      "18\n",
      "19\n",
      "20\n",
      "21\n",
      "22\n",
      "23\n",
      "24\n",
      "25\n",
      "26\n",
      "27\n",
      "28\n",
      "29\n",
      "30\n",
      "31\n",
      "32\n",
      "33\n",
      "34\n",
      "35\n",
      "36\n",
      "37\n",
      "38\n",
      "39\n",
      "40\n",
      "41\n",
      "42\n",
      "43\n",
      "44\n",
      "45\n",
      "46\n",
      "47\n",
      "48\n",
      "49\n",
      "50\n"
     ]
    }
   ],
   "source": [
    "#answer\n",
    "nums=0\n",
    "while nums<=100:\n",
    "    nums+=1\n",
    "    print(nums)\n",
    "    if nums==50:\n",
    "        break\n",
    "    "
   ]
  },
  {
   "cell_type": "code",
   "execution_count": 116,
   "id": "0ed65ff7-cfaf-4c15-986a-98705f2238cd",
   "metadata": {},
   "outputs": [
    {
     "name": "stdout",
     "output_type": "stream",
     "text": [
      "[1, 2, 3, 4, 5, 6, 7, 8, 9, 10, 11, 12, 13, 14, 15, 16, 17, 18, 19, 20, 21, 22, 23, 24, 25, 26, 27, 28, 29, 30, 31, 32, 33, 34, 35, 36, 37, 38, 39, 40, 41, 42, 43, 44, 45, 46, 47, 48, 49, 51, 52, 53, 54, 55, 56, 57, 58, 59, 60, 61, 62, 63, 64, 65, 66, 67, 68, 69, 70, 71, 72, 73, 74, 75, 76, 77, 78, 79, 80, 81, 82, 83, 84, 85, 86, 87, 88, 89, 90, 91, 92, 93, 94, 95, 96, 97, 98, 99, 100, 101]\n"
     ]
    }
   ],
   "source": [
    "#answer\n",
    "ints=0\n",
    "a=[]\n",
    "while ints<=100:\n",
    "    ints+=1\n",
    "    if ints==50:\n",
    "        continue\n",
    "    a.append(ints)\n",
    "print(a)"
   ]
  },
  {
   "cell_type": "code",
   "execution_count": 50,
   "id": "738da836-49fd-4104-b63e-421b38c73d0a",
   "metadata": {},
   "outputs": [
    {
     "name": "stdout",
     "output_type": "stream",
     "text": [
      "0\n",
      "1\n",
      "2\n",
      "3\n",
      "4\n"
     ]
    }
   ],
   "source": [
    "for i in range (5):\n",
    "    print(i)"
   ]
  },
  {
   "cell_type": "code",
   "execution_count": 54,
   "id": "d7dcc45f-64df-4cd4-ae04-017c4bba563a",
   "metadata": {},
   "outputs": [
    {
     "name": "stdout",
     "output_type": "stream",
     "text": [
      "Apple\n",
      "grapes\n",
      "mango\n",
      "orange\n",
      "pineapple\n",
      "##############\n",
      "0 Apple\n",
      "1 grapes\n",
      "2 mango\n",
      "3 orange\n",
      "4 pineapple\n"
     ]
    }
   ],
   "source": [
    "fruit = [\"Apple\", \"grapes\",\"mango\",\"orange\", \"pineapple\"]\n",
    "for i in fruit:\n",
    "    print(i)\n",
    "print (\"##############\")\n",
    "\n",
    "for index , i in enumerate(fruit):\n",
    "    print(index,i)"
   ]
  },
  {
   "cell_type": "code",
   "execution_count": 59,
   "id": "c37102b4-24fe-4fdb-9b1c-f1320efe1a67",
   "metadata": {},
   "outputs": [
    {
     "name": "stdout",
     "output_type": "stream",
     "text": [
      "(a) apple\n",
      "(b) banana\n",
      "(c) cherry\n",
      "(d) mango\n",
      "(e) orange\n"
     ]
    }
   ],
   "source": [
    "index_names = [\"(a)\", \"(b)\", \"(c)\", \"(d)\", \"(e)\"]\n",
    "fruits = [\"apple\", \"banana\", \"cherry\", \"mango\", \"orange\"]\n",
    "\n",
    "for idx, fruit in enumerate(fruits):\n",
    "    print(f\"{index_names[idx]} {fruit}\")"
   ]
  },
  {
   "cell_type": "code",
   "execution_count": 117,
   "id": "009a4c8b-6c14-4a8a-90e8-f4db728a9176",
   "metadata": {},
   "outputs": [
    {
     "name": "stdout",
     "output_type": "stream",
     "text": [
      "[8, 9, 10, 11, 19]\n"
     ]
    }
   ],
   "source": [
    "# create a list with positive and negative values and print only positive values from the list using for loop\n",
    "# count the vowels in a given string \n",
    "# answer\n",
    "b=[-1,-4,8,9,10,-3,11,-2,19,-20]\n",
    "c=[]\n",
    "for i in b:\n",
    "    if i>0:\n",
    "        c.append(i)\n",
    "print(c)"
   ]
  },
  {
   "cell_type": "code",
   "execution_count": 11,
   "id": "5aebbfdf-31d6-4164-ab62-7ab5def765c2",
   "metadata": {},
   "outputs": [
    {
     "name": "stdin",
     "output_type": "stream",
     "text": [
      "Enter any word: conditional\n"
     ]
    },
    {
     "name": "stdout",
     "output_type": "stream",
     "text": [
      "The vowels present is {'i', 'o', 'a'} and the total number of vowels is 3\n"
     ]
    }
   ],
   "source": [
    "# answers\n",
    "vowels=[\"a\",\"e\",\"i\",\"o\",\"u\"]\n",
    "string=input(\"Enter any word:\")\n",
    "d=string.lower()\n",
    "no=0\n",
    "vo=set()\n",
    "for i in d:\n",
    "    if i in vowels:\n",
    "        vo.add(i)\n",
    "for j in vo:\n",
    "    no+=1\n",
    "        \n",
    "print(f\"The vowels present is {vo} and the total number of vowels is {no}\")\n",
    "\n",
    "    \n"
   ]
  },
  {
   "cell_type": "code",
   "execution_count": 74,
   "id": "b5b1ad44-b23d-4ad3-aa50-d12a99a0a15e",
   "metadata": {},
   "outputs": [
    {
     "name": "stdout",
     "output_type": "stream",
     "text": [
      "[1, 4, 9, 16, 25, 36, 49, 64, 81, 100]\n"
     ]
    }
   ],
   "source": [
    "num= [1,2,3,4,5,6,7,8,9,10]\n",
    "square = [i**2 for i in num]\n",
    "print(square)"
   ]
  },
  {
   "cell_type": "code",
   "execution_count": 66,
   "id": "e3db6190-f8ba-4154-9b3a-a10b4f2fb392",
   "metadata": {},
   "outputs": [],
   "source": [
    "#drjitha.datascience@gmail.com\n",
    "#gokulvasan.v@hyperlaunch.com"
   ]
  },
  {
   "cell_type": "code",
   "execution_count": null,
   "id": "872ef110-2cf5-46b0-a956-4ca2b9d960ca",
   "metadata": {},
   "outputs": [],
   "source": []
  }
 ],
 "metadata": {
  "kernelspec": {
   "display_name": "Python 3 (ipykernel)",
   "language": "python",
   "name": "python3"
  },
  "language_info": {
   "codemirror_mode": {
    "name": "ipython",
    "version": 3
   },
   "file_extension": ".py",
   "mimetype": "text/x-python",
   "name": "python",
   "nbconvert_exporter": "python",
   "pygments_lexer": "ipython3",
   "version": "3.13.2"
  }
 },
 "nbformat": 4,
 "nbformat_minor": 5
}
