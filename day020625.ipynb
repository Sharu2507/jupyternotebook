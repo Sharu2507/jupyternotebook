{
 "cells": [
  {
   "cell_type": "code",
   "execution_count": 2,
   "id": "59351496-afd8-4521-919e-f848264d2f0b",
   "metadata": {},
   "outputs": [
    {
     "name": "stdout",
     "output_type": "stream",
     "text": [
      "<class 'tuple'>\n"
     ]
    },
    {
     "data": {
      "text/plain": [
       "(1, 2, 3, 'hello', 3.14)"
      ]
     },
     "execution_count": 2,
     "metadata": {},
     "output_type": "execute_result"
    }
   ],
   "source": [
    "###\n",
    "# There are 5 types of data structures (Tuples, set , list ,dictionaries, string)\n",
    "#Tuples\n",
    "# Tuples can have all data types which can be enclosed by paranthesis but seperated by commas\n",
    "\n",
    "t=(1,2,3,\"hello\",3.14)\n",
    "print(type(t))\n",
    "t\n"
   ]
  },
  {
   "cell_type": "code",
   "execution_count": 4,
   "id": "20e69825-c986-4605-8c4d-762236a90b1a",
   "metadata": {},
   "outputs": [
    {
     "data": {
      "text/plain": [
       "1"
      ]
     },
     "execution_count": 4,
     "metadata": {},
     "output_type": "execute_result"
    }
   ],
   "source": [
    "#Tuples are immutable(i.e cannot alter a single element or change the element)\n",
    "#eg : del t[1] we will get type error\n",
    "#indexing (0th ,1st,2nd,3rd,4th...) \n",
    "t[0]\n",
    "t[1]\n",
    "### unpacking (assigning variables to elements in tuple and then calling each variable)\n",
    "a,b,c,d,e=t\n",
    "a\n"
   ]
  },
  {
   "cell_type": "code",
   "execution_count": 6,
   "id": "aed05732-9546-4c0c-97d3-5cd193e2a2cf",
   "metadata": {},
   "outputs": [
    {
     "data": {
      "text/plain": [
       "(3.14, 'hello', 3, 2, 1)"
      ]
     },
     "execution_count": 6,
     "metadata": {},
     "output_type": "execute_result"
    }
   ],
   "source": [
    "#slicing (start : stop :step)\n",
    "t[1:4]\n",
    "t[::1]\n",
    "t[-1] # from last\n",
    "t[::-1]# reverse\n"
   ]
  },
  {
   "cell_type": "code",
   "execution_count": 8,
   "id": "39bee3c5-471b-4770-96ce-53baf0592987",
   "metadata": {},
   "outputs": [],
   "source": [
    "# methods performed in tuple\n",
    "#t.count(3)\n",
    "#index()\n",
    "\n",
    "#Built in functions\n",
    "#min(t), max(),len(),sorted(),sum(),tuple()(to convert dictionaries or other structures to tuple)\n",
    "#max(t) # type error :since this tuple has all data types\n",
    "#creation , repition (t*2), concatenation \n"
   ]
  },
  {
   "cell_type": "code",
   "execution_count": 10,
   "id": "95f06d1b-9de1-4012-88e1-0ba027f5e205",
   "metadata": {},
   "outputs": [
    {
     "name": "stdout",
     "output_type": "stream",
     "text": [
      "False\n",
      "hello, Sharm\n",
      "hello, Sharu\n"
     ]
    }
   ],
   "source": [
    "b1=(1,34,5,6,7,8)\n",
    "b1.count(34)\n",
    "# Tuple membership\n",
    "print(2 in b1)\n",
    "#we can iterate using tuple\n",
    "for name in (\"Sharm\", \"Sharu\"):\n",
    "    print(\"hello,\", name)"
   ]
  },
  {
   "cell_type": "code",
   "execution_count": 11,
   "id": "aa8c8bec-43be-4f63-88b6-faff3ad23e41",
   "metadata": {},
   "outputs": [
    {
     "data": {
      "text/plain": [
       "4"
      ]
     },
     "execution_count": 11,
     "metadata": {},
     "output_type": "execute_result"
    }
   ],
   "source": [
    "# List are mutable (ie , single element can be accessed or changed)\n",
    "#methods:\n",
    "# append(), extend(), reverse(),index(), pop()\n",
    "#l1.append(4)---adds 5 to last place\n",
    "#li.insert(1,2)---adds 1 to the 2nd position\n",
    "#l1.remove('p')---removes particular element\n",
    "#l1.pop(1)---removes element in the particular position 1 and returns the element\n",
    "#l1.reverse()---reverse\n",
    "l1=[1,2,4,5,6]\n",
    "l1.pop(2)\n",
    "#"
   ]
  }
 ],
 "metadata": {
  "kernelspec": {
   "display_name": "Python 3 (ipykernel)",
   "language": "python",
   "name": "python3"
  },
  "language_info": {
   "codemirror_mode": {
    "name": "ipython",
    "version": 3
   },
   "file_extension": ".py",
   "mimetype": "text/x-python",
   "name": "python",
   "nbconvert_exporter": "python",
   "pygments_lexer": "ipython3",
   "version": "3.13.2"
  }
 },
 "nbformat": 4,
 "nbformat_minor": 5
}
