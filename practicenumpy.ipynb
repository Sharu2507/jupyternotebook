{
 "cells": [
  {
   "cell_type": "code",
   "execution_count": 2,
   "id": "731f642c-316c-48b8-a390-66ff469f5abe",
   "metadata": {},
   "outputs": [],
   "source": [
    "import numpy as np"
   ]
  },
  {
   "cell_type": "code",
   "execution_count": 3,
   "id": "8ad5b565-c8e3-4aeb-ade9-e910e4e3b0c2",
   "metadata": {},
   "outputs": [
    {
     "data": {
      "text/plain": [
       "array([1, 2, 3, 4])"
      ]
     },
     "execution_count": 3,
     "metadata": {},
     "output_type": "execute_result"
    }
   ],
   "source": [
    "# creating 1D\n",
    "arr1 = np.array([1,2,3,4])\n",
    "arr1"
   ]
  },
  {
   "cell_type": "code",
   "execution_count": 4,
   "id": "9c3dce2f-45a4-431a-ab7c-6d47ba252bac",
   "metadata": {},
   "outputs": [
    {
     "data": {
      "text/plain": [
       "array([[1, 2, 3],\n",
       "       [4, 5, 6]])"
      ]
     },
     "execution_count": 4,
     "metadata": {},
     "output_type": "execute_result"
    }
   ],
   "source": [
    "# creating 2 D array \n",
    "arr2 = np.array([[1,2,3],[4,5,6]]) # 2D that is 2 one dimensional arrays\n",
    "arr2"
   ]
  },
  {
   "cell_type": "code",
   "execution_count": 5,
   "id": "7b1cbbc4-dbbf-439e-93f2-9ca26fdd97de",
   "metadata": {},
   "outputs": [
    {
     "data": {
      "text/plain": [
       "array([[0., 0., 0.],\n",
       "       [0., 0., 0.],\n",
       "       [0., 0., 0.]])"
      ]
     },
     "execution_count": 5,
     "metadata": {},
     "output_type": "execute_result"
    }
   ],
   "source": [
    "n2=np.zeros([3,3])\n",
    "n2"
   ]
  },
  {
   "cell_type": "code",
   "execution_count": 6,
   "id": "bb906719-df3c-4e33-873d-43545bed6acd",
   "metadata": {},
   "outputs": [
    {
     "data": {
      "text/plain": [
       "array([[0, 0, 0, 0, 0],\n",
       "       [0, 0, 0, 0, 0],\n",
       "       [0, 0, 0, 0, 0]], dtype=int32)"
      ]
     },
     "execution_count": 6,
     "metadata": {},
     "output_type": "execute_result"
    }
   ],
   "source": [
    "n3 = np.zeros([3,5],dtype='int32') # dtype to avoid floating poits\n",
    "n3"
   ]
  },
  {
   "cell_type": "code",
   "execution_count": 7,
   "id": "6d1dac20-dc2d-4bc6-93f5-248e2ccd859c",
   "metadata": {},
   "outputs": [
    {
     "data": {
      "text/plain": [
       "array([[[1, 1, 1],\n",
       "        [1, 1, 1],\n",
       "        [1, 1, 1]],\n",
       "\n",
       "       [[1, 1, 1],\n",
       "        [1, 1, 1],\n",
       "        [1, 1, 1]]], dtype=int32)"
      ]
     },
     "execution_count": 7,
     "metadata": {},
     "output_type": "execute_result"
    }
   ],
   "source": [
    "n4= np.ones([2,3,3],dtype='int32')\n",
    "n4"
   ]
  },
  {
   "cell_type": "code",
   "execution_count": 8,
   "id": "0026b36a-9e4e-4334-a806-bbfee45489cd",
   "metadata": {},
   "outputs": [
    {
     "data": {
      "text/plain": [
       "array([[ 1.10312161e-311,  0.00000000e+000, -7.23926714e+077]])"
      ]
     },
     "execution_count": 8,
     "metadata": {},
     "output_type": "execute_result"
    }
   ],
   "source": [
    "empty= np.empty([1,3])\n",
    "empty"
   ]
  },
  {
   "cell_type": "code",
   "execution_count": 9,
   "id": "33ee7950-03a8-4daf-afb2-9bd1d8fe429e",
   "metadata": {},
   "outputs": [
    {
     "data": {
      "text/plain": [
       "array([0, 1, 2, 3, 4, 5, 6, 7, 8, 9])"
      ]
     },
     "execution_count": 9,
     "metadata": {},
     "output_type": "execute_result"
    }
   ],
   "source": [
    "n6 = np.arange(10)\n",
    "n6"
   ]
  },
  {
   "cell_type": "code",
   "execution_count": 10,
   "id": "8c819d9d-fa2c-4bed-b232-576a0547a23f",
   "metadata": {},
   "outputs": [
    {
     "data": {
      "text/plain": [
       "array([-5, -4, -3, -2, -1,  0,  1,  2,  3,  4])"
      ]
     },
     "execution_count": 10,
     "metadata": {},
     "output_type": "execute_result"
    }
   ],
   "source": [
    "n7=np.arange(-5,5,1) # start: stop :step\n",
    "n7 "
   ]
  },
  {
   "cell_type": "code",
   "execution_count": 11,
   "id": "f973df7d-3012-4824-8e30-abffe71d2eee",
   "metadata": {},
   "outputs": [
    {
     "data": {
      "text/plain": [
       "array([ 0,  5, 10, 15, 20], dtype=int32)"
      ]
     },
     "execution_count": 11,
     "metadata": {},
     "output_type": "execute_result"
    }
   ],
   "source": [
    "# linearly spaced entities \n",
    "n8=np.linspace(0,20,5, dtype='int32')\n",
    "n8"
   ]
  },
  {
   "cell_type": "code",
   "execution_count": 12,
   "id": "d23d4902-857d-47b4-b16c-5485a75192cd",
   "metadata": {},
   "outputs": [
    {
     "data": {
      "text/plain": [
       "array([[99, 99, 99, 99, 99],\n",
       "       [99, 99, 99, 99, 99]])"
      ]
     },
     "execution_count": 12,
     "metadata": {},
     "output_type": "execute_result"
    }
   ],
   "source": [
    "# value filling\n",
    "n9=np.full([2,5],99)\n",
    "n9"
   ]
  },
  {
   "cell_type": "code",
   "execution_count": 13,
   "id": "9c8f8026-06f5-4e6d-b8b0-d06e3c1978c1",
   "metadata": {},
   "outputs": [
    {
     "data": {
      "text/plain": [
       "array([[ True,  True,  True],\n",
       "       [ True,  True,  True],\n",
       "       [ True,  True,  True]])"
      ]
     },
     "execution_count": 13,
     "metadata": {},
     "output_type": "execute_result"
    }
   ],
   "source": [
    "n10=np.full([3,3],True)\n",
    "n10"
   ]
  },
  {
   "cell_type": "code",
   "execution_count": 14,
   "id": "6102f2dc-dd0a-453e-84d5-646e809b23bd",
   "metadata": {},
   "outputs": [
    {
     "data": {
      "text/plain": [
       "array([[0., 0., 0.],\n",
       "       [0., 0., 0.],\n",
       "       [0., 0., 0.]])"
      ]
     },
     "execution_count": 14,
     "metadata": {},
     "output_type": "execute_result"
    }
   ],
   "source": [
    "n11=np.empty([3,3])\n",
    "n11"
   ]
  },
  {
   "cell_type": "code",
   "execution_count": 15,
   "id": "9b524748-a25b-4491-8996-3261719972e1",
   "metadata": {},
   "outputs": [
    {
     "data": {
      "text/plain": [
       "array([[99., 99., 99.],\n",
       "       [99., 99., 99.],\n",
       "       [99., 99., 99.]])"
      ]
     },
     "execution_count": 15,
     "metadata": {},
     "output_type": "execute_result"
    }
   ],
   "source": [
    "n11.fill(99)\n",
    "n11"
   ]
  },
  {
   "cell_type": "code",
   "execution_count": 16,
   "id": "65297859-917b-4e95-a7f8-14ceec5c3794",
   "metadata": {},
   "outputs": [
    {
     "name": "stdout",
     "output_type": "stream",
     "text": [
      "[99. 99. 99.]\n"
     ]
    }
   ],
   "source": [
    "print(n11[1])"
   ]
  },
  {
   "cell_type": "code",
   "execution_count": 34,
   "id": "e7c88393-c2b1-4509-8325-3bbeba25609b",
   "metadata": {},
   "outputs": [
    {
     "name": "stdout",
     "output_type": "stream",
     "text": [
      "[99. 99. 99.]\n"
     ]
    }
   ],
   "source": [
    "print(n11[:,0])"
   ]
  },
  {
   "cell_type": "code",
   "execution_count": 35,
   "id": "fcd86f38-6625-465a-a87a-3dd032ad5ad2",
   "metadata": {},
   "outputs": [
    {
     "data": {
      "text/plain": [
       "array([[1, 2, 3],\n",
       "       [4, 5, 6]])"
      ]
     },
     "execution_count": 35,
     "metadata": {},
     "output_type": "execute_result"
    }
   ],
   "source": [
    "arr2"
   ]
  },
  {
   "cell_type": "code",
   "execution_count": 36,
   "id": "ab0c4f32-c116-42f2-ae6e-7f92c869366f",
   "metadata": {},
   "outputs": [
    {
     "name": "stdout",
     "output_type": "stream",
     "text": [
      "[1 4]\n"
     ]
    }
   ],
   "source": [
    "print(arr2[:,0])"
   ]
  },
  {
   "cell_type": "code",
   "execution_count": 37,
   "id": "3f823c81-7aaf-400e-88bc-bb1454a768f5",
   "metadata": {},
   "outputs": [
    {
     "name": "stdout",
     "output_type": "stream",
     "text": [
      "[2 5]\n"
     ]
    }
   ],
   "source": [
    "print(arr2[:,1])"
   ]
  },
  {
   "cell_type": "code",
   "execution_count": 39,
   "id": "122b54aa-4f51-45b1-8832-0eb2ee23bef8",
   "metadata": {},
   "outputs": [
    {
     "name": "stdout",
     "output_type": "stream",
     "text": [
      "[3 6]\n"
     ]
    }
   ],
   "source": [
    "print(arr2[:,2])"
   ]
  },
  {
   "cell_type": "code",
   "execution_count": 17,
   "id": "97501b05-2284-4a09-8e76-060b10398489",
   "metadata": {},
   "outputs": [
    {
     "name": "stdout",
     "output_type": "stream",
     "text": [
      "[4 5 6]\n"
     ]
    }
   ],
   "source": [
    "# accessing elements\n",
    "# array elements starts from 0\n",
    "print(arr2[1])"
   ]
  },
  {
   "cell_type": "code",
   "execution_count": 18,
   "id": "c8cbd7ad-0019-48f4-98d9-28b13427f074",
   "metadata": {},
   "outputs": [
    {
     "name": "stdout",
     "output_type": "stream",
     "text": [
      "[4 5 6]\n"
     ]
    }
   ],
   "source": [
    "print(arr2[-1])"
   ]
  },
  {
   "cell_type": "code",
   "execution_count": 19,
   "id": "2ff4665c-701e-4d0d-ad22-285395bb3b40",
   "metadata": {},
   "outputs": [
    {
     "name": "stdout",
     "output_type": "stream",
     "text": [
      "4\n"
     ]
    }
   ],
   "source": [
    "#2d\n",
    "print(arr2[1][0])"
   ]
  },
  {
   "cell_type": "code",
   "execution_count": 20,
   "id": "01ecdad1-06b1-434b-966a-83a3273c1ba1",
   "metadata": {},
   "outputs": [
    {
     "name": "stdout",
     "output_type": "stream",
     "text": [
      "6\n"
     ]
    }
   ],
   "source": [
    "print(arr2[1,2])"
   ]
  },
  {
   "cell_type": "code",
   "execution_count": 21,
   "id": "55a26836-a9bf-4f15-a3a3-7253a818e8f2",
   "metadata": {},
   "outputs": [
    {
     "name": "stdout",
     "output_type": "stream",
     "text": [
      "[1 4]\n"
     ]
    }
   ],
   "source": [
    "print(arr2[:,0]) # slicing # column elements "
   ]
  },
  {
   "cell_type": "code",
   "execution_count": 22,
   "id": "44fe7134-1d22-4228-b2c2-7ded9d306732",
   "metadata": {},
   "outputs": [
    {
     "name": "stdout",
     "output_type": "stream",
     "text": [
      "[3 6]\n"
     ]
    }
   ],
   "source": [
    "print(arr2[:,2]) # collumn"
   ]
  },
  {
   "cell_type": "code",
   "execution_count": 23,
   "id": "81189314-b376-4160-a417-b233421d52b7",
   "metadata": {},
   "outputs": [
    {
     "name": "stdout",
     "output_type": "stream",
     "text": [
      "6\n"
     ]
    }
   ],
   "source": [
    "a2=np.size(arr2)\n",
    "print(a2)"
   ]
  },
  {
   "cell_type": "code",
   "execution_count": 24,
   "id": "bace5a35-c839-4a5e-88cf-fa30cd1c42c2",
   "metadata": {},
   "outputs": [
    {
     "data": {
      "text/plain": [
       "array([[[1, 1, 1],\n",
       "        [1, 1, 1],\n",
       "        [1, 1, 1]],\n",
       "\n",
       "       [[1, 1, 1],\n",
       "        [1, 1, 1],\n",
       "        [1, 1, 1]]], dtype=int32)"
      ]
     },
     "execution_count": 24,
     "metadata": {},
     "output_type": "execute_result"
    }
   ],
   "source": [
    "arr3=np.ones([2,3,3],dtype='int32')\n",
    "arr3"
   ]
  },
  {
   "cell_type": "code",
   "execution_count": 25,
   "id": "eef9e89a-3615-4c3b-a28b-a4b58cb16d76",
   "metadata": {},
   "outputs": [
    {
     "data": {
      "text/plain": [
       "array([[[ 1,  1,  1],\n",
       "        [ 1,  1,  1],\n",
       "        [ 1,  1,  1]],\n",
       "\n",
       "       [[ 1,  1,  1],\n",
       "        [ 1,  1, 10],\n",
       "        [ 1,  1,  1]]], dtype=int32)"
      ]
     },
     "execution_count": 25,
     "metadata": {},
     "output_type": "execute_result"
    }
   ],
   "source": [
    "arr3[1,1,2]=10 # replacing values\n",
    "arr3"
   ]
  },
  {
   "cell_type": "code",
   "execution_count": 26,
   "id": "5cf91776-b260-4923-9503-457054b31f2c",
   "metadata": {},
   "outputs": [
    {
     "data": {
      "text/plain": [
       "array([[[ 1,  2,  4]],\n",
       "\n",
       "       [[ 5,  6,  8]],\n",
       "\n",
       "       [[ 9, 10, 11]]])"
      ]
     },
     "execution_count": 26,
     "metadata": {},
     "output_type": "execute_result"
    }
   ],
   "source": [
    "arr4=np.array([\n",
    "    [[1,2,4]],\n",
    "    [[5,6,8]],\n",
    "    [[9,10,11]]\n",
    "])\n",
    "arr4"
   ]
  },
  {
   "cell_type": "code",
   "execution_count": 27,
   "id": "21a4e941-a788-41ac-93e9-aa428b137e13",
   "metadata": {},
   "outputs": [],
   "source": [
    "# size and shape"
   ]
  },
  {
   "cell_type": "code",
   "execution_count": 28,
   "id": "113d4283-e334-4f68-b288-8d069d6b433e",
   "metadata": {},
   "outputs": [
    {
     "name": "stdout",
     "output_type": "stream",
     "text": [
      "3\n"
     ]
    }
   ],
   "source": [
    "print(arr4.ndim)"
   ]
  },
  {
   "cell_type": "code",
   "execution_count": 29,
   "id": "b7a27cbe-f136-4e26-adb0-fdcd554d914f",
   "metadata": {},
   "outputs": [
    {
     "name": "stdout",
     "output_type": "stream",
     "text": [
      "(3, 1, 3)\n"
     ]
    }
   ],
   "source": [
    "print(arr4.shape) # dimension "
   ]
  },
  {
   "cell_type": "code",
   "execution_count": 30,
   "id": "4bfe6826-3f17-40e8-a22e-ef631bfc7266",
   "metadata": {},
   "outputs": [
    {
     "name": "stdout",
     "output_type": "stream",
     "text": [
      "9\n"
     ]
    }
   ],
   "source": [
    "print(arr4.size) # number of elements"
   ]
  },
  {
   "cell_type": "code",
   "execution_count": 31,
   "id": "1b448546-fe04-4ef7-a8ee-c4642c0f305f",
   "metadata": {},
   "outputs": [
    {
     "name": "stdout",
     "output_type": "stream",
     "text": [
      "8\n"
     ]
    }
   ],
   "source": [
    "print(arr4.itemsize) # space of each items (each element size or memory need)"
   ]
  },
  {
   "cell_type": "code",
   "execution_count": 32,
   "id": "df628540-9a3d-4009-9748-3719b98ed874",
   "metadata": {},
   "outputs": [
    {
     "name": "stdout",
     "output_type": "stream",
     "text": [
      "int64\n"
     ]
    }
   ],
   "source": [
    "print(arr4.dtype)"
   ]
  },
  {
   "cell_type": "code",
   "execution_count": 33,
   "id": "a67842de-2d52-4503-8042-8746d92661be",
   "metadata": {},
   "outputs": [
    {
     "name": "stdout",
     "output_type": "stream",
     "text": [
      "72\n"
     ]
    }
   ],
   "source": [
    "print(arr4.nbytes) #8*9=72"
   ]
  },
  {
   "cell_type": "code",
   "execution_count": 41,
   "id": "243c51d6-06e0-4d03-a354-54099d2d7ed5",
   "metadata": {},
   "outputs": [
    {
     "data": {
      "text/plain": [
       "array([[[ 1,  2,  3],\n",
       "        [ 4,  5,  6],\n",
       "        [ 7,  8,  9]],\n",
       "\n",
       "       [[10, 11, 12],\n",
       "        [13, 14, 15],\n",
       "        [16, 17, 18]]])"
      ]
     },
     "execution_count": 41,
     "metadata": {},
     "output_type": "execute_result"
    }
   ],
   "source": [
    "ar1=np.array([\n",
    "    [[1,2,3],[4,5,6],[7,8,9]],\n",
    "    [[10,11,12],[13,14,15],[16,17,18]]\n",
    "])\n",
    "ar1"
   ]
  },
  {
   "cell_type": "code",
   "execution_count": 42,
   "id": "08c2d45e-a37c-412e-98fc-3decc8a1ef2e",
   "metadata": {},
   "outputs": [
    {
     "name": "stdout",
     "output_type": "stream",
     "text": [
      "(2, 3, 3)\n"
     ]
    }
   ],
   "source": [
    "print(ar1.shape)"
   ]
  },
  {
   "cell_type": "code",
   "execution_count": 45,
   "id": "be16f93f-5bf4-4300-a3c4-ec9f009a2054",
   "metadata": {},
   "outputs": [
    {
     "data": {
      "text/plain": [
       "array([[[ 1,  2,  3],\n",
       "        [ 4,  5, 10],\n",
       "        [ 7,  8,  9]],\n",
       "\n",
       "       [[10, 11, 12],\n",
       "        [13, 14, 15],\n",
       "        [16, 17, 18]]])"
      ]
     },
     "execution_count": 45,
     "metadata": {},
     "output_type": "execute_result"
    }
   ],
   "source": [
    "ar1[0,1,2]=10\n",
    "ar1"
   ]
  },
  {
   "cell_type": "code",
   "execution_count": 46,
   "id": "d0cbbe87-cf6f-4ad3-93ca-7d23a708ed53",
   "metadata": {},
   "outputs": [
    {
     "name": "stdout",
     "output_type": "stream",
     "text": [
      "9\n"
     ]
    }
   ],
   "source": [
    "print(ar1[0][2][2])"
   ]
  },
  {
   "cell_type": "code",
   "execution_count": 47,
   "id": "b999f1e4-a572-40ef-8178-1d73ed0c5894",
   "metadata": {},
   "outputs": [
    {
     "name": "stdout",
     "output_type": "stream",
     "text": [
      "[ 3 10  9]\n"
     ]
    }
   ],
   "source": [
    "print(ar1[0][:,2])"
   ]
  },
  {
   "cell_type": "code",
   "execution_count": 48,
   "id": "5101914e-44a3-459a-ae65-24495f58f3a0",
   "metadata": {},
   "outputs": [
    {
     "name": "stdout",
     "output_type": "stream",
     "text": [
      "[11 14 17]\n"
     ]
    }
   ],
   "source": [
    "print(ar1[1][:,1])"
   ]
  },
  {
   "cell_type": "code",
   "execution_count": 49,
   "id": "1de90273-7efa-452a-acfd-a0fe38ac18d7",
   "metadata": {},
   "outputs": [
    {
     "name": "stdout",
     "output_type": "stream",
     "text": [
      "[1 2 3]\n"
     ]
    }
   ],
   "source": [
    "print(ar1[0][0])"
   ]
  },
  {
   "cell_type": "code",
   "execution_count": 54,
   "id": "91770264-bf52-426b-95d5-8e84ef80fc85",
   "metadata": {},
   "outputs": [
    {
     "name": "stdout",
     "output_type": "stream",
     "text": [
      "[[ 7  8  9]\n",
      " [16 17 18]]\n"
     ]
    }
   ],
   "source": [
    "print(ar1[:,2]) # in all blocks 2nd row"
   ]
  },
  {
   "cell_type": "code",
   "execution_count": 55,
   "id": "c88abcdc-ab0c-4c2d-b63a-9f56bf8810d5",
   "metadata": {},
   "outputs": [
    {
     "name": "stdout",
     "output_type": "stream",
     "text": [
      "[[ 3 10  9]\n",
      " [12 15 18]]\n"
     ]
    }
   ],
   "source": [
    "print(ar1[:,:,2]) # all the columns in all blocks first : specifies all the bloacks 2: specifies all the columns"
   ]
  },
  {
   "cell_type": "code",
   "execution_count": 56,
   "id": "5d107f00-c475-4b08-a13b-a8b872ea9412",
   "metadata": {},
   "outputs": [
    {
     "name": "stdout",
     "output_type": "stream",
     "text": [
      "18\n"
     ]
    }
   ],
   "source": [
    "print(ar1.size)"
   ]
  },
  {
   "cell_type": "code",
   "execution_count": 57,
   "id": "61184784-0bbb-41da-bf5b-dc8dea09d03a",
   "metadata": {},
   "outputs": [
    {
     "name": "stdout",
     "output_type": "stream",
     "text": [
      "(2, 3, 3)\n"
     ]
    }
   ],
   "source": [
    "print(ar1.shape)"
   ]
  },
  {
   "cell_type": "code",
   "execution_count": 59,
   "id": "c423697c-a8e1-4674-b0d6-7e31fdc9b6ea",
   "metadata": {},
   "outputs": [
    {
     "data": {
      "text/plain": [
       "array([[[ 1,  2,  3],\n",
       "        [ 4,  5, 10],\n",
       "        [ 7,  8,  9]],\n",
       "\n",
       "       [[10, 11, 12],\n",
       "        [13, 14, 15],\n",
       "        [16, 17, 10]]])"
      ]
     },
     "execution_count": 59,
     "metadata": {},
     "output_type": "execute_result"
    }
   ],
   "source": [
    "ar1[1,2,2]=10\n",
    "ar1"
   ]
  },
  {
   "cell_type": "code",
   "execution_count": 60,
   "id": "2763773c-20a8-428b-b01e-dfa4825239ea",
   "metadata": {},
   "outputs": [
    {
     "data": {
      "text/plain": [
       "array([[1, 2, 3],\n",
       "       [4, 5, 6]])"
      ]
     },
     "execution_count": 60,
     "metadata": {},
     "output_type": "execute_result"
    }
   ],
   "source": [
    "arr2"
   ]
  },
  {
   "cell_type": "code",
   "execution_count": 62,
   "id": "ade89e09-0d84-4ac8-8ac2-a681e5c411a1",
   "metadata": {},
   "outputs": [
    {
     "data": {
      "text/plain": [
       "array([[ 1,  2,  3],\n",
       "       [ 4, 10,  6]])"
      ]
     },
     "execution_count": 62,
     "metadata": {},
     "output_type": "execute_result"
    }
   ],
   "source": [
    "arr2[1,1]=10\n",
    "arr2"
   ]
  },
  {
   "cell_type": "code",
   "execution_count": 63,
   "id": "19011349-1331-4945-85bc-90c2ed9d55d0",
   "metadata": {},
   "outputs": [
    {
     "data": {
      "text/plain": [
       "3"
      ]
     },
     "execution_count": 63,
     "metadata": {},
     "output_type": "execute_result"
    }
   ],
   "source": [
    "ar1.ndim"
   ]
  },
  {
   "cell_type": "code",
   "execution_count": 64,
   "id": "a60ac103-a70c-4b1a-aa4c-3f26c361b552",
   "metadata": {},
   "outputs": [
    {
     "data": {
      "text/plain": [
       "dtype('int64')"
      ]
     },
     "execution_count": 64,
     "metadata": {},
     "output_type": "execute_result"
    }
   ],
   "source": [
    "ar1.dtype"
   ]
  },
  {
   "cell_type": "code",
   "execution_count": 65,
   "id": "fcb830f9-5809-4eed-987a-293bc1482d14",
   "metadata": {},
   "outputs": [
    {
     "data": {
      "text/plain": [
       "8"
      ]
     },
     "execution_count": 65,
     "metadata": {},
     "output_type": "execute_result"
    }
   ],
   "source": [
    "ar1.itemsize"
   ]
  },
  {
   "cell_type": "code",
   "execution_count": 67,
   "id": "f7cc9ac8-782a-4051-8bb5-ed8ad031bb35",
   "metadata": {},
   "outputs": [
    {
     "data": {
      "text/plain": [
       "144"
      ]
     },
     "execution_count": 67,
     "metadata": {},
     "output_type": "execute_result"
    }
   ],
   "source": [
    "ar1.nbytes # 18 * 8"
   ]
  },
  {
   "cell_type": "code",
   "execution_count": 68,
   "id": "ed7bb6bf-3dc2-42de-b775-dba58681e204",
   "metadata": {},
   "outputs": [
    {
     "data": {
      "text/plain": [
       "18"
      ]
     },
     "execution_count": 68,
     "metadata": {},
     "output_type": "execute_result"
    }
   ],
   "source": [
    "ar1.size"
   ]
  },
  {
   "cell_type": "code",
   "execution_count": 70,
   "id": "10f1ce4f-cfd7-4b60-8ad1-abdb9aacb3ea",
   "metadata": {},
   "outputs": [
    {
     "data": {
      "text/plain": [
       "[1, 2, 3, 4, 5, 6, 7]"
      ]
     },
     "execution_count": 70,
     "metadata": {},
     "output_type": "execute_result"
    }
   ],
   "source": [
    "n10=([2,3,4,5,6,7,1])\n",
    "n10.sort()\n",
    "n10"
   ]
  },
  {
   "cell_type": "code",
   "execution_count": 76,
   "id": "42eb3f2c-aab9-483d-a5fa-9d59f3624097",
   "metadata": {},
   "outputs": [
    {
     "data": {
      "text/plain": [
       "array([[ 1,  2,  3],\n",
       "       [ 4,  6, 10]])"
      ]
     },
     "execution_count": 76,
     "metadata": {},
     "output_type": "execute_result"
    }
   ],
   "source": [
    "np.sort(arr2) # row wise sorting"
   ]
  },
  {
   "cell_type": "code",
   "execution_count": 78,
   "id": "19571f18-c58b-4ee0-bc92-e6ed92b26816",
   "metadata": {},
   "outputs": [
    {
     "data": {
      "text/plain": [
       "array([[ 1,  2,  3],\n",
       "       [ 4,  6, 10]])"
      ]
     },
     "execution_count": 78,
     "metadata": {},
     "output_type": "execute_result"
    }
   ],
   "source": [
    "np.sort(arr2,axis=0) # column wise sorting"
   ]
  },
  {
   "cell_type": "code",
   "execution_count": 79,
   "id": "78e6e0a2-31f2-4bd2-9c52-c13cdbd5ebe4",
   "metadata": {},
   "outputs": [
    {
     "data": {
      "text/plain": [
       "array([[ 1,  2,  3],\n",
       "       [ 4,  6, 10]])"
      ]
     },
     "execution_count": 79,
     "metadata": {},
     "output_type": "execute_result"
    }
   ],
   "source": [
    "np.sort(arr2,axis=1) # row wise  # default axis is -1 last axis "
   ]
  },
  {
   "cell_type": "code",
   "execution_count": 73,
   "id": "d924825f-c19b-48ac-ab4c-fc061025859f",
   "metadata": {},
   "outputs": [
    {
     "data": {
      "text/plain": [
       "array([[[ 1,  2,  3],\n",
       "        [ 4,  5, 10],\n",
       "        [ 7,  8,  9]],\n",
       "\n",
       "       [[10, 11, 12],\n",
       "        [13, 14, 15],\n",
       "        [16, 17, 10]]])"
      ]
     },
     "execution_count": 73,
     "metadata": {},
     "output_type": "execute_result"
    }
   ],
   "source": [
    "ar1"
   ]
  },
  {
   "cell_type": "code",
   "execution_count": 81,
   "id": "9064a98e-bf5c-44a7-b76a-d83ba62090fa",
   "metadata": {},
   "outputs": [
    {
     "data": {
      "text/plain": [
       "array([[ 1,  2,  3],\n",
       "       [ 4,  5,  9],\n",
       "       [ 7,  8, 10]])"
      ]
     },
     "execution_count": 81,
     "metadata": {},
     "output_type": "execute_result"
    }
   ],
   "source": [
    "np.sort(ar1[0],axis=0)"
   ]
  },
  {
   "cell_type": "code",
   "execution_count": 82,
   "id": "88cbbc02-d713-4e2d-8c0c-6971963c893b",
   "metadata": {},
   "outputs": [
    {
     "data": {
      "text/plain": [
       "array([[ 1,  2,  3],\n",
       "       [ 4,  5, 10],\n",
       "       [ 7,  8,  9]])"
      ]
     },
     "execution_count": 82,
     "metadata": {},
     "output_type": "execute_result"
    }
   ],
   "source": [
    "np.sort(ar1[0],axis=1)"
   ]
  },
  {
   "cell_type": "code",
   "execution_count": 89,
   "id": "2f9fba4d-c070-480c-b016-ab51a7fda35c",
   "metadata": {},
   "outputs": [
    {
     "data": {
      "text/plain": [
       "array([ 2,  3,  1,  5, 10, 12,  6,  9])"
      ]
     },
     "execution_count": 89,
     "metadata": {},
     "output_type": "execute_result"
    }
   ],
   "source": [
    "n10 =np.array([2,3,1,5,10,12,6,9])\n",
    "n10"
   ]
  },
  {
   "cell_type": "code",
   "execution_count": 92,
   "id": "8b8ed08c-e1f2-4707-ad33-39654cb3366a",
   "metadata": {},
   "outputs": [
    {
     "data": {
      "text/plain": [
       "array([[ 2,  3,  1,  5],\n",
       "       [10, 12,  6,  9]])"
      ]
     },
     "execution_count": 92,
     "metadata": {},
     "output_type": "execute_result"
    }
   ],
   "source": [
    "n12=n10.reshape(2,4)\n",
    "n12"
   ]
  },
  {
   "cell_type": "code",
   "execution_count": 93,
   "id": "1a75917d-65d7-41f5-9476-50d1aa32c115",
   "metadata": {},
   "outputs": [
    {
     "name": "stdout",
     "output_type": "stream",
     "text": [
      "[0 1 2 3]\n",
      "[5 6 7 8]\n"
     ]
    }
   ],
   "source": [
    "n13 = np.arange(4)\n",
    "n14=np.arange(5,9)\n",
    "print(n13)\n",
    "print(n14)"
   ]
  },
  {
   "cell_type": "code",
   "execution_count": 95,
   "id": "1a94cabc-88eb-4bce-8411-f229ba534048",
   "metadata": {},
   "outputs": [
    {
     "data": {
      "text/plain": [
       "array([0, 1, 2, 3, 5, 6, 7, 8])"
      ]
     },
     "execution_count": 95,
     "metadata": {},
     "output_type": "execute_result"
    }
   ],
   "source": [
    "n15=np.concatenate((n13,n14))\n",
    "n15"
   ]
  },
  {
   "cell_type": "code",
   "execution_count": 103,
   "id": "c737e938-9c73-498c-ac52-1defe1e02e35",
   "metadata": {},
   "outputs": [
    {
     "data": {
      "text/plain": [
       "array([[0, 1, 2, 3, 4, 5, 6, 7]])"
      ]
     },
     "execution_count": 103,
     "metadata": {},
     "output_type": "execute_result"
    }
   ],
   "source": [
    "n16=np.arange(8) # 1d to 2d conversionn\n",
    "n16\n",
    "n17=n16[np.newaxis,:]\n",
    "n17"
   ]
  },
  {
   "cell_type": "code",
   "execution_count": 102,
   "id": "a7cc2d9b-53af-46c7-b0ec-9f73e3673c4c",
   "metadata": {},
   "outputs": [
    {
     "data": {
      "text/plain": [
       "array([[0],\n",
       "       [1],\n",
       "       [2],\n",
       "       [3],\n",
       "       [4],\n",
       "       [5],\n",
       "       [6],\n",
       "       [7]])"
      ]
     },
     "execution_count": 102,
     "metadata": {},
     "output_type": "execute_result"
    }
   ],
   "source": [
    "n18=n16[:,np.newaxis]\n",
    "n18"
   ]
  },
  {
   "cell_type": "code",
   "execution_count": 106,
   "id": "bb811c30-c88f-4366-93b7-a1b105d1a16a",
   "metadata": {},
   "outputs": [
    {
     "data": {
      "text/plain": [
       "array([[0],\n",
       "       [1],\n",
       "       [2],\n",
       "       [3],\n",
       "       [4],\n",
       "       [5],\n",
       "       [6],\n",
       "       [7]])"
      ]
     },
     "execution_count": 106,
     "metadata": {},
     "output_type": "execute_result"
    }
   ],
   "source": [
    "n19=np.expand_dims(n16,axis=1)\n",
    "n19"
   ]
  },
  {
   "cell_type": "code",
   "execution_count": 107,
   "id": "9db78783-dee8-412a-97b4-1e76b3aa7534",
   "metadata": {},
   "outputs": [
    {
     "data": {
      "text/plain": [
       "array([[0, 1, 2, 3, 4, 5, 6, 7]])"
      ]
     },
     "execution_count": 107,
     "metadata": {},
     "output_type": "execute_result"
    }
   ],
   "source": [
    "n20=np.expand_dims(n16,axis=0)\n",
    "n20"
   ]
  },
  {
   "cell_type": "code",
   "execution_count": 111,
   "id": "daddc103-de7a-462c-ba17-bb4583088b34",
   "metadata": {},
   "outputs": [
    {
     "name": "stdout",
     "output_type": "stream",
     "text": [
      "[ 2 10 12  6]\n"
     ]
    }
   ],
   "source": [
    "# conditional indexing\n",
    "print (n12[n12%2==0])"
   ]
  },
  {
   "cell_type": "code",
   "execution_count": 112,
   "id": "ee6ae89d-6a89-45c2-be5d-f0a58dd592c5",
   "metadata": {},
   "outputs": [
    {
     "name": "stdout",
     "output_type": "stream",
     "text": [
      "[[ 1  2  3  5]\n",
      " [ 6  9 10 12]]\n"
     ]
    }
   ],
   "source": [
    "print(np.sort(n12))"
   ]
  },
  {
   "cell_type": "code",
   "execution_count": 113,
   "id": "6433fec4-9943-43d0-b757-652b74a4ceb3",
   "metadata": {},
   "outputs": [
    {
     "name": "stdout",
     "output_type": "stream",
     "text": [
      "[5 6]\n"
     ]
    }
   ],
   "source": [
    "# combining conditions\n",
    "print(n12[(n12>3) &(n12<8)])"
   ]
  },
  {
   "cell_type": "code",
   "execution_count": 114,
   "id": "11d03449-e803-4ec7-b6d3-6cd68a0410be",
   "metadata": {},
   "outputs": [
    {
     "name": "stdout",
     "output_type": "stream",
     "text": [
      "[[False False False False]\n",
      " [ True  True  True  True]]\n"
     ]
    }
   ],
   "source": [
    "five=n12>5\n",
    "print(five)"
   ]
  },
  {
   "cell_type": "code",
   "execution_count": 115,
   "id": "e9faf4dd-906b-431b-bb24-75715dc40418",
   "metadata": {},
   "outputs": [
    {
     "name": "stdout",
     "output_type": "stream",
     "text": [
      "[10 12  6  9]\n"
     ]
    }
   ],
   "source": [
    "print(n12[five])"
   ]
  },
  {
   "cell_type": "code",
   "execution_count": 122,
   "id": "960360be-8370-4f92-ba97-071221dec797",
   "metadata": {},
   "outputs": [
    {
     "name": "stdout",
     "output_type": "stream",
     "text": [
      "(array([0, 1, 2, 3]),)\n"
     ]
    }
   ],
   "source": [
    "print(np.nonzero(n12[0])) # index"
   ]
  },
  {
   "cell_type": "code",
   "execution_count": 125,
   "id": "d13f38ff-3d87-4140-8a8b-8f12deed32e4",
   "metadata": {},
   "outputs": [
    {
     "data": {
      "text/plain": [
       "array([[ 2,  3,  1,  5],\n",
       "       [10, 12,  6,  9]])"
      ]
     },
     "execution_count": 125,
     "metadata": {},
     "output_type": "execute_result"
    }
   ],
   "source": [
    "n12"
   ]
  },
  {
   "cell_type": "code",
   "execution_count": 126,
   "id": "eae6a572-2230-42db-9873-8f6c626aa931",
   "metadata": {},
   "outputs": [
    {
     "name": "stdout",
     "output_type": "stream",
     "text": [
      "[1 5]\n"
     ]
    }
   ],
   "source": [
    " print(n12[0][2:4]) # slicing"
   ]
  },
  {
   "cell_type": "code",
   "execution_count": 129,
   "id": "c8da6236-47d1-4a8b-bb80-9b3a779b4179",
   "metadata": {},
   "outputs": [
    {
     "data": {
      "text/plain": [
       "array([[1, 2, 5, 6],\n",
       "       [3, 4, 7, 8]])"
      ]
     },
     "execution_count": 129,
     "metadata": {},
     "output_type": "execute_result"
    }
   ],
   "source": [
    "# stacking 2d arrays\n",
    "# horizontal and vertical stack\n",
    "n22=np.array([[1,2],[3,4]])\n",
    "n23=np.array([[5,6],[7,8]])\n",
    "np.hstack((n22,n23))"
   ]
  },
  {
   "cell_type": "code",
   "execution_count": 130,
   "id": "f2e8ca35-4377-4ff6-85d2-0a099ea4f0cd",
   "metadata": {},
   "outputs": [
    {
     "data": {
      "text/plain": [
       "array([[1, 2],\n",
       "       [3, 4],\n",
       "       [5, 6],\n",
       "       [7, 8]])"
      ]
     },
     "execution_count": 130,
     "metadata": {},
     "output_type": "execute_result"
    }
   ],
   "source": [
    "np.vstack((n22,n23))"
   ]
  },
  {
   "cell_type": "code",
   "execution_count": 131,
   "id": "e379a1ad-bf6b-46cc-b40b-4fe863ef2106",
   "metadata": {},
   "outputs": [
    {
     "data": {
      "text/plain": [
       "array([ 0,  1,  2,  3,  4,  5,  6,  7,  8,  9, 10, 11, 12, 13, 14, 15, 16,\n",
       "       17, 18, 19])"
      ]
     },
     "execution_count": 131,
     "metadata": {},
     "output_type": "execute_result"
    }
   ],
   "source": [
    "n24=np.arange(20)\n",
    "n24"
   ]
  },
  {
   "cell_type": "code",
   "execution_count": 132,
   "id": "b7783c6a-8047-4013-8d01-c610aab4819f",
   "metadata": {},
   "outputs": [
    {
     "data": {
      "text/plain": [
       "[array([0, 1, 2, 3, 4]),\n",
       " array([5, 6, 7, 8, 9]),\n",
       " array([10, 11, 12, 13, 14]),\n",
       " array([15, 16, 17, 18, 19])]"
      ]
     },
     "execution_count": 132,
     "metadata": {},
     "output_type": "execute_result"
    }
   ],
   "source": [
    "# split\n",
    "# horizontal and vertical split\n",
    "np.hsplit(n24,4)"
   ]
  },
  {
   "cell_type": "code",
   "execution_count": 134,
   "id": "2e83c005-44fa-435c-9729-c4319de659be",
   "metadata": {},
   "outputs": [
    {
     "data": {
      "text/plain": [
       "array([[ 2,  3,  1,  5],\n",
       "       [10, 12,  6,  9]])"
      ]
     },
     "execution_count": 134,
     "metadata": {},
     "output_type": "execute_result"
    }
   ],
   "source": [
    "n12"
   ]
  },
  {
   "cell_type": "code",
   "execution_count": 143,
   "id": "aef7177b-5445-463f-b38b-a25c44a1d324",
   "metadata": {},
   "outputs": [
    {
     "data": {
      "text/plain": [
       "array([[ 0],\n",
       "       [ 1],\n",
       "       [ 2],\n",
       "       [ 3],\n",
       "       [ 4],\n",
       "       [ 5],\n",
       "       [ 6],\n",
       "       [ 7],\n",
       "       [ 8],\n",
       "       [ 9],\n",
       "       [10],\n",
       "       [11],\n",
       "       [12],\n",
       "       [13],\n",
       "       [14],\n",
       "       [15],\n",
       "       [16],\n",
       "       [17],\n",
       "       [18],\n",
       "       [19]])"
      ]
     },
     "execution_count": 143,
     "metadata": {},
     "output_type": "execute_result"
    }
   ],
   "source": [
    "n25=n24[:,np.newaxis]\n",
    "n25"
   ]
  },
  {
   "cell_type": "code",
   "execution_count": 145,
   "id": "408a6e4c-ae66-4460-868e-97757479a40b",
   "metadata": {},
   "outputs": [
    {
     "data": {
      "text/plain": [
       "[array([[0],\n",
       "        [1],\n",
       "        [2],\n",
       "        [3],\n",
       "        [4]]),\n",
       " array([[5],\n",
       "        [6],\n",
       "        [7],\n",
       "        [8],\n",
       "        [9]]),\n",
       " array([[10],\n",
       "        [11],\n",
       "        [12],\n",
       "        [13],\n",
       "        [14]]),\n",
       " array([[15],\n",
       "        [16],\n",
       "        [17],\n",
       "        [18],\n",
       "        [19]])]"
      ]
     },
     "execution_count": 145,
     "metadata": {},
     "output_type": "execute_result"
    }
   ],
   "source": [
    "np.vsplit(n25,4)"
   ]
  },
  {
   "cell_type": "code",
   "execution_count": 146,
   "id": "23dbfff0-bba4-443f-acd2-49892a9ca569",
   "metadata": {},
   "outputs": [
    {
     "data": {
      "text/plain": [
       "array([[ 2,  3,  1,  5],\n",
       "       [10, 12,  6,  9]])"
      ]
     },
     "execution_count": 146,
     "metadata": {},
     "output_type": "execute_result"
    }
   ],
   "source": [
    "# copy\n",
    "n12"
   ]
  },
  {
   "cell_type": "code",
   "execution_count": 149,
   "id": "4e2060dc-20ba-4d4c-aff2-ce98f1e2b1c9",
   "metadata": {},
   "outputs": [
    {
     "data": {
      "text/plain": [
       "array([[ 2,  3,  1,  5],\n",
       "       [55, 55, 55, 55]])"
      ]
     },
     "execution_count": 149,
     "metadata": {},
     "output_type": "execute_result"
    }
   ],
   "source": [
    "n12"
   ]
  },
  {
   "cell_type": "code",
   "execution_count": 151,
   "id": "c11d0ba0-9487-4b0d-8c12-6f1aa5dbeeef",
   "metadata": {},
   "outputs": [
    {
     "data": {
      "text/plain": [
       "array([[ 2, 10,  1,  5],\n",
       "       [55, 55, 55, 55]])"
      ]
     },
     "execution_count": 151,
     "metadata": {},
     "output_type": "execute_result"
    }
   ],
   "source": [
    "n13=n12 # sha;low copy same array but with different names\n",
    "n12[0][1]=10\n",
    "n12"
   ]
  },
  {
   "cell_type": "code",
   "execution_count": 152,
   "id": "7bd29dea-4b93-43d2-9fb3-cbddcd2efcb3",
   "metadata": {},
   "outputs": [
    {
     "data": {
      "text/plain": [
       "array([[ 2, 10,  1,  5],\n",
       "       [55, 55, 55, 55]])"
      ]
     },
     "execution_count": 152,
     "metadata": {},
     "output_type": "execute_result"
    }
   ],
   "source": [
    "n13"
   ]
  },
  {
   "cell_type": "code",
   "execution_count": 160,
   "id": "921d9777-1896-4296-90ce-f998501e4147",
   "metadata": {},
   "outputs": [],
   "source": [
    "n27=n24.copy() # deepcopy\n",
    "# it creates a copu=y "
   ]
  },
  {
   "cell_type": "code",
   "execution_count": 158,
   "id": "24049359-7f55-4918-8fd1-9a7f25cfb452",
   "metadata": {},
   "outputs": [
    {
     "data": {
      "text/plain": [
       "array([  0, 100,   2,   3,   4,   5,   6,   7,   8,   9,  10,  11,  12,\n",
       "        13,  14,  15,  16,  17,  18,  19])"
      ]
     },
     "execution_count": 158,
     "metadata": {},
     "output_type": "execute_result"
    }
   ],
   "source": [
    "n24[1]=100\n",
    "n24"
   ]
  },
  {
   "cell_type": "code",
   "execution_count": 159,
   "id": "15360366-13cb-4f21-9641-a2626683bdf4",
   "metadata": {},
   "outputs": [
    {
     "data": {
      "text/plain": [
       "array([ 0, 25,  2,  3,  4,  5,  6,  7,  8,  9, 10, 11, 12, 13, 14, 15, 16,\n",
       "       17, 18, 19])"
      ]
     },
     "execution_count": 159,
     "metadata": {},
     "output_type": "execute_result"
    }
   ],
   "source": [
    "n27"
   ]
  },
  {
   "cell_type": "code",
   "execution_count": 161,
   "id": "0bf370e9-6b0a-4ffc-81d5-14c3b215f50e",
   "metadata": {},
   "outputs": [
    {
     "data": {
      "text/plain": [
       "np.int64(289)"
      ]
     },
     "execution_count": 161,
     "metadata": {},
     "output_type": "execute_result"
    }
   ],
   "source": [
    "n27.sum()"
   ]
  },
  {
   "cell_type": "code",
   "execution_count": 162,
   "id": "413a49ba-e785-44e2-bf88-cef55bf7efb3",
   "metadata": {},
   "outputs": [
    {
     "data": {
      "text/plain": [
       "np.int64(100)"
      ]
     },
     "execution_count": 162,
     "metadata": {},
     "output_type": "execute_result"
    }
   ],
   "source": [
    "n27.max()"
   ]
  },
  {
   "cell_type": "code",
   "execution_count": 163,
   "id": "c1c2f734-2391-457f-abf0-22a8ee53dc30",
   "metadata": {},
   "outputs": [
    {
     "data": {
      "text/plain": [
       "np.int64(0)"
      ]
     },
     "execution_count": 163,
     "metadata": {},
     "output_type": "execute_result"
    }
   ],
   "source": [
    "n27.min()"
   ]
  },
  {
   "cell_type": "code",
   "execution_count": 164,
   "id": "ba8f786b-8724-47bc-ae5c-9c9db864752e",
   "metadata": {},
   "outputs": [
    {
     "data": {
      "text/plain": [
       "array([   0, 1000,   20,   30,   40,   50,   60,   70,   80,   90,  100,\n",
       "        110,  120,  130,  140,  150,  160,  170,  180,  190])"
      ]
     },
     "execution_count": 164,
     "metadata": {},
     "output_type": "execute_result"
    }
   ],
   "source": [
    "n27*10"
   ]
  },
  {
   "cell_type": "code",
   "execution_count": 165,
   "id": "71a234ad-09e2-4bba-ae0d-099feed81c64",
   "metadata": {},
   "outputs": [
    {
     "data": {
      "text/plain": [
       "array([[0.95368393, 0.06664873, 0.97124943],\n",
       "       [0.82368093, 0.72716381, 0.51812818],\n",
       "       [0.72709637, 0.20598907, 0.30464409]])"
      ]
     },
     "execution_count": 165,
     "metadata": {},
     "output_type": "execute_result"
    }
   ],
   "source": [
    "np.random.rand(3,3)"
   ]
  },
  {
   "cell_type": "code",
   "execution_count": 166,
   "id": "ffa66dd1-de62-41c2-875f-2e957f5ee25b",
   "metadata": {},
   "outputs": [
    {
     "data": {
      "text/plain": [
       "array([[ 1, 11, 13],\n",
       "       [ 4, 19,  0],\n",
       "       [16,  6,  4],\n",
       "       [17,  0, 13]], dtype=int32)"
      ]
     },
     "execution_count": 166,
     "metadata": {},
     "output_type": "execute_result"
    }
   ],
   "source": [
    "np.random.randint(20,size=(4,3))"
   ]
  },
  {
   "cell_type": "code",
   "execution_count": 167,
   "id": "35ebb28f-8778-4319-964f-d3a9646f5a46",
   "metadata": {},
   "outputs": [
    {
     "data": {
      "text/plain": [
       "array([ 1.        ,  0.86231887, -0.41614684, -0.9899925 , -0.65364362,\n",
       "        0.28366219,  0.96017029,  0.75390225, -0.14550003, -0.91113026,\n",
       "       -0.83907153,  0.0044257 ,  0.84385396,  0.90744678,  0.13673722,\n",
       "       -0.75968791, -0.95765948, -0.27516334,  0.66031671,  0.98870462])"
      ]
     },
     "execution_count": 167,
     "metadata": {},
     "output_type": "execute_result"
    }
   ],
   "source": [
    "np.cos(n27)"
   ]
  },
  {
   "cell_type": "code",
   "execution_count": null,
   "id": "5ff731b8-24d4-4323-8695-fa37d2a73bfe",
   "metadata": {},
   "outputs": [],
   "source": []
  }
 ],
 "metadata": {
  "kernelspec": {
   "display_name": "Python 3 (ipykernel)",
   "language": "python",
   "name": "python3"
  },
  "language_info": {
   "codemirror_mode": {
    "name": "ipython",
    "version": 3
   },
   "file_extension": ".py",
   "mimetype": "text/x-python",
   "name": "python",
   "nbconvert_exporter": "python",
   "pygments_lexer": "ipython3",
   "version": "3.13.2"
  }
 },
 "nbformat": 4,
 "nbformat_minor": 5
}
