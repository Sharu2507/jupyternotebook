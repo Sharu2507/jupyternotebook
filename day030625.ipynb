{
 "cells": [
  {
   "cell_type": "code",
   "execution_count": 1,
   "id": "57b45899-3666-4b15-a5fc-e71e4fdd9f73",
   "metadata": {},
   "outputs": [],
   "source": [
    "#string\n",
    "#sequence of characters in single or doubl equotes\n",
    "#immutable but partially mutable\n",
    "#mutable at replace()\n",
    "# 100% mutable is tuple\n",
    "#create a string"
   ]
  },
  {
   "cell_type": "code",
   "execution_count": 6,
   "id": "98a7d6bc-46a0-4389-9602-0ca9ac9b790d",
   "metadata": {},
   "outputs": [
    {
     "data": {
      "text/plain": [
       "str"
      ]
     },
     "execution_count": 6,
     "metadata": {},
     "output_type": "execute_result"
    }
   ],
   "source": [
    "f='Hello'\n",
    "g=\"World!\"\n",
    "type(f)\n",
    "type(g)"
   ]
  },
  {
   "cell_type": "code",
   "execution_count": 9,
   "id": "a462634f-6402-4df0-81dc-01e3e57627c3",
   "metadata": {},
   "outputs": [
    {
     "name": "stdout",
     "output_type": "stream",
     "text": [
      " Hi my name is sam I am currently studying DADS\n",
      "I would like to have a coffe\n",
      "I am fond of art\n",
      "<class 'str'>\n"
     ]
    }
   ],
   "source": [
    "# multiline string\n",
    "s2=''' Hi my name is sam I am currently studying DADS\n",
    "I would like to have a coffe\n",
    "I am fond of art'''\n",
    "print(s2)\n",
    "print(type(s2)) #/n next line"
   ]
  },
  {
   "cell_type": "code",
   "execution_count": 11,
   "id": "1fec45e7-ff05-4798-8381-109fb024e1ae",
   "metadata": {},
   "outputs": [
    {
     "data": {
      "text/plain": [
       "'Hello'"
      ]
     },
     "execution_count": 11,
     "metadata": {},
     "output_type": "execute_result"
    }
   ],
   "source": [
    "f"
   ]
  },
  {
   "cell_type": "code",
   "execution_count": 13,
   "id": "2381cc24-e6e8-4f45-a1ad-69aea3937b88",
   "metadata": {},
   "outputs": [
    {
     "data": {
      "text/plain": [
       "'l'"
      ]
     },
     "execution_count": 13,
     "metadata": {},
     "output_type": "execute_result"
    }
   ],
   "source": [
    "f[2]"
   ]
  },
  {
   "cell_type": "code",
   "execution_count": 15,
   "id": "b6bab2b3-674b-4726-881e-e796c6cdbb2b",
   "metadata": {},
   "outputs": [
    {
     "data": {
      "text/plain": [
       "'World!'"
      ]
     },
     "execution_count": 15,
     "metadata": {},
     "output_type": "execute_result"
    }
   ],
   "source": [
    "g"
   ]
  },
  {
   "cell_type": "code",
   "execution_count": 17,
   "id": "5b5eef7c-43df-44d9-b5b6-82c0eee64c25",
   "metadata": {},
   "outputs": [
    {
     "data": {
      "text/plain": [
       "'rld'"
      ]
     },
     "execution_count": 17,
     "metadata": {},
     "output_type": "execute_result"
    }
   ],
   "source": [
    "g[2:5]"
   ]
  },
  {
   "cell_type": "code",
   "execution_count": 20,
   "id": "c05c853d-88c2-43e9-a284-dc2438709d96",
   "metadata": {},
   "outputs": [
    {
     "data": {
      "text/plain": [
       "'!'"
      ]
     },
     "execution_count": 20,
     "metadata": {},
     "output_type": "execute_result"
    }
   ],
   "source": [
    "g[-1]"
   ]
  },
  {
   "cell_type": "code",
   "execution_count": 22,
   "id": "651cb668-974c-43be-a603-92fc571307df",
   "metadata": {},
   "outputs": [
    {
     "data": {
      "text/plain": [
       "'!dlroW'"
      ]
     },
     "execution_count": 22,
     "metadata": {},
     "output_type": "execute_result"
    }
   ],
   "source": [
    "g[::-1] #reverse"
   ]
  },
  {
   "cell_type": "code",
   "execution_count": 24,
   "id": "5463d778-85ad-45de-88b7-bfd146eda864",
   "metadata": {},
   "outputs": [
    {
     "data": {
      "text/plain": [
       "'WORLD!'"
      ]
     },
     "execution_count": 24,
     "metadata": {},
     "output_type": "execute_result"
    }
   ],
   "source": [
    "g.upper()"
   ]
  },
  {
   "cell_type": "code",
   "execution_count": 26,
   "id": "3d64d250-475b-427b-8b83-c211f2520650",
   "metadata": {},
   "outputs": [
    {
     "data": {
      "text/plain": [
       "'World!'"
      ]
     },
     "execution_count": 26,
     "metadata": {},
     "output_type": "execute_result"
    }
   ],
   "source": [
    "g.capitalize()"
   ]
  },
  {
   "cell_type": "code",
   "execution_count": 28,
   "id": "ad053e41-c013-4e76-9954-c1ce7753128a",
   "metadata": {},
   "outputs": [
    {
     "data": {
      "text/plain": [
       "'world!'"
      ]
     },
     "execution_count": 28,
     "metadata": {},
     "output_type": "execute_result"
    }
   ],
   "source": [
    "g.lower()"
   ]
  },
  {
   "cell_type": "code",
   "execution_count": 45,
   "id": "5041b882-c0c7-40ed-8d44-c87b5060d075",
   "metadata": {},
   "outputs": [
    {
     "data": {
      "text/plain": [
       "'Good evening Everyone'"
      ]
     },
     "execution_count": 45,
     "metadata": {},
     "output_type": "execute_result"
    }
   ],
   "source": [
    "s3=\"Good evening Everyone\"\n",
    "s3"
   ]
  },
  {
   "cell_type": "code",
   "execution_count": 36,
   "id": "8c5ba65e-696e-4c83-a639-0a6e2bd78332",
   "metadata": {},
   "outputs": [
    {
     "data": {
      "text/plain": [
       "'Good afternoon sam'"
      ]
     },
     "execution_count": 36,
     "metadata": {},
     "output_type": "execute_result"
    }
   ],
   "source": [
    "s3.replace(\"evening\",\"afternoon\") # mutable with replace"
   ]
  },
  {
   "cell_type": "code",
   "execution_count": 38,
   "id": "1da3fdea-6df8-40cc-99ba-430ff755e4fb",
   "metadata": {},
   "outputs": [
    {
     "data": {
      "text/plain": [
       "True"
      ]
     },
     "execution_count": 38,
     "metadata": {},
     "output_type": "execute_result"
    }
   ],
   "source": [
    "#membership function \n",
    "\"Good\" in s3 #case sensitive"
   ]
  },
  {
   "cell_type": "markdown",
   "id": "3b3af6e8-940c-4a6a-9881-031ac4746525",
   "metadata": {},
   "source": [
    "s3.replace(\"sam\", \"everyone\")\n",
    "s3"
   ]
  },
  {
   "cell_type": "code",
   "execution_count": 48,
   "id": "9eb0b9b9-0ee2-4b2c-8c20-c5070e6dec5d",
   "metadata": {},
   "outputs": [
    {
     "data": {
      "text/plain": [
       "'Good evening Everyone Hi my name is sam I am currently studying DADS\\nI would like to have a coffe\\nI am fond of art'"
      ]
     },
     "execution_count": 48,
     "metadata": {},
     "output_type": "execute_result"
    }
   ],
   "source": [
    "s5=s3+\"\"+s2\n",
    "s5"
   ]
  },
  {
   "cell_type": "code",
   "execution_count": 50,
   "id": "2f1ffba1-8b5d-47f4-bbf9-964ba06bc66a",
   "metadata": {},
   "outputs": [
    {
     "data": {
      "text/plain": [
       "114"
      ]
     },
     "execution_count": 50,
     "metadata": {},
     "output_type": "execute_result"
    }
   ],
   "source": [
    "len(s5)"
   ]
  },
  {
   "cell_type": "code",
   "execution_count": 52,
   "id": "4876df6e-507d-4666-b315-dea9759cb51a",
   "metadata": {},
   "outputs": [
    {
     "data": {
      "text/plain": [
       "'Good evening everyone hi my name is sam i am currently studying dads\\ni would like to have a coffe\\ni am fond of art'"
      ]
     },
     "execution_count": 52,
     "metadata": {},
     "output_type": "execute_result"
    }
   ],
   "source": [
    "s5.capitalize()"
   ]
  },
  {
   "cell_type": "markdown",
   "id": "ddb5d178-6193-4091-89e4-c118a5ceeb60",
   "metadata": {},
   "source": [
    "del s5[0] #type error since single element cannot be deleted"
   ]
  },
  {
   "cell_type": "markdown",
   "id": "d45034d7-cfd6-4de3-8d5c-c59b86a191df",
   "metadata": {},
   "source": [
    "del s5"
   ]
  },
  {
   "cell_type": "markdown",
   "id": "4537d8e4-b38f-43e8-96ea-736e6036b247",
   "metadata": {},
   "source": [
    "s5"
   ]
  },
  {
   "cell_type": "code",
   "execution_count": 59,
   "id": "e82386c0-ad03-420b-bbee-5f8927064fc1",
   "metadata": {},
   "outputs": [],
   "source": [
    "# dictionary\n",
    "# key value pairs\n",
    "# unordered ,mutable , collection of key value pairs\n",
    "#{}"
   ]
  },
  {
   "cell_type": "code",
   "execution_count": 61,
   "id": "2649df4f-8d84-424a-8dc3-9e103876c8d4",
   "metadata": {},
   "outputs": [
    {
     "data": {
      "text/plain": [
       "{'name': 'Sam', 'age': 22, 'city': 'Chennai', 'ph.no': '98272818'}"
      ]
     },
     "execution_count": 61,
     "metadata": {},
     "output_type": "execute_result"
    }
   ],
   "source": [
    "person={\"name\":\"Sam\",\"age\":22,\"city\":\"Chennai\",\"ph.no\":\"98272818\"}\n",
    "person"
   ]
  },
  {
   "cell_type": "code",
   "execution_count": 63,
   "id": "623a39ca-2608-4c54-92e9-03a94b10cd34",
   "metadata": {},
   "outputs": [
    {
     "data": {
      "text/plain": [
       "'Sam'"
      ]
     },
     "execution_count": 63,
     "metadata": {},
     "output_type": "execute_result"
    }
   ],
   "source": [
    "#accessing elements(key)\n",
    "person[\"name\"]"
   ]
  },
  {
   "cell_type": "code",
   "execution_count": 65,
   "id": "a5bde53e-be1c-47e5-b789-a6f5b80b7776",
   "metadata": {},
   "outputs": [
    {
     "ename": "KeyError",
     "evalue": "'Sam'",
     "output_type": "error",
     "traceback": [
      "\u001b[31m---------------------------------------------------------------------------\u001b[39m",
      "\u001b[31mKeyError\u001b[39m                                  Traceback (most recent call last)",
      "\u001b[36mCell\u001b[39m\u001b[36m \u001b[39m\u001b[32mIn[65]\u001b[39m\u001b[32m, line 1\u001b[39m\n\u001b[32m----> \u001b[39m\u001b[32m1\u001b[39m \u001b[43mperson\u001b[49m\u001b[43m[\u001b[49m\u001b[33;43m\"\u001b[39;49m\u001b[33;43mSam\u001b[39;49m\u001b[33;43m\"\u001b[39;49m\u001b[43m]\u001b[49m \u001b[38;5;66;03m# values (key value)\u001b[39;00m\n",
      "\u001b[31mKeyError\u001b[39m: 'Sam'"
     ]
    }
   ],
   "source": [
    "person[\"Sam\"] # values (key value)"
   ]
  },
  {
   "cell_type": "code",
   "execution_count": 70,
   "id": "18c9de4f-547b-4c7e-9bfe-305caf12db11",
   "metadata": {},
   "outputs": [
    {
     "data": {
      "text/plain": [
       "{'name': 'Sam',\n",
       " 'age': 22,\n",
       " 'city': 'Chennai',\n",
       " 'ph.no': '98272818',\n",
       " 'salary': 50000,\n",
       " 'email': 'sharmilathiru@gmail.com'}"
      ]
     },
     "execution_count": 70,
     "metadata": {},
     "output_type": "execute_result"
    }
   ],
   "source": [
    "person[\"salary\"]=50000  # add values\n",
    "person\n",
    "person[\"email\"]=\"sharmilathiru@gmail.com\"\n",
    "person"
   ]
  },
  {
   "cell_type": "code",
   "execution_count": 74,
   "id": "bd6763ee-8696-41f9-8f07-8f617d8efb8b",
   "metadata": {},
   "outputs": [
    {
     "data": {
      "text/plain": [
       "{'name': 'Sam',\n",
       " 'age': 30,\n",
       " 'city': 'Chennai',\n",
       " 'ph.no': '98272818',\n",
       " 'salary': 50000,\n",
       " 'email': 'sharmilathiru@gmail.com'}"
      ]
     },
     "execution_count": 74,
     "metadata": {},
     "output_type": "execute_result"
    }
   ],
   "source": [
    "person[\"age\"]=30\n",
    "person"
   ]
  },
  {
   "cell_type": "code",
   "execution_count": 77,
   "id": "18f72e99-6469-488d-a720-cad1ce2e62b9",
   "metadata": {},
   "outputs": [
    {
     "data": {
      "text/plain": [
       "dict_keys(['name', 'age', 'city', 'ph.no', 'salary', 'email'])"
      ]
     },
     "execution_count": 77,
     "metadata": {},
     "output_type": "execute_result"
    }
   ],
   "source": [
    "person.keys()"
   ]
  },
  {
   "cell_type": "code",
   "execution_count": 79,
   "id": "8b4a6be8-3d9f-4249-9e9a-6b0150cca47b",
   "metadata": {},
   "outputs": [
    {
     "data": {
      "text/plain": [
       "dict_values(['Sam', 30, 'Chennai', '98272818', 50000, 'sharmilathiru@gmail.com'])"
      ]
     },
     "execution_count": 79,
     "metadata": {},
     "output_type": "execute_result"
    }
   ],
   "source": [
    "person.values()"
   ]
  },
  {
   "cell_type": "code",
   "execution_count": 81,
   "id": "0c61cc50-5b22-4050-89d5-a830ce5481fb",
   "metadata": {},
   "outputs": [
    {
     "data": {
      "text/plain": [
       "dict_items([('name', 'Sam'), ('age', 30), ('city', 'Chennai'), ('ph.no', '98272818'), ('salary', 50000), ('email', 'sharmilathiru@gmail.com')])"
      ]
     },
     "execution_count": 81,
     "metadata": {},
     "output_type": "execute_result"
    }
   ],
   "source": [
    "person.items()"
   ]
  },
  {
   "cell_type": "code",
   "execution_count": 83,
   "id": "92cf8711-cb5b-454f-80c9-cbe44fa346fd",
   "metadata": {},
   "outputs": [
    {
     "ename": "KeyError",
     "evalue": "'ph.no'",
     "output_type": "error",
     "traceback": [
      "\u001b[31m---------------------------------------------------------------------------\u001b[39m",
      "\u001b[31mKeyError\u001b[39m                                  Traceback (most recent call last)",
      "\u001b[36mCell\u001b[39m\u001b[36m \u001b[39m\u001b[32mIn[83]\u001b[39m\u001b[32m, line 1\u001b[39m\n\u001b[32m----> \u001b[39m\u001b[32m1\u001b[39m \u001b[38;5;28;01mdel\u001b[39;00m \u001b[43mperson\u001b[49m\u001b[43m[\u001b[49m\u001b[33;43m\"\u001b[39;49m\u001b[33;43mph.no\u001b[39;49m\u001b[33;43m\"\u001b[39;49m\u001b[43m]\u001b[49m\n",
      "\u001b[31mKeyError\u001b[39m: 'ph.no'"
     ]
    }
   ],
   "source": [
    "del person[\"ph.no\"] # item deletion using key"
   ]
  },
  {
   "cell_type": "code",
   "execution_count": 85,
   "id": "b17ee298-9922-4921-a049-c6af4bebddae",
   "metadata": {},
   "outputs": [
    {
     "data": {
      "text/plain": [
       "{'name': 'Sam',\n",
       " 'age': 30,\n",
       " 'city': 'Chennai',\n",
       " 'salary': 50000,\n",
       " 'email': 'sharmilathiru@gmail.com'}"
      ]
     },
     "execution_count": 85,
     "metadata": {},
     "output_type": "execute_result"
    }
   ],
   "source": [
    "person"
   ]
  },
  {
   "cell_type": "code",
   "execution_count": 88,
   "id": "9c9e8be9-19bb-4a89-b8ff-844f9b388360",
   "metadata": {},
   "outputs": [
    {
     "ename": "KeyError",
     "evalue": "'age'",
     "output_type": "error",
     "traceback": [
      "\u001b[31m---------------------------------------------------------------------------\u001b[39m",
      "\u001b[31mKeyError\u001b[39m                                  Traceback (most recent call last)",
      "\u001b[36mCell\u001b[39m\u001b[36m \u001b[39m\u001b[32mIn[88]\u001b[39m\u001b[32m, line 1\u001b[39m\n\u001b[32m----> \u001b[39m\u001b[32m1\u001b[39m \u001b[43mperson\u001b[49m\u001b[43m.\u001b[49m\u001b[43mpop\u001b[49m\u001b[43m(\u001b[49m\u001b[33;43m\"\u001b[39;49m\u001b[33;43mage\u001b[39;49m\u001b[33;43m\"\u001b[39;49m\u001b[43m)\u001b[49m \u001b[38;5;66;03m# pop \u001b[39;00m\n",
      "\u001b[31mKeyError\u001b[39m: 'age'"
     ]
    }
   ],
   "source": [
    "person.pop(\"age\") # pop "
   ]
  },
  {
   "cell_type": "code",
   "execution_count": 90,
   "id": "e954eda6-5f65-49cf-ad43-6f5d2c7dc9c2",
   "metadata": {},
   "outputs": [
    {
     "data": {
      "text/plain": [
       "{'name': 'Sam',\n",
       " 'city': 'Chennai',\n",
       " 'salary': 50000,\n",
       " 'email': 'sharmilathiru@gmail.com'}"
      ]
     },
     "execution_count": 90,
     "metadata": {},
     "output_type": "execute_result"
    }
   ],
   "source": [
    "person"
   ]
  },
  {
   "cell_type": "code",
   "execution_count": 93,
   "id": "ccba26cb-3372-4c3b-bec9-c4693eadfd5b",
   "metadata": {},
   "outputs": [],
   "source": [
    "person.clear() # to clear all items to create an empty dictionary"
   ]
  },
  {
   "cell_type": "code",
   "execution_count": 95,
   "id": "4cace0a6-65ca-4d27-b05d-5e73a5b66eef",
   "metadata": {},
   "outputs": [
    {
     "data": {
      "text/plain": [
       "{}"
      ]
     },
     "execution_count": 95,
     "metadata": {},
     "output_type": "execute_result"
    }
   ],
   "source": [
    "person"
   ]
  },
  {
   "cell_type": "code",
   "execution_count": 97,
   "id": "15b10b1f-c4a0-4b33-8288-6e0aa52d6d27",
   "metadata": {},
   "outputs": [],
   "source": [
    "del person"
   ]
  },
  {
   "cell_type": "raw",
   "id": "9dbddf82-e541-48e7-8886-7682392c71ff",
   "metadata": {},
   "source": [
    "person"
   ]
  },
  {
   "cell_type": "code",
   "execution_count": 99,
   "id": "63f4ea7b-4d4f-4b1f-bfa6-c9e9ed99124a",
   "metadata": {},
   "outputs": [],
   "source": [
    "#set\n",
    "#builtin data structures\n",
    "#stores unique unordered elements"
   ]
  },
  {
   "cell_type": "code",
   "execution_count": 101,
   "id": "aaecf77b-4ecc-4069-9ae6-76ba4fc670f8",
   "metadata": {},
   "outputs": [
    {
     "data": {
      "text/plain": [
       "set"
      ]
     },
     "execution_count": 101,
     "metadata": {},
     "output_type": "execute_result"
    }
   ],
   "source": [
    "j={1,2,3,4,5,6}\n",
    "type(j)"
   ]
  },
  {
   "cell_type": "code",
   "execution_count": 103,
   "id": "4b6c8a32-15a9-4753-b762-8096a8fc7d1e",
   "metadata": {},
   "outputs": [
    {
     "data": {
      "text/plain": [
       "dict"
      ]
     },
     "execution_count": 103,
     "metadata": {},
     "output_type": "execute_result"
    }
   ],
   "source": [
    "j1={}\n",
    "type(j1)"
   ]
  },
  {
   "cell_type": "code",
   "execution_count": 105,
   "id": "2c283f75-cf04-470e-9204-4f73d3b36879",
   "metadata": {},
   "outputs": [
    {
     "data": {
      "text/plain": [
       "set"
      ]
     },
     "execution_count": 105,
     "metadata": {},
     "output_type": "execute_result"
    }
   ],
   "source": [
    "j2=set()\n",
    "type(j2)"
   ]
  },
  {
   "cell_type": "code",
   "execution_count": 109,
   "id": "94b18b93-acac-43fb-9d47-620730413077",
   "metadata": {},
   "outputs": [],
   "source": [
    "j.add(7)"
   ]
  },
  {
   "cell_type": "code",
   "execution_count": 111,
   "id": "ff63ca82-8b2b-4de3-9a20-468a547406d5",
   "metadata": {},
   "outputs": [
    {
     "data": {
      "text/plain": [
       "{1, 2, 3, 4, 5, 6, 7}"
      ]
     },
     "execution_count": 111,
     "metadata": {},
     "output_type": "execute_result"
    }
   ],
   "source": [
    "j"
   ]
  },
  {
   "cell_type": "code",
   "execution_count": 114,
   "id": "d981e108-a061-466e-938a-f730aaacc3be",
   "metadata": {},
   "outputs": [
    {
     "data": {
      "text/plain": [
       "{1, 2, 3, 4, 5, 6, 7, 8, 10}"
      ]
     },
     "execution_count": 114,
     "metadata": {},
     "output_type": "execute_result"
    }
   ],
   "source": [
    "j.update([8,10]) # add multiple items and no repition is allowed/duplicates are not allowed\n",
    "j"
   ]
  },
  {
   "cell_type": "code",
   "execution_count": 117,
   "id": "586eeca9-9b04-411e-b4bb-d3a34e86c678",
   "metadata": {},
   "outputs": [
    {
     "data": {
      "text/plain": [
       "{1, 2, 3, 4, 5, 6, 7, 8, 9, 10}"
      ]
     },
     "execution_count": 117,
     "metadata": {},
     "output_type": "execute_result"
    }
   ],
   "source": [
    "j.update([9,10])\n",
    "j"
   ]
  },
  {
   "cell_type": "code",
   "execution_count": 121,
   "id": "943b9034-93aa-4ac4-99a4-4c7d1ab60256",
   "metadata": {},
   "outputs": [
    {
     "data": {
      "text/plain": [
       "{2, 3, 4, 5, 6, 7, 8, 9}"
      ]
     },
     "execution_count": 121,
     "metadata": {},
     "output_type": "execute_result"
    }
   ],
   "source": [
    "j.remove(1)\n",
    "j"
   ]
  },
  {
   "cell_type": "code",
   "execution_count": 122,
   "id": "8f5d65dc-afd2-40c0-8118-18e002421744",
   "metadata": {},
   "outputs": [],
   "source": [
    "n={1,2,3,4,5,10}\n",
    "m={1,4,3,8,9,11}\n"
   ]
  },
  {
   "cell_type": "code",
   "execution_count": 126,
   "id": "55cf9a33-16a9-42aa-bfff-231035f334c0",
   "metadata": {},
   "outputs": [
    {
     "data": {
      "text/plain": [
       "{1, 2, 3, 4, 5, 8, 9, 10, 11}"
      ]
     },
     "execution_count": 126,
     "metadata": {},
     "output_type": "execute_result"
    }
   ],
   "source": [
    "o=n.union(m)\n",
    "o\n",
    "# or\n",
    "f=n|m\n",
    "f"
   ]
  },
  {
   "cell_type": "code",
   "execution_count": 133,
   "id": "7bdc688b-55a7-4b06-9349-5f648e9a7ab1",
   "metadata": {},
   "outputs": [
    {
     "data": {
      "text/plain": [
       "{1, 3, 4}"
      ]
     },
     "execution_count": 133,
     "metadata": {},
     "output_type": "execute_result"
    }
   ],
   "source": [
    "#intersection\n",
    "g=n&m\n",
    "g\n",
    "#or\n",
    "h=n.intersection(m)\n",
    "h"
   ]
  },
  {
   "cell_type": "code",
   "execution_count": 135,
   "id": "037f3479-9153-4318-ba0b-d39367c1405a",
   "metadata": {},
   "outputs": [
    {
     "data": {
      "text/plain": [
       "{2, 5, 10}"
      ]
     },
     "execution_count": 135,
     "metadata": {},
     "output_type": "execute_result"
    }
   ],
   "source": [
    "#dsifference\n",
    "#a-b!=b-a\n",
    "i=n-m\n",
    "i"
   ]
  },
  {
   "cell_type": "code",
   "execution_count": 136,
   "id": "fdecb587-08b6-42fd-807d-388ecf29561b",
   "metadata": {},
   "outputs": [
    {
     "data": {
      "text/plain": [
       "{8, 9, 11}"
      ]
     },
     "execution_count": 136,
     "metadata": {},
     "output_type": "execute_result"
    }
   ],
   "source": [
    "k=m-n\n",
    "k "
   ]
  }
 ],
 "metadata": {
  "kernelspec": {
   "display_name": "Python 3 (ipykernel)",
   "language": "python",
   "name": "python3"
  },
  "language_info": {
   "codemirror_mode": {
    "name": "ipython",
    "version": 3
   },
   "file_extension": ".py",
   "mimetype": "text/x-python",
   "name": "python",
   "nbconvert_exporter": "python",
   "pygments_lexer": "ipython3",
   "version": "3.13.2"
  }
 },
 "nbformat": 4,
 "nbformat_minor": 5
}
