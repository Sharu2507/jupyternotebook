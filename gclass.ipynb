{
 "cells": [
  {
   "cell_type": "code",
   "execution_count": 2,
   "id": "2b9b13f5-b841-42a8-95b3-b00bc79dff22",
   "metadata": {},
   "outputs": [
    {
     "name": "stdout",
     "output_type": "stream",
     "text": [
      "20% discount\n"
     ]
    }
   ],
   "source": [
    "# if condition\n",
    "\n",
    "order = 1000\n",
    "day =\"sat\"\n",
    "membership =\"Gold\"\n",
    "if (order>=1000 and day in [\"sat\" ,\"sun\"]) or membership == \"Gold\":\n",
    "    print(\"20% discount\")\n",
    "else:\n",
    "    print(\"10% discount\")"
   ]
  },
  {
   "cell_type": "code",
   "execution_count": 3,
   "id": "4b93dd99-1eb7-4347-8f1b-d76117f066ac",
   "metadata": {},
   "outputs": [
    {
     "data": {
      "text/plain": [
       "'\\nfor loop iterates for a particular range and no condition is required to ruyn\\nwhile loop iterates until the condition satisfies and condition is required\\n\\n'"
      ]
     },
     "execution_count": 3,
     "metadata": {},
     "output_type": "execute_result"
    }
   ],
   "source": [
    "# d/w for and while\n",
    "\"\"\"\n",
    "for loop iterates for a particular range and no condition is required to run\n",
    "while loop iterates until the condition satisfies and condition is required\n",
    "\n",
    "\"\"\"\n",
    "# break (breaks at particular place)\n",
    "# continue (skip the value and continuw with others)\n"
   ]
  },
  {
   "cell_type": "code",
   "execution_count": 5,
   "id": "eda6b904-a885-411e-be2f-4856fba40f33",
   "metadata": {},
   "outputs": [
    {
     "name": "stdout",
     "output_type": "stream",
     "text": [
      "1\n",
      "2\n",
      "3\n",
      "4\n",
      "6\n",
      "7\n",
      "8\n"
     ]
    }
   ],
   "source": [
    "li = [1,2,3,4,6,7,8,5,10]\n",
    "for i in li:\n",
    "    if i==5:\n",
    "        break\n",
    "    print(i)"
   ]
  },
  {
   "cell_type": "code",
   "execution_count": 7,
   "id": "26befcc5-7e2d-4d83-b4b2-1f6a5667584e",
   "metadata": {},
   "outputs": [
    {
     "name": "stdout",
     "output_type": "stream",
     "text": [
      "1\n",
      "2\n",
      "3\n",
      "4\n",
      "6\n",
      "7\n",
      "8\n",
      "10\n"
     ]
    }
   ],
   "source": [
    "li = [1,2,3,4,6,7,8,5,10]\n",
    "for i in li:\n",
    "    if i==5:\n",
    "        continue\n",
    "    print(i)"
   ]
  },
  {
   "cell_type": "code",
   "execution_count": 11,
   "id": "1d7f9e2f-c3cd-4755-8717-fb5ffb80cf8f",
   "metadata": {},
   "outputs": [
    {
     "name": "stdout",
     "output_type": "stream",
     "text": [
      "[-1, -4]\n",
      "[1, 2, 3, 4]\n"
     ]
    }
   ],
   "source": [
    "a = [1,2,-1,3,4,-4]\n",
    "negative_vals=[]\n",
    "positive_vals=[]\n",
    "for i in a:\n",
    "    if i>0:\n",
    "        positive_vals.append(i)\n",
    "        continue   # continue skips that value \n",
    "    negative_vals.append(i)\n",
    "print(negative_vals)\n",
    "print(positive_vals)"
   ]
  },
  {
   "cell_type": "code",
   "execution_count": 13,
   "id": "24eb0cbd-1596-4200-a431-25622171aeb3",
   "metadata": {},
   "outputs": [],
   "source": [
    "# pass is a place holder (future logic) , still the code runs\n",
    "for i in a:\n",
    "    if i>0:\n",
    "       pass"
   ]
  },
  {
   "cell_type": "code",
   "execution_count": 16,
   "id": "fa3a7ed9-e828-4726-9e81-b130d176d996",
   "metadata": {},
   "outputs": [
    {
     "name": "stdout",
     "output_type": "stream",
     "text": [
      "Countdown:5\n",
      "Countdown:4\n",
      "Countdown:3\n",
      "Countdown:2\n",
      "Countdown:1\n",
      "Times up\n"
     ]
    }
   ],
   "source": [
    "count=5\n",
    "while count >0:\n",
    "    print(f\"Countdown:{count}\")\n",
    "    count-=1\n",
    "print(\"Times up\")"
   ]
  },
  {
   "cell_type": "code",
   "execution_count": 22,
   "id": "43bd5e67-bbda-4d32-bc95-825a4304b183",
   "metadata": {},
   "outputs": [
    {
     "name": "stdin",
     "output_type": "stream",
     "text": [
      "Add item 1( Type done to finish ): c\n",
      "Add item 2( Type done to finish ): done\n"
     ]
    },
    {
     "name": "stdout",
     "output_type": "stream",
     "text": [
      "['c']\n"
     ]
    }
   ],
   "source": [
    "# while true (no condition and the loop starts without condition and runs infinitely unless a check is given)\n",
    "items =[]\n",
    "count=1\n",
    "while True:\n",
    "    item = input (f\"Add item {count}( Type done to finish ):\")\n",
    "    count+=1\n",
    "    if item.lower()==\"done\":\n",
    "        break\n",
    "    items.append(item)\n",
    "print(items)"
   ]
  },
  {
   "cell_type": "code",
   "execution_count": null,
   "id": "d05c8dfe-cfc2-4e86-a257-266d3da100f3",
   "metadata": {},
   "outputs": [],
   "source": [
    "# functions are reusable code \n",
    "# eg. upper()\n",
    "# the code for upper is already printed in a function\n",
    "# Thus we are using it repeated"
   ]
  },
  {
   "cell_type": "code",
   "execution_count": 24,
   "id": "e0c77896-cdd4-463b-9484-fb37d667a2be",
   "metadata": {},
   "outputs": [
    {
     "name": "stdout",
     "output_type": "stream",
     "text": [
      "Hi welcome\n"
     ]
    }
   ],
   "source": [
    "def greet():\n",
    "    print(\"Hi welcome\")\n",
    "greet()\n"
   ]
  },
  {
   "cell_type": "code",
   "execution_count": 26,
   "id": "b72e9be8-5f67-4cf6-9901-db6efef6c6ef",
   "metadata": {},
   "outputs": [
    {
     "name": "stdout",
     "output_type": "stream",
     "text": [
      " Hi Sharm , Welcome to coding world \n"
     ]
    }
   ],
   "source": [
    "# function with arguments (argumest are input given to the function)\n",
    "def greet(name):\n",
    "    print(f\" Hi {name} , Welcome to coding world \")\n",
    "greet(\"Sharm\")"
   ]
  },
  {
   "cell_type": "code",
   "execution_count": 28,
   "id": "d1ce6d1c-8f97-43fd-b59f-665462bb8c92",
   "metadata": {},
   "outputs": [
    {
     "name": "stdout",
     "output_type": "stream",
     "text": [
      "16\n"
     ]
    }
   ],
   "source": [
    "def add(a,b):\n",
    "    print(a+b)\n",
    "add(7,9)\n"
   ]
  },
  {
   "cell_type": "code",
   "execution_count": 35,
   "id": "1e38989a-e79c-4313-a00e-edad77e19859",
   "metadata": {},
   "outputs": [
    {
     "name": "stdout",
     "output_type": "stream",
     "text": [
      "5\n"
     ]
    }
   ],
   "source": [
    "# return is used only when you want to return the answer to another variable\n",
    "def add(a,b):\n",
    "    return(a+b)\n",
    "result=add(2,3)\n",
    "print(result)"
   ]
  },
  {
   "cell_type": "code",
   "execution_count": 1,
   "id": "4f9bb61c-48e9-4bf6-afe0-a454e5062a87",
   "metadata": {},
   "outputs": [],
   "source": [
    "# use the function created in another file\n",
    "# use from (file name) import (function name)\n",
    "# eg. from test.py import add\n"
   ]
  },
  {
   "cell_type": "code",
   "execution_count": 3,
   "id": "4e5b794b-f9bb-4d38-9629-4827a2f5d3be",
   "metadata": {},
   "outputs": [
    {
     "name": "stdout",
     "output_type": "stream",
     "text": [
      "10\n"
     ]
    }
   ],
   "source": [
    "# args \n",
    "# they are used to pass multiple arguments \n",
    "def add(*args):\n",
    "    total=0\n",
    "    for num in args:\n",
    "        total+=num\n",
    "    return total\n",
    "print(add(0,1,2,3,4))"
   ]
  },
  {
   "cell_type": "code",
   "execution_count": 6,
   "id": "8ec2b91b-392d-4f38-bdc9-d5cf73e6a112",
   "metadata": {},
   "outputs": [
    {
     "name": "stdout",
     "output_type": "stream",
     "text": [
      "User profile\n",
      "name:Sharu\n",
      "age:21\n",
      "job:data engineer\n"
     ]
    }
   ],
   "source": [
    "#kwargs\n",
    "#to pass key value pairs\n",
    "def create_profile(**kwargs):\n",
    "    print(\"User profile\")\n",
    "    for key, value in kwargs.items():\n",
    "        print(f\"{key}:{value}\")\n",
    "create_profile(name =\"Sharu\",age=21,job=\"data engineer\")\n"
   ]
  },
  {
   "cell_type": "code",
   "execution_count": 7,
   "id": "1d5d5e27-8fd0-471b-94cc-59268f45fc1d",
   "metadata": {},
   "outputs": [],
   "source": [
    "# lists\n",
    "# elements can be added in list\n",
    "# list are ordered (based on index)\n",
    "# mutable (can make changes in the list)\n",
    "# can have multiple data types"
   ]
  },
  {
   "cell_type": "code",
   "execution_count": 12,
   "id": "a62fedb5-70c4-4210-9d5b-ca4ccec90984",
   "metadata": {},
   "outputs": [
    {
     "name": "stdout",
     "output_type": "stream",
     "text": [
      "SPOTIFY PLAYLIST : ['Good for you', 'YAD', 'Summertime sadness', 'Young and beautiful', 'Cry for me']\n"
     ]
    },
    {
     "data": {
      "text/plain": [
       "['Good for you',\n",
       " 'YAD',\n",
       " 'Summertime sadness',\n",
       " 'Young and beautiful',\n",
       " 'Cry for me',\n",
       " 'Die with a smile']"
      ]
     },
     "execution_count": 12,
     "metadata": {},
     "output_type": "execute_result"
    }
   ],
   "source": [
    "# list methods\n",
    "# 1. APPEND\n",
    "pl=[\"Good for you\" ,\"YAD\" ,\"Summertime sadness\" ,\"Young and beautiful\",\"Cry for me\"] # original list is also changed and hence mutable\n",
    "print(\"SPOTIFY PLAYLIST :\" , pl)\n",
    "pl.append(\"Die with a smile\")\n",
    "pl"
   ]
  },
  {
   "cell_type": "code",
   "execution_count": 15,
   "id": "ff1c8543-ecb0-4074-a18b-56a898122159",
   "metadata": {},
   "outputs": [
    {
     "name": "stdout",
     "output_type": "stream",
     "text": [
      "After insert: ['Good for you', 'Harleys in Hawai', 'Harleys in Hawai', 'Harleys in Hawai', 'YAD', 'Summertime sadness', 'Young and beautiful', 'Cry for me', 'Die with a smile']\n"
     ]
    }
   ],
   "source": [
    "# 2. INSERT\n",
    "#b/w insert and append (append adds the element at the last always and insert adds an element in a particular position)\n",
    "# syntax : list.insert( position, insertion)\n",
    "pl.insert(1,\"Harleys in Hawai\")\n",
    "print(\"After insert:\", pl)"
   ]
  },
  {
   "cell_type": "markdown",
   "id": "cca02a2c-ff7b-498b-bdae-b0d5eb57972e",
   "metadata": {},
   "source": [
    "# 3. REMOVE\n",
    "pl.remove(\"Die with a smile\") # particular element\n",
    "print(\"After removing\")\n",
    "pl"
   ]
  },
  {
   "cell_type": "code",
   "execution_count": 21,
   "id": "a09c9040-3851-4b1a-a441-800f695e6372",
   "metadata": {},
   "outputs": [
    {
     "name": "stdout",
     "output_type": "stream",
     "text": [
      "After pop:\n",
      "['Good for you', 'Harleys in Hawai', 'Harleys in Hawai', 'Harleys in Hawai', 'YAD']\n"
     ]
    }
   ],
   "source": [
    "# 4. POP # last element \n",
    "pl.pop()\n",
    "print(\"After pop:\")\n",
    "print(pl)"
   ]
  },
  {
   "cell_type": "code",
   "execution_count": 24,
   "id": "222c8dbe-fa48-4464-992d-7eb842796058",
   "metadata": {},
   "outputs": [
    {
     "name": "stdout",
     "output_type": "stream",
     "text": [
      "['Harleys in Hawai', 'Harleys in Hawai', 'YAD']\n"
     ]
    }
   ],
   "source": [
    "pl.pop(0) # index pop\n",
    "print(pl)"
   ]
  },
  {
   "cell_type": "code",
   "execution_count": 29,
   "id": "9ac2064e-e3da-4402-8970-173ecb278d08",
   "metadata": {},
   "outputs": [
    {
     "name": "stdout",
     "output_type": "stream",
     "text": [
      "['Cry for me', 'Young and beautiful', 'Summertime sadness', 'YAD', 'Good for you']\n"
     ]
    }
   ],
   "source": [
    "# REVERSE\n",
    "pl = [\"Good for you\" ,\"YAD\" ,\"Summertime sadness\" ,\"Young and beautiful\",\"Cry for me\"]\n",
    "pl.reverse()\n",
    "print(pl)"
   ]
  },
  {
   "cell_type": "code",
   "execution_count": 37,
   "id": "4c7bc3d1-8481-4cd9-93f3-c390b9633723",
   "metadata": {},
   "outputs": [
    {
     "name": "stdout",
     "output_type": "stream",
     "text": [
      "['Cry for me', 'Young and beautiful', 'Summertime sadness', 'YAD', 'Good for you']\n"
     ]
    }
   ],
   "source": [
    "print(pl)"
   ]
  },
  {
   "cell_type": "code",
   "execution_count": 31,
   "id": "5a344ba5-6c90-4e66-8b78-3d4271328764",
   "metadata": {},
   "outputs": [
    {
     "name": "stdout",
     "output_type": "stream",
     "text": [
      "1\n"
     ]
    }
   ],
   "source": [
    "print(pl.count(\"YAD\")) # to get the position "
   ]
  },
  {
   "cell_type": "code",
   "execution_count": 33,
   "id": "c01698a8-14d8-4438-8f29-b77af28bd114",
   "metadata": {},
   "outputs": [
    {
     "name": "stdout",
     "output_type": "stream",
     "text": [
      "Top 2 songs\n"
     ]
    },
    {
     "data": {
      "text/plain": [
       "['Cry for me', 'Young and beautiful']"
      ]
     },
     "execution_count": 33,
     "metadata": {},
     "output_type": "execute_result"
    }
   ],
   "source": [
    "# LIST SLICING # start: stop: step\n",
    "print(\"Top 2 songs\")\n",
    "pl[0:2]"
   ]
  },
  {
   "cell_type": "code",
   "execution_count": 39,
   "id": "666f585a-c738-41e7-9265-6a8eabe1f204",
   "metadata": {},
   "outputs": [
    {
     "name": "stdout",
     "output_type": "stream",
     "text": [
      "LAst two locations\n"
     ]
    },
    {
     "data": {
      "text/plain": [
       "['YAD', 'Good for you']"
      ]
     },
     "execution_count": 39,
     "metadata": {},
     "output_type": "execute_result"
    }
   ],
   "source": [
    "print(\"LAst two locations\")\n",
    "pl[-2:]"
   ]
  },
  {
   "cell_type": "code",
   "execution_count": 41,
   "id": "d0476d8f-eb83-44ee-824c-cd5b97fc740b",
   "metadata": {},
   "outputs": [
    {
     "name": "stdout",
     "output_type": "stream",
     "text": [
      "Briyani\n",
      "paneer tikka\n",
      "Alfaham chicken\n",
      "Paneer Butter masala\n"
     ]
    }
   ],
   "source": [
    "# LIST ITERATION\n",
    "food = [\"Briyani\" ,\"paneer tikka\" , \"Alfaham chicken\" , \"Paneer Butter masala\"]\n",
    "for f in food:\n",
    "    print(f)"
   ]
  },
  {
   "cell_type": "code",
   "execution_count": 70,
   "id": "409e19b3-4764-4afd-b556-4e24c223fedc",
   "metadata": {},
   "outputs": [
    {
     "name": "stdout",
     "output_type": "stream",
     "text": [
      "<generator object <genexpr> at 0x000002691AF27ED0>\n"
     ]
    }
   ],
   "source": [
    "singer = [\"Weeknd\" ,\"Lana del Rey\" ,\"Lana Del Rey\" ,\"Vanna Rainella\" ,\"Selena Gomez\"]\n",
    "art = []\n",
    "art.append(pl)\n",
    "art.append(singer)\n",
    "songs=print( art[0] for i in art)\n",
    " "
   ]
  }
 ],
 "metadata": {
  "kernelspec": {
   "display_name": "Python 3 (ipykernel)",
   "language": "python",
   "name": "python3"
  },
  "language_info": {
   "codemirror_mode": {
    "name": "ipython",
    "version": 3
   },
   "file_extension": ".py",
   "mimetype": "text/x-python",
   "name": "python",
   "nbconvert_exporter": "python",
   "pygments_lexer": "ipython3",
   "version": "3.13.2"
  }
 },
 "nbformat": 4,
 "nbformat_minor": 5
}
