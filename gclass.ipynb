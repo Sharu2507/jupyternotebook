{
 "cells": [
  {
   "cell_type": "code",
   "execution_count": 2,
   "id": "2b9b13f5-b841-42a8-95b3-b00bc79dff22",
   "metadata": {},
   "outputs": [
    {
     "name": "stdout",
     "output_type": "stream",
     "text": [
      "20% discount\n"
     ]
    }
   ],
   "source": [
    "# if condition\n",
    "\n",
    "order = 1000\n",
    "day =\"sat\"\n",
    "membership =\"Gold\"\n",
    "if (order>=1000 and day in [\"sat\" ,\"sun\"]) or membership == \"Gold\":\n",
    "    print(\"20% discount\")\n",
    "else:\n",
    "    print(\"10% discount\")"
   ]
  },
  {
   "cell_type": "code",
   "execution_count": 3,
   "id": "4b93dd99-1eb7-4347-8f1b-d76117f066ac",
   "metadata": {},
   "outputs": [
    {
     "data": {
      "text/plain": [
       "'\\nfor loop iterates for a particular range and no condition is required to ruyn\\nwhile loop iterates until the condition satisfies and condition is required\\n\\n'"
      ]
     },
     "execution_count": 3,
     "metadata": {},
     "output_type": "execute_result"
    }
   ],
   "source": [
    "# d/w for and while\n",
    "\"\"\"\n",
    "for loop iterates for a particular range and no condition is required to ruyn\n",
    "while loop iterates until the condition satisfies and condition is required\n",
    "\n",
    "\"\"\"\n",
    "# break (breaks at particular place)\n",
    "# continue (skip the value and continuw with others)\n"
   ]
  },
  {
   "cell_type": "code",
   "execution_count": 5,
   "id": "eda6b904-a885-411e-be2f-4856fba40f33",
   "metadata": {},
   "outputs": [
    {
     "name": "stdout",
     "output_type": "stream",
     "text": [
      "1\n",
      "2\n",
      "3\n",
      "4\n",
      "6\n",
      "7\n",
      "8\n"
     ]
    }
   ],
   "source": [
    "li = [1,2,3,4,6,7,8,5,10]\n",
    "for i in li:\n",
    "    if i==5:\n",
    "        break\n",
    "    print(i)"
   ]
  },
  {
   "cell_type": "code",
   "execution_count": 7,
   "id": "26befcc5-7e2d-4d83-b4b2-1f6a5667584e",
   "metadata": {},
   "outputs": [
    {
     "name": "stdout",
     "output_type": "stream",
     "text": [
      "1\n",
      "2\n",
      "3\n",
      "4\n",
      "6\n",
      "7\n",
      "8\n",
      "10\n"
     ]
    }
   ],
   "source": [
    "li = [1,2,3,4,6,7,8,5,10]\n",
    "for i in li:\n",
    "    if i==5:\n",
    "        continue\n",
    "    print(i)"
   ]
  },
  {
   "cell_type": "code",
   "execution_count": 11,
   "id": "1d7f9e2f-c3cd-4755-8717-fb5ffb80cf8f",
   "metadata": {},
   "outputs": [
    {
     "name": "stdout",
     "output_type": "stream",
     "text": [
      "[-1, -4]\n",
      "[1, 2, 3, 4]\n"
     ]
    }
   ],
   "source": [
    "a = [1,2,-1,3,4,-4]\n",
    "negative_vals=[]\n",
    "positive_vals=[]\n",
    "for i in a:\n",
    "    if i>0:\n",
    "        positive_vals.append(i)\n",
    "        continue   # continue skips that value \n",
    "    negative_vals.append(i)\n",
    "print(negative_vals)\n",
    "print(positive_vals)"
   ]
  },
  {
   "cell_type": "code",
   "execution_count": 13,
   "id": "24eb0cbd-1596-4200-a431-25622171aeb3",
   "metadata": {},
   "outputs": [],
   "source": [
    "# pass is a place holder (future logic) , still the code runs\n",
    "for i in a:\n",
    "    if i>0:\n",
    "       pass"
   ]
  },
  {
   "cell_type": "code",
   "execution_count": 16,
   "id": "fa3a7ed9-e828-4726-9e81-b130d176d996",
   "metadata": {},
   "outputs": [
    {
     "name": "stdout",
     "output_type": "stream",
     "text": [
      "Countdown:5\n",
      "Countdown:4\n",
      "Countdown:3\n",
      "Countdown:2\n",
      "Countdown:1\n",
      "Times up\n"
     ]
    }
   ],
   "source": [
    "count=5\n",
    "while count >0:\n",
    "    print(f\"Countdown:{count}\")\n",
    "    count-=1\n",
    "print(\"Times up\")"
   ]
  },
  {
   "cell_type": "code",
   "execution_count": 22,
   "id": "43bd5e67-bbda-4d32-bc95-825a4304b183",
   "metadata": {},
   "outputs": [
    {
     "name": "stdin",
     "output_type": "stream",
     "text": [
      "Add item 1( Type done to finish ): c\n",
      "Add item 2( Type done to finish ): done\n"
     ]
    },
    {
     "name": "stdout",
     "output_type": "stream",
     "text": [
      "['c']\n"
     ]
    }
   ],
   "source": [
    "# while true (no condition and the loop starts without condition and runs infinitely unless a check is given)\n",
    "items =[]\n",
    "count=1\n",
    "while True:\n",
    "    item = input (f\"Add item {count}( Type done to finish ):\")\n",
    "    count+=1\n",
    "    if item.lower()==\"done\":\n",
    "        break\n",
    "    items.append(item)\n",
    "print(items)"
   ]
  },
  {
   "cell_type": "code",
   "execution_count": null,
   "id": "d05c8dfe-cfc2-4e86-a257-266d3da100f3",
   "metadata": {},
   "outputs": [],
   "source": [
    "# functions are reusable code \n",
    "# eg. upper()\n",
    "# the code for upper is already printed in a function\n",
    "# Thus we are using it repeated"
   ]
  },
  {
   "cell_type": "code",
   "execution_count": 24,
   "id": "e0c77896-cdd4-463b-9484-fb37d667a2be",
   "metadata": {},
   "outputs": [
    {
     "name": "stdout",
     "output_type": "stream",
     "text": [
      "Hi welcome\n"
     ]
    }
   ],
   "source": [
    "def greet():\n",
    "    print(\"Hi welcome\")\n",
    "greet()\n"
   ]
  },
  {
   "cell_type": "code",
   "execution_count": 26,
   "id": "b72e9be8-5f67-4cf6-9901-db6efef6c6ef",
   "metadata": {},
   "outputs": [
    {
     "name": "stdout",
     "output_type": "stream",
     "text": [
      " Hi Sharm , Welcome to coding world \n"
     ]
    }
   ],
   "source": [
    "# function with arguments (argumest are input given to the function)\n",
    "def greet(name):\n",
    "    print(f\" Hi {name} , Welcome to coding world \")\n",
    "greet(\"Sharm\")"
   ]
  },
  {
   "cell_type": "code",
   "execution_count": 28,
   "id": "d1ce6d1c-8f97-43fd-b59f-665462bb8c92",
   "metadata": {},
   "outputs": [
    {
     "name": "stdout",
     "output_type": "stream",
     "text": [
      "16\n"
     ]
    }
   ],
   "source": [
    "def add(a,b):\n",
    "    print(a+b)\n",
    "add(7,9)\n"
   ]
  },
  {
   "cell_type": "code",
   "execution_count": 35,
   "id": "1e38989a-e79c-4313-a00e-edad77e19859",
   "metadata": {},
   "outputs": [
    {
     "name": "stdout",
     "output_type": "stream",
     "text": [
      "5\n"
     ]
    }
   ],
   "source": [
    "# return is used only when you want to return the answer to another variable\n",
    "def add(a,b):\n",
    "    return(a+b)\n",
    "result=add(2,3)\n",
    "print(result)"
   ]
  },
  {
   "cell_type": "code",
   "execution_count": 1,
   "id": "4f9bb61c-48e9-4bf6-afe0-a454e5062a87",
   "metadata": {},
   "outputs": [
    {
     "ename": "NameError",
     "evalue": "name 'np' is not defined",
     "output_type": "error",
     "traceback": [
      "\u001b[31m---------------------------------------------------------------------------\u001b[39m",
      "\u001b[31mNameError\u001b[39m                                 Traceback (most recent call last)",
      "\u001b[36mCell\u001b[39m\u001b[36m \u001b[39m\u001b[32mIn[1]\u001b[39m\u001b[32m, line 4\u001b[39m\n\u001b[32m      1\u001b[39m \u001b[38;5;66;03m# use the function created in another file\u001b[39;00m\n\u001b[32m      2\u001b[39m \u001b[38;5;66;03m# use from (file name) import (function name)\u001b[39;00m\n\u001b[32m      3\u001b[39m \u001b[38;5;66;03m# eg. from test.py import add\u001b[39;00m\n\u001b[32m----> \u001b[39m\u001b[32m4\u001b[39m n= \u001b[43mnp\u001b[49m.array([\u001b[32m1\u001b[39m,\u001b[32m2\u001b[39m,\u001b[32m3\u001b[39m])\n\u001b[32m      5\u001b[39m \u001b[38;5;28mprint\u001b[39m(n)\n",
      "\u001b[31mNameError\u001b[39m: name 'np' is not defined"
     ]
    }
   ],
   "source": [
    "# use the function created in another file\n",
    "# use from (file name) import (function name)\n",
    "# eg. from test.py import add\n"
   ]
  }
 ],
 "metadata": {
  "kernelspec": {
   "display_name": "Python 3 (ipykernel)",
   "language": "python",
   "name": "python3"
  },
  "language_info": {
   "codemirror_mode": {
    "name": "ipython",
    "version": 3
   },
   "file_extension": ".py",
   "mimetype": "text/x-python",
   "name": "python",
   "nbconvert_exporter": "python",
   "pygments_lexer": "ipython3",
   "version": "3.13.2"
  }
 },
 "nbformat": 4,
 "nbformat_minor": 5
}
